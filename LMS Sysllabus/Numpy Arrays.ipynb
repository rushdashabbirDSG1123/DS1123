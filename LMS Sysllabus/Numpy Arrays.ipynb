{
 "cells": [
  {
   "cell_type": "markdown",
   "id": "0a0c61d6",
   "metadata": {},
   "source": [
    "# Numpy arrays"
   ]
  },
  {
   "cell_type": "code",
   "execution_count": 4,
   "id": "2c5b9b9b",
   "metadata": {},
   "outputs": [],
   "source": [
    "import numpy as np\n",
    "import random\n",
    "from random import randint as ri"
   ]
  },
  {
   "cell_type": "code",
   "execution_count": 2,
   "id": "e3bf3106",
   "metadata": {},
   "outputs": [
    {
     "name": "stdout",
     "output_type": "stream",
     "text": [
      "[ 5  9 13]\n",
      "<class 'list'>\n"
     ]
    }
   ],
   "source": [
    "#ccreating array\n",
    "a=np.array([5,9,13])\n",
    "print(a)\n",
    "print(type([5,9,13]))"
   ]
  },
  {
   "cell_type": "code",
   "execution_count": 3,
   "id": "68d15517",
   "metadata": {},
   "outputs": [
    {
     "name": "stdout",
     "output_type": "stream",
     "text": [
      "[1, 2, 3, 4, 5, 6, 7, 8, 9, 10, 2, 3, 4, 5, 6]\n",
      "type- <class 'list'>\n",
      "B1 [ 1  2  3  4  5  6  7  8  9 10  2  3  4  5  6]\n",
      "array dType- int32\n"
     ]
    }
   ],
   "source": [
    "#convert list into array\n",
    "b=([1,2,3,4,5,6,7,8,9,10,2,3,4,5,6])\n",
    "print(b)\n",
    "print(\"type-\",type(b))\n",
    "#print(\"data Type-\",bb.dtype) # its shown error because its not array its list \n",
    "#now convert into array\n",
    "b1=np.array(b)\n",
    "print(\"B1\",b1)\n",
    "print(\"array dType-\",b1.dtype)"
   ]
  },
  {
   "cell_type": "code",
   "execution_count": 4,
   "id": "e8fc55da",
   "metadata": {},
   "outputs": [
    {
     "name": "stdout",
     "output_type": "stream",
     "text": [
      "Type- int32\n",
      "\n",
      " [[1 2 3]\n",
      " [4 5 6]\n",
      " [7 8 9]]\n",
      "<class 'numpy.ndarray'>\n"
     ]
    }
   ],
   "source": [
    "#two dimention arrays\n",
    "c=np.array([[1,2,3],[4,5,6],[7,8,9]])\n",
    "\n",
    "print(\"Type-\",c.dtype)\n",
    "print('\\n',c)\n",
    "print(type(c))"
   ]
  },
  {
   "cell_type": "code",
   "execution_count": 5,
   "id": "8eedfef8",
   "metadata": {},
   "outputs": [
    {
     "data": {
      "text/plain": [
       "array([1., 2., 3.])"
      ]
     },
     "execution_count": 5,
     "metadata": {},
     "output_type": "execute_result"
    }
   ],
   "source": [
    "#data type conversion\n",
    "d=np.array([1,2,3],dtype=float)\n",
    "d"
   ]
  },
  {
   "cell_type": "code",
   "execution_count": 6,
   "id": "f9ffd97b",
   "metadata": {},
   "outputs": [
    {
     "data": {
      "text/plain": [
       "array([ 1.,  2.,  3.,  4.,  5.,  6.,  7.,  8.,  9., 10.,  2.,  3.,  4.,\n",
       "        5.,  6.])"
      ]
     },
     "execution_count": 6,
     "metadata": {},
     "output_type": "execute_result"
    }
   ],
   "source": [
    "e=np.array(b,dtype=float)\n",
    "e"
   ]
  },
  {
   "cell_type": "markdown",
   "id": "8952c11b",
   "metadata": {},
   "source": [
    "# creating array using matrix mat\n",
    "it mean we can create array with multiple rows and columns by using np.mat function"
   ]
  },
  {
   "cell_type": "code",
   "execution_count": 7,
   "id": "fc8dc39c",
   "metadata": {},
   "outputs": [
    {
     "name": "stdout",
     "output_type": "stream",
     "text": [
      "int32\n",
      "<class 'numpy.ndarray'>\n",
      "[[123]\n",
      " [345]]\n"
     ]
    }
   ],
   "source": [
    "f= np.array(np.mat('123;345'))\n",
    "print(f.dtype)\n",
    "print(type(f))\n",
    "print(f)"
   ]
  },
  {
   "cell_type": "code",
   "execution_count": 8,
   "id": "6f50ea91",
   "metadata": {},
   "outputs": [
    {
     "data": {
      "text/plain": [
       "array([ 5,  9, 13])"
      ]
     },
     "execution_count": 8,
     "metadata": {},
     "output_type": "execute_result"
    }
   ],
   "source": [
    "#copy array into others use asarray\n",
    "g=np.asarray(a)\n",
    "g"
   ]
  },
  {
   "cell_type": "code",
   "execution_count": 9,
   "id": "708eacb8",
   "metadata": {},
   "outputs": [
    {
     "name": "stdout",
     "output_type": "stream",
     "text": [
      "[[1, 2, 3], [4, 5, 6], [8, 7, 5]]\n",
      "Type/Class of this Object: <class 'numpy.ndarray'>\n"
     ]
    }
   ],
   "source": [
    "my_mat=([[1,2,3],[4,5,6],[8,7,5]])\n",
    "print(my_mat)\n",
    "mat=np.array(my_mat)\n",
    "print(\"Type/Class of this Object:\",type(mat))"
   ]
  },
  {
   "cell_type": "code",
   "execution_count": 10,
   "id": "726973d3",
   "metadata": {},
   "outputs": [
    {
     "name": "stdout",
     "output_type": "stream",
     "text": [
      "Here is the matrix \n",
      "------\n",
      " [[1 2 3]\n",
      " [4 5 6]\n",
      " [8 7 5]] \n",
      "------\n",
      "Dimention of this matrix: 2\n",
      "Size of matrix: 9\n",
      "Shape of Mtrix: (3, 3)\n",
      "datatype of matrix: int32\n"
     ]
    }
   ],
   "source": [
    "print(\"Here is the matrix \\n------\\n\",mat,\"\\n------\")\n",
    "# checxk dimention with ndim funtion\n",
    "print(\"Dimention of this matrix:\",mat.ndim,sep=\" \")\n",
    "# check size with size function its give total no. Elements\n",
    "print(\"Size of matrix:\",mat.size,sep=\" \")\n",
    "#WE can check shape also its tell rows and columns\n",
    "print(\"Shape of Mtrix:\",mat.shape)\n",
    "print(\"datatype of matrix:\",mat.dtype)"
   ]
  },
  {
   "cell_type": "markdown",
   "id": "eaccc5af",
   "metadata": {},
   "source": [
    "# Numpy array Linspace arange(), reverse"
   ]
  },
  {
   "cell_type": "code",
   "execution_count": 11,
   "id": "1b87804d",
   "metadata": {},
   "outputs": [
    {
     "ename": "TypeError",
     "evalue": "'float' object cannot be interpreted as an integer",
     "output_type": "error",
     "traceback": [
      "\u001b[1;31m---------------------------------------------------------------------------\u001b[0m",
      "\u001b[1;31mTypeError\u001b[0m                                 Traceback (most recent call last)",
      "Cell \u001b[1;32mIn[11], line 2\u001b[0m\n\u001b[0;32m      1\u001b[0m \u001b[38;5;66;03m# dont work with python range \u001b[39;00m\n\u001b[1;32m----> 2\u001b[0m \u001b[38;5;28mlist\u001b[39m(\u001b[38;5;28mrange\u001b[39m(\u001b[38;5;241m2\u001b[39m,\u001b[38;5;241m10.5\u001b[39m,\u001b[38;5;241m.4\u001b[39m))\n",
      "\u001b[1;31mTypeError\u001b[0m: 'float' object cannot be interpreted as an integer"
     ]
    }
   ],
   "source": [
    "# dont work with python range \n",
    "list(range(2,10.5,.4)) # it shown error\n",
    "#range(start,end,step size|gap)"
   ]
  },
  {
   "cell_type": "code",
   "execution_count": 12,
   "id": "baf16171",
   "metadata": {},
   "outputs": [
    {
     "data": {
      "text/plain": [
       "array([ 2. ,  2.4,  2.8,  3.2,  3.6,  4. ,  4.4,  4.8,  5.2,  5.6,  6. ,\n",
       "        6.4,  6.8,  7.2,  7.6,  8. ,  8.4,  8.8,  9.2,  9.6, 10. , 10.4])"
      ]
     },
     "execution_count": 12,
     "metadata": {},
     "output_type": "execute_result"
    }
   ],
   "source": [
    "# but we can create range list in numpy array with a range function\n",
    "h=np.arange(2,10.5,.4) # start with 2,end with 10.5,gap is .4\n",
    "h"
   ]
  },
  {
   "cell_type": "code",
   "execution_count": 13,
   "id": "77c13ee4",
   "metadata": {},
   "outputs": [
    {
     "data": {
      "text/plain": [
       "array([10.4, 10. ,  9.6,  9.2,  8.8,  8.4,  8. ,  7.6,  7.2,  6.8,  6.4,\n",
       "        6. ,  5.6,  5.2,  4.8,  4.4,  4. ,  3.6,  3.2,  2.8,  2.4,  2. ])"
      ]
     },
     "execution_count": 13,
     "metadata": {},
     "output_type": "execute_result"
    }
   ],
   "source": [
    "# We can perform Reverse Order also\n",
    "h[: :-1] # [start : end : step size -1 ] # start empty it mean start with 0 "
   ]
  },
  {
   "cell_type": "code",
   "execution_count": 14,
   "id": "771fa795",
   "metadata": {},
   "outputs": [
    {
     "data": {
      "text/plain": [
       "array([10.4, 10. ,  9.6,  9.2,  8.8,  8.4,  8. ,  7.6,  7.2,  6.8,  6.4])"
      ]
     },
     "execution_count": 14,
     "metadata": {},
     "output_type": "execute_result"
    }
   ],
   "source": [
    "h[:10:-1]"
   ]
  },
  {
   "cell_type": "code",
   "execution_count": 15,
   "id": "19dadc38",
   "metadata": {},
   "outputs": [
    {
     "name": "stdout",
     "output_type": "stream",
     "text": [
      "every 5th number from 50 in reverse order \n",
      " [50 45 40 35 30 25 20 15 10  5]\n"
     ]
    }
   ],
   "source": [
    "print(\"every 5th number from 50 in reverse order \\n\",np.arange(50,0,-5))"
   ]
  },
  {
   "cell_type": "code",
   "execution_count": 16,
   "id": "4cac43bb",
   "metadata": {},
   "outputs": [
    {
     "name": "stdout",
     "output_type": "stream",
     "text": [
      "every 5th number from 50 in reverse order \n",
      " []\n"
     ]
    }
   ],
   "source": [
    "print(\"every 5th number from 50 in reverse order \\n\",np.arange(0,50,-5)) \n",
    "# it will not give output because in start will give end ping in end point we will give start point\n"
   ]
  },
  {
   "cell_type": "markdown",
   "id": "9094e75e",
   "metadata": {},
   "source": [
    "# linspace function (it mean we want 5 element b\\w 10 to 40 or these 5 element should we equal\n"
   ]
  },
  {
   "cell_type": "code",
   "execution_count": 17,
   "id": "6f96d807",
   "metadata": {},
   "outputs": [
    {
     "name": "stdout",
     "output_type": "stream",
     "text": [
      "linearly spaced no. b\\w 1 and 5\n",
      "-- (array([10. , 17.5, 25. , 32.5, 40. ]), 7.5)\n"
     ]
    }
   ],
   "source": [
    "# np.linspace tell no of elemts\n",
    "print(\"linearly spaced no. b\\w 1 and 5\\n--\",np.linspace(10,40,5,retstep=True)) #linspace(start,end,no.of element)"
   ]
  },
  {
   "cell_type": "code",
   "execution_count": 18,
   "id": "e9ed76dd",
   "metadata": {},
   "outputs": [
    {
     "data": {
      "text/plain": [
       "(array([10.        , 13.33333333, 16.66666667, 20.        , 23.33333333,\n",
       "        26.66666667, 30.        , 33.33333333, 36.66666667, 40.        ]),\n",
       " 3.3333333333333335)"
      ]
     },
     "execution_count": 18,
     "metadata": {},
     "output_type": "execute_result"
    }
   ],
   "source": [
    "lin=np.linspace(10,40,10,retstep=True) \n",
    "lin"
   ]
  },
  {
   "cell_type": "code",
   "execution_count": 19,
   "id": "173020b4",
   "metadata": {},
   "outputs": [
    {
     "data": {
      "text/plain": [
       "(array([2.        , 2.33333333, 2.66666667, 3.        ]), 0.3333333333333333)"
      ]
     },
     "execution_count": 19,
     "metadata": {},
     "output_type": "execute_result"
    }
   ],
   "source": [
    "# now check space between the points\n",
    "lin=np.linspace(2.0,3.0,num=4,endpoint=True,retstep=True)\n",
    "#(2.0 start,3.0 end,i want 4 elemnt,if u want print endpoint then its True otherwise Flase,retstep it tel distand or gap between points)\n",
    "lin"
   ]
  },
  {
   "cell_type": "code",
   "execution_count": 20,
   "id": "80df35a6",
   "metadata": {},
   "outputs": [
    {
     "name": "stdout",
     "output_type": "stream",
     "text": [
      "(array([ 4.5678 ,  5.13145,  5.6951 ,  6.25875,  6.8224 ,  7.38605,\n",
      "        7.9497 ,  8.51335,  9.077  ,  9.64065, 10.2043 , 10.76795,\n",
      "       11.3316 , 11.89525, 12.4589 , 13.02255, 13.5862 , 14.14985,\n",
      "       14.7135 , 15.27715, 15.8408 , 16.40445, 16.9681 , 17.53175,\n",
      "       18.0954 , 18.65905, 19.2227 , 19.78635, 20.35   , 20.91365,\n",
      "       21.4773 , 22.04095, 22.6046 , 23.16825, 23.7319 , 24.29555,\n",
      "       24.8592 , 25.42285, 25.9865 ]), 0.56365)\n"
     ]
    }
   ],
   "source": [
    "print(np.linspace(4.5678,25.9865,39,retstep=True))"
   ]
  },
  {
   "cell_type": "markdown",
   "id": "605a32de",
   "metadata": {},
   "source": [
    "# 4rth Vedio"
   ]
  },
  {
   "cell_type": "markdown",
   "id": "caa9c676",
   "metadata": {},
   "source": [
    "# Matrix Creation"
   ]
  },
  {
   "cell_type": "code",
   "execution_count": 21,
   "id": "664f7146",
   "metadata": {},
   "outputs": [
    {
     "name": "stdout",
     "output_type": "stream",
     "text": [
      "[0. 0. 0. 0. 0.]\n"
     ]
    }
   ],
   "source": [
    "print(np.zeros(5))"
   ]
  },
  {
   "cell_type": "markdown",
   "id": "78c9a849",
   "metadata": {},
   "source": [
    "matrix of columns"
   ]
  },
  {
   "cell_type": "code",
   "execution_count": 22,
   "id": "13391d9f",
   "metadata": {},
   "outputs": [
    {
     "name": "stdout",
     "output_type": "stream",
     "text": [
      "[[0. 0. 0. 0. 0. 0.]\n",
      " [0. 0. 0. 0. 0. 0.]\n",
      " [0. 0. 0. 0. 0. 0.]\n",
      " [0. 0. 0. 0. 0. 0.]\n",
      " [0. 0. 0. 0. 0. 0.]]\n"
     ]
    }
   ],
   "source": [
    "print(np.zeros((5,6))) # matrix create 5 raws and 6 columns\n"
   ]
  },
  {
   "cell_type": "code",
   "execution_count": 23,
   "id": "3b65e3e6",
   "metadata": {},
   "outputs": [
    {
     "name": "stdout",
     "output_type": "stream",
     "text": [
      "[[1. 1. 1. 1.]\n",
      " [1. 1. 1. 1.]\n",
      " [1. 1. 1. 1.]\n",
      " [1. 1. 1. 1.]\n",
      " [1. 1. 1. 1.]]\n"
     ]
    }
   ],
   "source": [
    "print(np.ones((5,4)))"
   ]
  },
  {
   "cell_type": "code",
   "execution_count": 24,
   "id": "9ff67ecd",
   "metadata": {},
   "outputs": [
    {
     "name": "stdout",
     "output_type": "stream",
     "text": [
      "[[5. 5. 5.]\n",
      " [5. 5. 5.]]\n"
     ]
    }
   ],
   "source": [
    "#if we want create matrix any perticular no then write like this\n",
    "print(5*np.ones((2,3)))"
   ]
  },
  {
   "cell_type": "code",
   "execution_count": 25,
   "id": "2262f7be",
   "metadata": {},
   "outputs": [
    {
     "name": "stdout",
     "output_type": "stream",
     "text": [
      "[[7. 7. 7. 7. 7.]\n",
      " [7. 7. 7. 7. 7.]\n",
      " [7. 7. 7. 7. 7.]\n",
      " [7. 7. 7. 7. 7.]\n",
      " [7. 7. 7. 7. 7.]\n",
      " [7. 7. 7. 7. 7.]]\n"
     ]
    }
   ],
   "source": [
    "print(7*np.ones((6,5)))"
   ]
  },
  {
   "cell_type": "code",
   "execution_count": 26,
   "id": "925a2a33",
   "metadata": {},
   "outputs": [
    {
     "data": {
      "text/plain": [
       "array([[ 0,  1,  2,  3,  4,  5,  6,  7,  8,  9],\n",
       "       [10, 11, 12, 13, 14, 15, 16, 17, 18, 19],\n",
       "       [20, 21, 22, 23, 24, 25, 26, 27, 28, 29]])"
      ]
     },
     "execution_count": 26,
     "metadata": {},
     "output_type": "execute_result"
    }
   ],
   "source": [
    "#construct diagonal matrix\n",
    "x=np.arange(0,30).reshape(3,10)\n",
    "x"
   ]
  },
  {
   "cell_type": "markdown",
   "id": "d3ef732a",
   "metadata": {},
   "source": [
    "# Random function"
   ]
  },
  {
   "cell_type": "code",
   "execution_count": 27,
   "id": "a1f5f81e",
   "metadata": {},
   "outputs": [
    {
     "name": "stdout",
     "output_type": "stream",
     "text": [
      "Random no.generation (from uniform distribution )\n",
      "[[0.38445583 0.70571308 0.20037566 0.1875061  0.64927599 0.23530329]\n",
      " [0.36150054 0.40548445 0.38964075 0.76968201 0.76802794 0.46996243]\n",
      " [0.42345555 0.85332692 0.28827589 0.6593647  0.43415469 0.39510397]\n",
      " [0.60073147 0.89525109 0.09509514 0.6596233  0.11039586 0.34293155]\n",
      " [0.26869093 0.76011412 0.63747969 0.92242812 0.70769819 0.59215666]\n",
      " [0.2892474  0.57805777 0.35996581 0.94107898 0.13641787 0.62714355]\n",
      " [0.96682879 0.41931255 0.7852063  0.78079871 0.18461454 0.20747335]\n",
      " [0.85450812 0.77707142 0.59256881 0.0346831  0.19070031 0.69387079]\n",
      " [0.76734498 0.63187838 0.2675665  0.47755375 0.18029349 0.67692245]\n",
      " [0.23883562 0.82310269 0.07465294 0.75931866 0.75259192 0.52988593]]\n"
     ]
    }
   ],
   "source": [
    "print(\"Random no.generation (from uniform distribution )\") # uniform means data is similar distrubition almost\n",
    "print(np.random.rand(10,6)) # we will get all are +ve data"
   ]
  },
  {
   "cell_type": "code",
   "execution_count": 28,
   "id": "6b2778d7",
   "metadata": {},
   "outputs": [
    {
     "name": "stdout",
     "output_type": "stream",
     "text": [
      "[[0.22199317 0.87073231 0.20671916 0.91861091 0.48841119 0.61174386]\n",
      " [0.76590786 0.51841799 0.2968005  0.18772123 0.08074127 0.7384403 ]\n",
      " [0.44130922 0.15830987 0.87993703 0.27408646 0.41423502 0.29607993]\n",
      " [0.62878791 0.57983781 0.5999292  0.26581912 0.28468588 0.25358821]\n",
      " [0.32756395 0.1441643  0.16561286 0.96393053 0.96022672 0.18841466]\n",
      " [0.02430656 0.20455555 0.69984361 0.77951459 0.02293309 0.57766286]\n",
      " [0.00164217 0.51547261 0.63979518 0.9856244  0.2590976  0.80249689]\n",
      " [0.87048309 0.92274961 0.00221421 0.46948837 0.98146874 0.3989448 ]\n",
      " [0.81373248 0.5464565  0.77085409 0.48493107 0.02911156 0.08652569]\n",
      " [0.11145381 0.25124511 0.96491529 0.63176605 0.8166602  0.566082  ]]\n"
     ]
    }
   ],
   "source": [
    "np.random.seed(5) # it means it will fix the value\n",
    "print(np.random.rand(10,6))"
   ]
  },
  {
   "cell_type": "markdown",
   "id": "41fcab71",
   "metadata": {},
   "source": [
    "# Randn function\n",
    "#it will generate +ve or -Ve number from normal distribution with Zero mean ns std = 1"
   ]
  },
  {
   "cell_type": "code",
   "execution_count": 29,
   "id": "5bc8c2cf",
   "metadata": {},
   "outputs": [
    {
     "name": "stdout",
     "output_type": "stream",
     "text": [
      "[[ 1.13934298  0.4944404  -0.33633626 -0.10061435  1.41339802  0.22125412]\n",
      " [-1.31077313 -0.68956523 -0.57751323  1.15220477 -0.10716398  2.26010677]\n",
      " [ 0.65661947  0.12480683 -0.43570392  0.97217931 -0.24071114 -0.82412345]\n",
      " [ 0.56813272  0.01275832  1.18906073 -0.07359332 -2.85968797  0.7893664 ]\n",
      " [-1.87774088  1.53875615  1.82136474 -0.42703139 -1.16470191 -1.39707402]\n",
      " [ 0.87265462 -0.20211818 -0.59835993 -0.2434197   2.08851469  0.34691933]\n",
      " [ 0.74572695  0.77690759  1.01842113  1.06135144 -0.71046645 -0.2151878 ]\n",
      " [-0.76076031 -0.71116323  1.14150774 -0.50175555 -0.07915136 -0.69282634]\n",
      " [-0.59340277  0.78823794 -0.44542999 -0.48212019  0.49355766  0.50048733]\n",
      " [ 0.79242262  0.17076445 -1.75374086  0.63029648  0.49832921  1.01813761]]\n"
     ]
    }
   ],
   "source": [
    "print(np.random.randn(10,6))"
   ]
  },
  {
   "cell_type": "markdown",
   "id": "63ccee9d",
   "metadata": {},
   "source": [
    "# Randint function\n"
   ]
  },
  {
   "cell_type": "code",
   "execution_count": 30,
   "id": "532e6529",
   "metadata": {},
   "outputs": [
    {
     "name": "stdout",
     "output_type": "stream",
     "text": [
      "Random Integer Vector [ 8 12  8 12  8  7 11 18 11  7]\n"
     ]
    }
   ],
   "source": [
    "print(\"Random Integer Vector\",np.random.randint(5,20,10)) #start, end ,no. of elementsS"
   ]
  },
  {
   "cell_type": "code",
   "execution_count": 31,
   "id": "4a11a999",
   "metadata": {},
   "outputs": [
    {
     "name": "stdout",
     "output_type": "stream",
     "text": [
      "random integer Matrix\n",
      "[[16  8  1  4 29 24  6]\n",
      " [ 2 28  7 28  8  4 15]\n",
      " [10  8 26 27  8 23  7]\n",
      " [15  5 11 22 11  5  1]\n",
      " [17 18 29  6  4 16 18]\n",
      " [24 17 12 27 26  9 20]]\n"
     ]
    }
   ],
   "source": [
    "print(\"random integer Matrix\")\n",
    "print(np.random.randint(1,30,(6,7)))"
   ]
  },
  {
   "cell_type": "markdown",
   "id": "54e3b465",
   "metadata": {},
   "source": [
    "# Numpy Conditions"
   ]
  },
  {
   "cell_type": "code",
   "execution_count": 37,
   "id": "92170f2b",
   "metadata": {},
   "outputs": [
    {
     "data": {
      "text/plain": [
       "array([36, 15, 39, 17, 10,  9, 37, 28, 31, 17])"
      ]
     },
     "execution_count": 37,
     "metadata": {},
     "output_type": "execute_result"
    }
   ],
   "source": [
    "np.random.seed(5)\n",
    "a=np.random.randint(1,40,10)\n",
    "a"
   ]
  },
  {
   "cell_type": "code",
   "execution_count": 44,
   "id": "be27cf88",
   "metadata": {},
   "outputs": [
    {
     "data": {
      "text/plain": [
       "array([25, 15, 25, 17, 10, 10, 25, 25, 25, 17])"
      ]
     },
     "execution_count": 44,
     "metadata": {},
     "output_type": "execute_result"
    }
   ],
   "source": [
    "# replace data with fixed number\n",
    "np.clip(a,a_min=10,a_max=25)"
   ]
  },
  {
   "cell_type": "code",
   "execution_count": 45,
   "id": "b231c9f4",
   "metadata": {},
   "outputs": [
    {
     "name": "stdout",
     "output_type": "stream",
     "text": [
      "(array([5], dtype=int64),)\n"
     ]
    }
   ],
   "source": [
    "#it gives index detail also\n",
    "print(np.where(a<10))"
   ]
  },
  {
   "cell_type": "code",
   "execution_count": 46,
   "id": "438119a2",
   "metadata": {},
   "outputs": [
    {
     "name": "stdout",
     "output_type": "stream",
     "text": [
      "(array([1, 4, 5], dtype=int64),)\n"
     ]
    }
   ],
   "source": [
    "print(np.where(a<16))"
   ]
  },
  {
   "cell_type": "code",
   "execution_count": 47,
   "id": "ced3d019",
   "metadata": {},
   "outputs": [
    {
     "name": "stdout",
     "output_type": "stream",
     "text": [
      "(array([0], dtype=int64),)\n"
     ]
    }
   ],
   "source": [
    "print(np.where(a==36))"
   ]
  },
  {
   "cell_type": "markdown",
   "id": "0ba8c122",
   "metadata": {},
   "source": [
    "# Reshape Sort"
   ]
  },
  {
   "cell_type": "code",
   "execution_count": 10,
   "id": "970486fe",
   "metadata": {},
   "outputs": [],
   "source": [
    "import numpy\n",
    "from numpy import random\n",
    "from numpy.random import randint as ri"
   ]
  },
  {
   "cell_type": "code",
   "execution_count": 51,
   "id": "0d3f67cf",
   "metadata": {},
   "outputs": [
    {
     "data": {
      "text/plain": [
       "array([32,  3, 69, 39, 84, 20, 19,  8, 31, 63, 12, 68, 66, 56,  4, 92, 79,\n",
       "       28, 30, 34, 90, 86,  8, 17, 95, 15, 91, 32, 10, 39])"
      ]
     },
     "execution_count": 51,
     "metadata": {},
     "output_type": "execute_result"
    }
   ],
   "source": [
    "j=ri(1,99,30)\n",
    "j"
   ]
  },
  {
   "cell_type": "code",
   "execution_count": 52,
   "id": "cd295a2e",
   "metadata": {},
   "outputs": [
    {
     "data": {
      "text/plain": [
       "array([[[32,  3, 69, 39, 84],\n",
       "        [20, 19,  8, 31, 63],\n",
       "        [12, 68, 66, 56,  4]],\n",
       "\n",
       "       [[92, 79, 28, 30, 34],\n",
       "        [90, 86,  8, 17, 95],\n",
       "        [15, 91, 32, 10, 39]]])"
      ]
     },
     "execution_count": 52,
     "metadata": {},
     "output_type": "execute_result"
    }
   ],
   "source": [
    "#We can create matrix from j or we can do reshape also\n",
    "k=j.reshape(2,3,5) # it mena 2 matrix create in j 3 raws and 5 columns\n",
    "k"
   ]
  },
  {
   "cell_type": "code",
   "execution_count": 53,
   "id": "eb743695",
   "metadata": {},
   "outputs": [
    {
     "data": {
      "text/plain": [
       "array([[32,  3, 69, 39, 84],\n",
       "       [20, 19,  8, 31, 63],\n",
       "       [12, 68, 66, 56,  4],\n",
       "       [92, 79, 28, 30, 34],\n",
       "       [90, 86,  8, 17, 95],\n",
       "       [15, 91, 32, 10, 39]])"
      ]
     },
     "execution_count": 53,
     "metadata": {},
     "output_type": "execute_result"
    }
   ],
   "source": [
    "l=j.reshape(6,5)\n",
    "l"
   ]
  },
  {
   "cell_type": "code",
   "execution_count": 57,
   "id": "f9567733",
   "metadata": {},
   "outputs": [
    {
     "name": "stdout",
     "output_type": "stream",
     "text": [
      "min of j: 3\n",
      "max of j: 95\n"
     ]
    }
   ],
   "source": [
    "print(\"min of j:\",j.min())\n",
    "print(\"max of j:\",j.max())"
   ]
  },
  {
   "cell_type": "markdown",
   "id": "5c0e030e",
   "metadata": {},
   "source": [
    "# sorting"
   ]
  },
  {
   "cell_type": "code",
   "execution_count": 59,
   "id": "dab12a31",
   "metadata": {},
   "outputs": [
    {
     "data": {
      "text/plain": [
       "array([[38, 95, 76,  6, 23],\n",
       "       [53, 70, 83, 61, 92],\n",
       "       [30, 89, 98, 93, 80],\n",
       "       [71, 36, 21, 50, 73],\n",
       "       [33, 83, 14, 93, 19]])"
      ]
     },
     "execution_count": 59,
     "metadata": {},
     "output_type": "execute_result"
    }
   ],
   "source": [
    "m=ri(1,100,25).reshape(5,5)\n",
    "m"
   ]
  },
  {
   "cell_type": "code",
   "execution_count": 66,
   "id": "45e28e39",
   "metadata": {},
   "outputs": [
    {
     "name": "stdout",
     "output_type": "stream",
     "text": [
      "\n",
      " 5*5 matrix of random integers \n",
      " -------------------------------------------------- \n",
      " [[38 95 76  6 23]\n",
      " [53 70 83 61 92]\n",
      " [30 89 98 93 80]\n",
      " [71 36 21 50 73]\n",
      " [33 83 14 93 19]]\n"
     ]
    }
   ],
   "source": [
    "print(\"\\n 5*5 matrix of random integers \\n\",'-'*50,\"\\n\",m)"
   ]
  },
  {
   "cell_type": "markdown",
   "id": "ff646286",
   "metadata": {},
   "source": [
    "# print(\"\\n here is the sorted matrix along each raw \\n\",'-'*50,\"\\n\",np.sort(m)) # axis = 1 by default "
   ]
  },
  {
   "cell_type": "code",
   "execution_count": 68,
   "id": "2de9d3c2",
   "metadata": {},
   "outputs": [
    {
     "name": "stdout",
     "output_type": "stream",
     "text": [
      "\n",
      " here is the sorted matrix along each raw \n",
      " -------------------------------------------------- \n",
      " [[30 36 14  6 19]\n",
      " [33 70 21 50 23]\n",
      " [38 83 76 61 73]\n",
      " [53 89 83 93 80]\n",
      " [71 95 98 93 92]]\n"
     ]
    }
   ],
   "source": [
    "print(\"\\n here is the sorted matrix along each raw \\n\",'-'*50,\"\\n\",np.sort(m,axis=0))"
   ]
  },
  {
   "cell_type": "markdown",
   "id": "d2e71e76",
   "metadata": {},
   "source": [
    "# 8th vedio"
   ]
  },
  {
   "cell_type": "markdown",
   "id": "de13b79a",
   "metadata": {},
   "source": [
    "# Indexing sort Update"
   ]
  },
  {
   "cell_type": "code",
   "execution_count": 70,
   "id": "470c6ddb",
   "metadata": {},
   "outputs": [
    {
     "name": "stdout",
     "output_type": "stream",
     "text": [
      "Array [13 14 15 16 17 18 19 20 21 22 23 24 25 26 27 28 29]\n"
     ]
    }
   ],
   "source": [
    "arr=np.arange(13,30)\n",
    "print('Array',arr)"
   ]
  },
  {
   "cell_type": "code",
   "execution_count": 71,
   "id": "45c3578e",
   "metadata": {},
   "outputs": [
    {
     "name": "stdout",
     "output_type": "stream",
     "text": [
      "element at 7th index is: 20\n"
     ]
    }
   ],
   "source": [
    "#show 7th Index\n",
    "print(\"element at 7th index is:\",arr[7])"
   ]
  },
  {
   "cell_type": "code",
   "execution_count": 77,
   "id": "95a20896",
   "metadata": {},
   "outputs": [
    {
     "name": "stdout",
     "output_type": "stream",
     "text": [
      "[16 17 18]\n"
     ]
    }
   ],
   "source": [
    "print(arr[3:6]) # start index end index"
   ]
  },
  {
   "cell_type": "code",
   "execution_count": 78,
   "id": "52ceb431",
   "metadata": {},
   "outputs": [
    {
     "name": "stdout",
     "output_type": "stream",
     "text": [
      "[17 18 19 20 21 22 23 24 25 26 27 28 29]\n"
     ]
    }
   ],
   "source": [
    "print(arr[4:]) # start index Lst index"
   ]
  },
  {
   "cell_type": "code",
   "execution_count": 80,
   "id": "7eeaa606",
   "metadata": {},
   "outputs": [
    {
     "name": "stdout",
     "output_type": "stream",
     "text": [
      "element from last backwards are : [29 27 25 23 21 19 17 15 13]\n"
     ]
    }
   ],
   "source": [
    "print(\"element from last backwards are :\",arr[-1: :-2]) #-1 start  end everything step size , -1 very last element"
   ]
  },
  {
   "cell_type": "code",
   "execution_count": 83,
   "id": "4ad0482c",
   "metadata": {},
   "outputs": [
    {
     "name": "stdout",
     "output_type": "stream",
     "text": [
      "7 element from last backwards are : [29 28 27 26 25 24 23]\n"
     ]
    }
   ],
   "source": [
    "print(\"7 element from last backwards are :\",arr[-1:-8:-1])"
   ]
  },
  {
   "cell_type": "code",
   "execution_count": 84,
   "id": "9e5d9309",
   "metadata": {},
   "outputs": [
    {
     "data": {
      "text/plain": [
       "array([ 0,  2,  4,  6,  8, 10, 12, 14, 16, 18, 20])"
      ]
     },
     "execution_count": 84,
     "metadata": {},
     "output_type": "execute_result"
    }
   ],
   "source": [
    "arr2=np.arange(0,21,2)\n",
    "arr2"
   ]
  },
  {
   "cell_type": "code",
   "execution_count": 85,
   "id": "89582481",
   "metadata": {},
   "outputs": [
    {
     "name": "stdout",
     "output_type": "stream",
     "text": [
      "element at 2nd 4th and 9th index are : [ 4  8 18]\n"
     ]
    }
   ],
   "source": [
    "print(\"element at 2nd 4th and 9th index are :\",arr2[[2,4,9]]) #create a list as the index"
   ]
  },
  {
   "cell_type": "code",
   "execution_count": 86,
   "id": "dffe9f2d",
   "metadata": {},
   "outputs": [
    {
     "data": {
      "text/plain": [
       "array([[1, 2, 3],\n",
       "       [4, 5, 6],\n",
       "       [7, 8, 9]])"
      ]
     },
     "execution_count": 86,
     "metadata": {},
     "output_type": "execute_result"
    }
   ],
   "source": [
    "#create matrix\n",
    "my_mat=[[1,2,3],[4,5,6],[7,8,9]]\n",
    "mat=np.array(my_mat)\n",
    "mat"
   ]
  },
  {
   "cell_type": "code",
   "execution_count": 87,
   "id": "8102df9d",
   "metadata": {},
   "outputs": [
    {
     "name": "stdout",
     "output_type": "stream",
     "text": [
      "\n",
      " doubel bracket index \n",
      " ---------------\n",
      "element in raw index  1 and column index 2 : 6\n"
     ]
    }
   ],
   "source": [
    "print (\"\\n doubel bracket index \\n ---------------\" )\n",
    "print(\"element in raw index  1 and column index 2 :\",mat[1][2])"
   ]
  },
  {
   "cell_type": "code",
   "execution_count": 88,
   "id": "8cf2e287",
   "metadata": {},
   "outputs": [
    {
     "name": "stdout",
     "output_type": "stream",
     "text": [
      "entire raw at index 2: [7 8 9]\n"
     ]
    }
   ],
   "source": [
    "print(\"entire raw at index 2:\",mat[2])"
   ]
  },
  {
   "cell_type": "code",
   "execution_count": 93,
   "id": "8e1586b2",
   "metadata": {},
   "outputs": [
    {
     "name": "stdout",
     "output_type": "stream",
     "text": [
      "entire colum at index 3:\n",
      " [[2 3]\n",
      " [5 6]\n",
      " [8 9]]\n"
     ]
    }
   ],
   "source": [
    "print(\"entire colum at index 3:\\n\",mat[:,1:])"
   ]
  },
  {
   "cell_type": "code",
   "execution_count": 95,
   "id": "338821fa",
   "metadata": {},
   "outputs": [
    {
     "data": {
      "text/plain": [
       "array([[3],\n",
       "       [6],\n",
       "       [9]])"
      ]
     },
     "execution_count": 95,
     "metadata": {},
     "output_type": "execute_result"
    }
   ],
   "source": [
    "mat[:,2:]"
   ]
  },
  {
   "cell_type": "code",
   "execution_count": 97,
   "id": "3977d029",
   "metadata": {},
   "outputs": [
    {
     "name": "stdout",
     "output_type": "stream",
     "text": [
      "matrix with raw index 1 and 2 and column index 3 and 4 : \n",
      " [[5]]\n"
     ]
    }
   ],
   "source": [
    "print(\"matrix with raw index 1 and 2 and column index 3 and 4 : \\n\",mat[1:2,1:2]) #last index will be exclusive"
   ]
  },
  {
   "cell_type": "code",
   "execution_count": 98,
   "id": "b68fd737",
   "metadata": {},
   "outputs": [
    {
     "name": "stdout",
     "output_type": "stream",
     "text": [
      "[[2 3]\n",
      " [5 6]]\n"
     ]
    }
   ],
   "source": [
    "print(mat[0:2,[1,2]]) # 0:2 range of colum , [1,2] its selective columns"
   ]
  },
  {
   "cell_type": "markdown",
   "id": "e5574774",
   "metadata": {},
   "source": [
    "# update matrix"
   ]
  },
  {
   "cell_type": "code",
   "execution_count": 99,
   "id": "7f15ad3d",
   "metadata": {},
   "outputs": [
    {
     "name": "stdout",
     "output_type": "stream",
     "text": [
      "original Matrix\n",
      "\n",
      " [[1 2 3]\n",
      " [4 5 6]\n",
      " [7 8 9]]\n"
     ]
    }
   ],
   "source": [
    "print(\"original Matrix\\n\\n\",mat)"
   ]
  },
  {
   "cell_type": "code",
   "execution_count": 101,
   "id": "cd59a1e7",
   "metadata": {},
   "outputs": [
    {
     "data": {
      "text/plain": [
       "array([[ 1, 35,  3],\n",
       "       [ 4,  5,  6],\n",
       "       [ 7,  8,  9]])"
      ]
     },
     "execution_count": 101,
     "metadata": {},
     "output_type": "execute_result"
    }
   ],
   "source": [
    "# i want update this matrix\n",
    "mat[0,1]=35 # 0 raw column 1\n",
    "mat"
   ]
  },
  {
   "cell_type": "code",
   "execution_count": 102,
   "id": "9d11df5a",
   "metadata": {},
   "outputs": [
    {
     "data": {
      "text/plain": [
       "array([[  1,  35,   3],\n",
       "       [100,   5,   6],\n",
       "       [  7,   8,   9]])"
      ]
     },
     "execution_count": 102,
     "metadata": {},
     "output_type": "execute_result"
    }
   ],
   "source": [
    "mat[1,0]=100 # 1 raw 0 column\n",
    "mat"
   ]
  },
  {
   "cell_type": "markdown",
   "id": "95cd71ef",
   "metadata": {},
   "source": [
    "# Subsetting"
   ]
  },
  {
   "cell_type": "code",
   "execution_count": 12,
   "id": "6b9b5f61",
   "metadata": {},
   "outputs": [
    {
     "name": "stdout",
     "output_type": "stream",
     "text": [
      "Matrix of random 2 - digit number \n",
      "--------------------------------------\n",
      " [[82 93 97 65 87]\n",
      " [19 82 56 53 51]\n",
      " [97 45 12 26 59]]\n"
     ]
    }
   ],
   "source": [
    "mat=np.array(ri(10,100,15)).reshape(3,5)\n",
    "print(\"Matrix of random 2 - digit number \\n--------------------------------------\\n\",mat)"
   ]
  },
  {
   "cell_type": "code",
   "execution_count": 13,
   "id": "32622b3e",
   "metadata": {},
   "outputs": [
    {
     "data": {
      "text/plain": [
       "array([82, 93, 97, 87, 82, 97])"
      ]
     },
     "execution_count": 13,
     "metadata": {},
     "output_type": "execute_result"
    }
   ],
   "source": [
    "xyz=mat[mat>70]\n",
    "xyz"
   ]
  },
  {
   "cell_type": "code",
   "execution_count": 14,
   "id": "53505791",
   "metadata": {},
   "outputs": [
    {
     "name": "stdout",
     "output_type": "stream",
     "text": [
      "elements which is Grater than 50 \n",
      " [82 93 97 65 87 82 56 53 51 97 59]\n"
     ]
    }
   ],
   "source": [
    "print(\"elements which is Grater than 50 \\n\",mat[mat>50])"
   ]
  },
  {
   "cell_type": "code",
   "execution_count": 15,
   "id": "2245e539",
   "metadata": {},
   "outputs": [
    {
     "data": {
      "text/plain": [
       "array([[ True,  True,  True,  True,  True],\n",
       "       [False,  True,  True,  True,  True],\n",
       "       [ True, False, False, False,  True]])"
      ]
     },
     "execution_count": 15,
     "metadata": {},
     "output_type": "execute_result"
    }
   ],
   "source": [
    "#if we write this code then it will give output in True False\n",
    "mat>50"
   ]
  },
  {
   "cell_type": "code",
   "execution_count": 16,
   "id": "17dddb60",
   "metadata": {},
   "outputs": [
    {
     "name": "stdout",
     "output_type": "stream",
     "text": [
      "(array([], dtype=int64), array([], dtype=int64))\n"
     ]
    }
   ],
   "source": [
    "print(np.where(mat==55)) # here no num. ==55"
   ]
  },
  {
   "cell_type": "code",
   "execution_count": 18,
   "id": "e2772912",
   "metadata": {},
   "outputs": [
    {
     "name": "stdout",
     "output_type": "stream",
     "text": [
      "(array([0], dtype=int64), array([3], dtype=int64))\n"
     ]
    }
   ],
   "source": [
    "print(np.where(mat==65))"
   ]
  },
  {
   "cell_type": "markdown",
   "id": "0a508c61",
   "metadata": {},
   "source": [
    "# Universal Function"
   ]
  },
  {
   "cell_type": "code",
   "execution_count": 27,
   "id": "a9e7b92b",
   "metadata": {},
   "outputs": [
    {
     "name": "stdout",
     "output_type": "stream",
     "text": [
      "\n",
      " 1st matrix of random single Digit number \n",
      "---------------------\n",
      " [[3 8 9]\n",
      " [6 8 3]\n",
      " [4 7 1]]\n",
      "\n",
      " 2nd matrix of random single Digit number \n",
      "---------------------\n",
      " [[7 5 1]\n",
      " [4 7 7]\n",
      " [4 6 2]]\n"
     ]
    }
   ],
   "source": [
    "mat1=np.array(ri(1,10,9)).reshape(3,3)\n",
    "mat2=np.array(ri(1,10,9)).reshape(3,3)\n",
    "print(\"\\n 1st matrix of random single Digit number \\n---------------------\\n\",mat1)\n",
    "print(\"\\n 2nd matrix of random single Digit number \\n---------------------\\n\",mat2)"
   ]
  },
  {
   "cell_type": "code",
   "execution_count": 28,
   "id": "43bfa0c2",
   "metadata": {},
   "outputs": [
    {
     "name": "stdout",
     "output_type": "stream",
     "text": [
      "\n",
      " Addition \n",
      "----------------\n",
      " [[10 13 10]\n",
      " [10 15 10]\n",
      " [ 8 13  3]]\n",
      "\n",
      " Multuplication \n",
      "----------------\n",
      " [[21 40  9]\n",
      " [24 56 21]\n",
      " [16 42  2]]\n"
     ]
    }
   ],
   "source": [
    "print(\"\\n Addition \\n----------------\\n\",mat1+mat2)\n",
    "print(\"\\n Multuplication \\n----------------\\n\",mat1*mat2)\n",
    "# it will addition index wise"
   ]
  },
  {
   "cell_type": "code",
   "execution_count": 30,
   "id": "cddd0c79",
   "metadata": {},
   "outputs": [
    {
     "name": "stdout",
     "output_type": "stream",
     "text": [
      "mat 1=\n",
      " [[3 8 9]\n",
      " [6 8 3]\n",
      " [4 7 1]]\n",
      "mat 2=\n",
      " [[7 5 1]\n",
      " [4 7 7]\n",
      " [4 6 2]]\n"
     ]
    }
   ],
   "source": [
    "#print again matrix\n",
    "print(\"mat 1=\\n\",mat1)\n",
    "print(\"mat 2=\\n\",mat2)"
   ]
  },
  {
   "cell_type": "code",
   "execution_count": 31,
   "id": "e1d3bb4c",
   "metadata": {},
   "outputs": [
    {
     "name": "stdout",
     "output_type": "stream",
     "text": [
      "\n",
      " Division \n",
      "----------------\n",
      " [[0.42857143 1.6        9.        ]\n",
      " [1.5        1.14285714 0.42857143]\n",
      " [1.         1.16666667 0.5       ]]\n",
      "\n",
      " linear combination 3*A - 2*B \n",
      "----------------\n",
      " [[-5 14 25]\n",
      " [10 10 -5]\n",
      " [ 4  9 -1]]\n"
     ]
    }
   ],
   "source": [
    "print(\"\\n Division \\n----------------\\n\",mat1/mat2)\n",
    "print(\"\\n linear combination 3*A - 2*B \\n----------------\\n\",3*mat1-2*mat2)"
   ]
  },
  {
   "cell_type": "markdown",
   "id": "f0bb10d5",
   "metadata": {},
   "source": [
    "# Broadcasting"
   ]
  },
  {
   "cell_type": "code",
   "execution_count": 33,
   "id": "c7c092eb",
   "metadata": {},
   "outputs": [
    {
     "data": {
      "text/plain": [
       "array([[0., 0., 0.],\n",
       "       [0., 0., 0.],\n",
       "       [0., 0., 0.]])"
      ]
     },
     "execution_count": 33,
     "metadata": {},
     "output_type": "execute_result"
    }
   ],
   "source": [
    "start=np.zeros((3,3))\n",
    "start"
   ]
  },
  {
   "cell_type": "code",
   "execution_count": 34,
   "id": "d623b8b3",
   "metadata": {},
   "outputs": [
    {
     "name": "stdout",
     "output_type": "stream",
     "text": [
      "[[1 0 2]]\n"
     ]
    }
   ],
   "source": [
    "# create a rank 1 ndarray with 3 values\n",
    "add_rows=np.array([[1,0,2]])\n",
    "print(add_rows)"
   ]
  },
  {
   "cell_type": "code",
   "execution_count": 35,
   "id": "009a54c0",
   "metadata": {},
   "outputs": [
    {
     "name": "stdout",
     "output_type": "stream",
     "text": [
      "[[1. 0. 2.]\n",
      " [1. 0. 2.]\n",
      " [1. 0. 2.]]\n"
     ]
    }
   ],
   "source": [
    "# add each row of start using broadcasting\n",
    "y=start+add_rows\n",
    "print(y)"
   ]
  },
  {
   "cell_type": "code",
   "execution_count": 36,
   "id": "a75a8bbc",
   "metadata": {},
   "outputs": [
    {
     "name": "stdout",
     "output_type": "stream",
     "text": [
      "[[1]\n",
      " [0]\n",
      " [2]]\n"
     ]
    }
   ],
   "source": [
    "# its create vertically \n",
    "new_row=add_rows.T\n",
    "print(new_row)"
   ]
  },
  {
   "cell_type": "code",
   "execution_count": 37,
   "id": "d24eb469",
   "metadata": {},
   "outputs": [
    {
     "data": {
      "text/plain": [
       "array([[1., 1., 1.],\n",
       "       [0., 0., 0.],\n",
       "       [2., 2., 2.]])"
      ]
     },
     "execution_count": 37,
     "metadata": {},
     "output_type": "execute_result"
    }
   ],
   "source": [
    "#again horizontally\n",
    "test=new_row+start\n",
    "test"
   ]
  },
  {
   "cell_type": "code",
   "execution_count": 38,
   "id": "bd7b2e6a",
   "metadata": {},
   "outputs": [
    {
     "name": "stdout",
     "output_type": "stream",
     "text": [
      "[[0]\n",
      " [1]\n",
      " [2]\n",
      " [3]]\n"
     ]
    }
   ],
   "source": [
    "# create an ndarray which is 4*1 to broadcast across columns\n",
    "add_cols=np.array([[0,1,2,3]])\n",
    "add_cols=add_cols.T\n",
    "print(add_cols)"
   ]
  },
  {
   "cell_type": "markdown",
   "id": "38f4b982",
   "metadata": {},
   "source": [
    "# Array math"
   ]
  },
  {
   "cell_type": "code",
   "execution_count": 39,
   "id": "bbd2ce94",
   "metadata": {},
   "outputs": [
    {
     "name": "stdout",
     "output_type": "stream",
     "text": [
      "\n",
      " 1st matrix of random single Digit number \n",
      "---------------------\n",
      " [[9 7 5]\n",
      " [8 7 8]\n",
      " [4 8 6]]\n",
      "\n",
      " 2nd matrix of random single Digit number \n",
      "---------------------\n",
      " [[3 4 2]\n",
      " [1 6 5]\n",
      " [1 4 2]]\n"
     ]
    }
   ],
   "source": [
    "mat3=np.array(ri(1,10,9)).reshape(3,3)\n",
    "mat4=np.array(ri(1,10,9)).reshape(3,3)\n",
    "print(\"\\n 1st matrix of random single Digit number \\n---------------------\\n\",mat3)\n",
    "print(\"\\n 2nd matrix of random single Digit number \\n---------------------\\n\",mat4)"
   ]
  },
  {
   "cell_type": "code",
   "execution_count": 40,
   "id": "e77d0692",
   "metadata": {},
   "outputs": [
    {
     "name": "stdout",
     "output_type": "stream",
     "text": [
      "\n",
      " sq-root \n",
      "----------------\n",
      " [[3.         2.64575131 2.23606798]\n",
      " [2.82842712 2.64575131 2.82842712]\n",
      " [2.         2.82842712 2.44948974]]\n"
     ]
    }
   ],
   "source": [
    "# create sq-root of mat3 \n",
    "print(\"\\n sq-root \\n----------------\\n\",np.sqrt(mat3))"
   ]
  },
  {
   "cell_type": "code",
   "execution_count": 41,
   "id": "fd499752",
   "metadata": {},
   "outputs": [
    {
     "name": "stdout",
     "output_type": "stream",
     "text": [
      "\n",
      " sq-root \n",
      "----------------\n",
      " [[81 49 25]\n",
      " [64 49 64]\n",
      " [16 64 36]]\n"
     ]
    }
   ],
   "source": [
    "# create square of mat3 \n",
    "print(\"\\n sq-root \\n----------------\\n\",np.square(mat3))"
   ]
  },
  {
   "cell_type": "markdown",
   "id": "16b275da",
   "metadata": {},
   "source": [
    "# Similarly we can apply more function on this "
   ]
  },
  {
   "cell_type": "code",
   "execution_count": 42,
   "id": "63354d3c",
   "metadata": {},
   "outputs": [
    {
     "name": "stdout",
     "output_type": "stream",
     "text": [
      "['ALLOW_THREADS', 'AxisError', 'BUFSIZE', 'CLIP', 'ComplexWarning', 'DataSource', 'ERR_CALL', 'ERR_DEFAULT', 'ERR_IGNORE', 'ERR_LOG', 'ERR_PRINT', 'ERR_RAISE', 'ERR_WARN', 'FLOATING_POINT_SUPPORT', 'FPE_DIVIDEBYZERO', 'FPE_INVALID', 'FPE_OVERFLOW', 'FPE_UNDERFLOW', 'False_', 'Inf', 'Infinity', 'MAXDIMS', 'MAY_SHARE_BOUNDS', 'MAY_SHARE_EXACT', 'ModuleDeprecationWarning', 'NAN', 'NINF', 'NZERO', 'NaN', 'PINF', 'PZERO', 'RAISE', 'RankWarning', 'SHIFT_DIVIDEBYZERO', 'SHIFT_INVALID', 'SHIFT_OVERFLOW', 'SHIFT_UNDERFLOW', 'ScalarType', 'Tester', 'TooHardError', 'True_', 'UFUNC_BUFSIZE_DEFAULT', 'UFUNC_PYVALS_NAME', 'VisibleDeprecationWarning', 'WRAP', '_CopyMode', '_NoValue', '_UFUNC_API', '__NUMPY_SETUP__', '__all__', '__builtins__', '__cached__', '__config__', '__deprecated_attrs__', '__dir__', '__doc__', '__expired_functions__', '__file__', '__former_attrs__', '__future_scalars__', '__getattr__', '__git_version__', '__loader__', '__mkl_version__', '__name__', '__package__', '__path__', '__spec__', '__version__', '_add_newdoc_ufunc', '_builtins', '_distributor_init', '_financial_names', '_get_promotion_state', '_globals', '_int_extended_msg', '_mat', '_no_nep50_warning', '_pyinstaller_hooks_dir', '_pytesttester', '_set_promotion_state', '_specific_msg', '_version', 'abs', 'absolute', 'add', 'add_docstring', 'add_newdoc', 'add_newdoc_ufunc', 'all', 'allclose', 'alltrue', 'amax', 'amin', 'angle', 'any', 'append', 'apply_along_axis', 'apply_over_axes', 'arange', 'arccos', 'arccosh', 'arcsin', 'arcsinh', 'arctan', 'arctan2', 'arctanh', 'argmax', 'argmin', 'argpartition', 'argsort', 'argwhere', 'around', 'array', 'array2string', 'array_equal', 'array_equiv', 'array_repr', 'array_split', 'array_str', 'asanyarray', 'asarray', 'asarray_chkfinite', 'ascontiguousarray', 'asfarray', 'asfortranarray', 'asmatrix', 'atleast_1d', 'atleast_2d', 'atleast_3d', 'average', 'bartlett', 'base_repr', 'binary_repr', 'bincount', 'bitwise_and', 'bitwise_not', 'bitwise_or', 'bitwise_xor', 'blackman', 'block', 'bmat', 'bool_', 'broadcast', 'broadcast_arrays', 'broadcast_shapes', 'broadcast_to', 'busday_count', 'busday_offset', 'busdaycalendar', 'byte', 'byte_bounds', 'bytes_', 'c_', 'can_cast', 'cast', 'cbrt', 'cdouble', 'ceil', 'cfloat', 'char', 'character', 'chararray', 'choose', 'clip', 'clongdouble', 'clongfloat', 'column_stack', 'common_type', 'compare_chararrays', 'compat', 'complex128', 'complex64', 'complex_', 'complexfloating', 'compress', 'concatenate', 'conj', 'conjugate', 'convolve', 'copy', 'copysign', 'copyto', 'corrcoef', 'correlate', 'cos', 'cosh', 'count_nonzero', 'cov', 'cross', 'csingle', 'ctypeslib', 'cumprod', 'cumproduct', 'cumsum', 'datetime64', 'datetime_as_string', 'datetime_data', 'deg2rad', 'degrees', 'delete', 'deprecate', 'deprecate_with_doc', 'diag', 'diag_indices', 'diag_indices_from', 'diagflat', 'diagonal', 'diff', 'digitize', 'disp', 'divide', 'divmod', 'dot', 'double', 'dsplit', 'dstack', 'dtype', 'e', 'ediff1d', 'einsum', 'einsum_path', 'emath', 'empty', 'empty_like', 'equal', 'errstate', 'euler_gamma', 'exp', 'exp2', 'expand_dims', 'expm1', 'extract', 'eye', 'fabs', 'fastCopyAndTranspose', 'fft', 'fill_diagonal', 'find_common_type', 'finfo', 'fix', 'flatiter', 'flatnonzero', 'flexible', 'flip', 'fliplr', 'flipud', 'float16', 'float32', 'float64', 'float_', 'float_power', 'floating', 'floor', 'floor_divide', 'fmax', 'fmin', 'fmod', 'format_float_positional', 'format_float_scientific', 'format_parser', 'frexp', 'from_dlpack', 'frombuffer', 'fromfile', 'fromfunction', 'fromiter', 'frompyfunc', 'fromregex', 'fromstring', 'full', 'full_like', 'gcd', 'generic', 'genfromtxt', 'geomspace', 'get_array_wrap', 'get_include', 'get_printoptions', 'getbufsize', 'geterr', 'geterrcall', 'geterrobj', 'gradient', 'greater', 'greater_equal', 'half', 'hamming', 'hanning', 'heaviside', 'histogram', 'histogram2d', 'histogram_bin_edges', 'histogramdd', 'hsplit', 'hstack', 'hypot', 'i0', 'identity', 'iinfo', 'imag', 'in1d', 'index_exp', 'indices', 'inexact', 'inf', 'info', 'infty', 'inner', 'insert', 'int16', 'int32', 'int64', 'int8', 'int_', 'intc', 'integer', 'interp', 'intersect1d', 'intp', 'invert', 'is_busday', 'isclose', 'iscomplex', 'iscomplexobj', 'isfinite', 'isfortran', 'isin', 'isinf', 'isnan', 'isnat', 'isneginf', 'isposinf', 'isreal', 'isrealobj', 'isscalar', 'issctype', 'issubclass_', 'issubdtype', 'issubsctype', 'iterable', 'ix_', 'kaiser', 'kron', 'lcm', 'ldexp', 'left_shift', 'less', 'less_equal', 'lexsort', 'lib', 'linalg', 'linspace', 'little_endian', 'load', 'loadtxt', 'log', 'log10', 'log1p', 'log2', 'logaddexp', 'logaddexp2', 'logical_and', 'logical_not', 'logical_or', 'logical_xor', 'logspace', 'longcomplex', 'longdouble', 'longfloat', 'longlong', 'lookfor', 'ma', 'mask_indices', 'mat', 'math', 'matmul', 'matrix', 'max', 'maximum', 'maximum_sctype', 'may_share_memory', 'mean', 'median', 'memmap', 'meshgrid', 'mgrid', 'min', 'min_scalar_type', 'minimum', 'mintypecode', 'mkl', 'mod', 'modf', 'moveaxis', 'msort', 'multiply', 'nan', 'nan_to_num', 'nanargmax', 'nanargmin', 'nancumprod', 'nancumsum', 'nanmax', 'nanmean', 'nanmedian', 'nanmin', 'nanpercentile', 'nanprod', 'nanquantile', 'nanstd', 'nansum', 'nanvar', 'nbytes', 'ndarray', 'ndenumerate', 'ndim', 'ndindex', 'nditer', 'negative', 'nested_iters', 'newaxis', 'nextafter', 'nonzero', 'not_equal', 'numarray', 'number', 'obj2sctype', 'object_', 'ogrid', 'oldnumeric', 'ones', 'ones_like', 'outer', 'packbits', 'pad', 'partition', 'percentile', 'pi', 'piecewise', 'place', 'poly', 'poly1d', 'polyadd', 'polyder', 'polydiv', 'polyfit', 'polyint', 'polymul', 'polynomial', 'polysub', 'polyval', 'positive', 'power', 'printoptions', 'prod', 'product', 'promote_types', 'ptp', 'put', 'put_along_axis', 'putmask', 'quantile', 'r_', 'rad2deg', 'radians', 'random', 'ravel', 'ravel_multi_index', 'real', 'real_if_close', 'rec', 'recarray', 'recfromcsv', 'recfromtxt', 'reciprocal', 'record', 'remainder', 'repeat', 'require', 'reshape', 'resize', 'result_type', 'right_shift', 'rint', 'roll', 'rollaxis', 'roots', 'rot90', 'round', 'round_', 'row_stack', 's_', 'safe_eval', 'save', 'savetxt', 'savez', 'savez_compressed', 'sctype2char', 'sctypeDict', 'sctypes', 'searchsorted', 'select', 'set_numeric_ops', 'set_printoptions', 'set_string_function', 'setbufsize', 'setdiff1d', 'seterr', 'seterrcall', 'seterrobj', 'setxor1d', 'shape', 'shares_memory', 'short', 'show_config', 'show_runtime', 'sign', 'signbit', 'signedinteger', 'sin', 'sinc', 'single', 'singlecomplex', 'sinh', 'size', 'sometrue', 'sort', 'sort_complex', 'source', 'spacing', 'split', 'sqrt', 'square', 'squeeze', 'stack', 'std', 'str_', 'string_', 'subtract', 'sum', 'swapaxes', 'take', 'take_along_axis', 'tan', 'tanh', 'tensordot', 'test', 'testing', 'tile', 'timedelta64', 'trace', 'tracemalloc_domain', 'transpose', 'trapz', 'tri', 'tril', 'tril_indices', 'tril_indices_from', 'trim_zeros', 'triu', 'triu_indices', 'triu_indices_from', 'true_divide', 'trunc', 'typecodes', 'typename', 'ubyte', 'ufunc', 'uint', 'uint16', 'uint32', 'uint64', 'uint8', 'uintc', 'uintp', 'ulonglong', 'unicode_', 'union1d', 'unique', 'unpackbits', 'unravel_index', 'unsignedinteger', 'unwrap', 'use_hugepage', 'ushort', 'vander', 'var', 'vdot', 'vectorize', 'version', 'void', 'vsplit', 'vstack', 'where', 'who', 'zeros', 'zeros_like']\n"
     ]
    }
   ],
   "source": [
    "import numpy\n",
    "print(dir(numpy))"
   ]
  },
  {
   "cell_type": "code",
   "execution_count": 43,
   "id": "2ffc96f9",
   "metadata": {},
   "outputs": [
    {
     "data": {
      "text/plain": [
       "array([1.+0.j, 2.+0.j, 3.+0.j])"
      ]
     },
     "execution_count": 43,
     "metadata": {},
     "output_type": "execute_result"
    }
   ],
   "source": [
    "a=np.array([1,2,3],dtype=complex)\n",
    "a"
   ]
  },
  {
   "cell_type": "code",
   "execution_count": 44,
   "id": "85c76c01",
   "metadata": {},
   "outputs": [
    {
     "name": "stdout",
     "output_type": "stream",
     "text": [
      "3\n"
     ]
    }
   ],
   "source": [
    "a=np.array([1,2,3,5,8])\n",
    "a=a+1\n",
    "print(a[1])"
   ]
  },
  {
   "cell_type": "code",
   "execution_count": 45,
   "id": "0ba3edc7",
   "metadata": {},
   "outputs": [
    {
     "data": {
      "text/plain": [
       "array([1, 2, 3])"
      ]
     },
     "execution_count": 45,
     "metadata": {},
     "output_type": "execute_result"
    }
   ],
   "source": [
    "a=np.array([1,2,3])\n",
    "a"
   ]
  },
  {
   "cell_type": "code",
   "execution_count": null,
   "id": "9c309981",
   "metadata": {},
   "outputs": [],
   "source": []
  }
 ],
 "metadata": {
  "kernelspec": {
   "display_name": "Python 3 (ipykernel)",
   "language": "python",
   "name": "python3"
  },
  "language_info": {
   "codemirror_mode": {
    "name": "ipython",
    "version": 3
   },
   "file_extension": ".py",
   "mimetype": "text/x-python",
   "name": "python",
   "nbconvert_exporter": "python",
   "pygments_lexer": "ipython3",
   "version": "3.11.5"
  }
 },
 "nbformat": 4,
 "nbformat_minor": 5
}
