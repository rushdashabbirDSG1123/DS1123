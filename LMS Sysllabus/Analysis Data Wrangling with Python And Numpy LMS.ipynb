{
 "cells": [
  {
   "cell_type": "code",
   "execution_count": 1,
   "id": "64b7e998",
   "metadata": {},
   "outputs": [],
   "source": [
    "import numpy as np\n",
    "import pandas as pd"
   ]
  },
  {
   "cell_type": "markdown",
   "id": "4a0aaa2f",
   "metadata": {},
   "source": [
    "#                                    # Analysis Data wrangling with Numpy"
   ]
  },
  {
   "cell_type": "code",
   "execution_count": 2,
   "id": "dc79dd0a",
   "metadata": {},
   "outputs": [
    {
     "data": {
      "text/plain": [
       "array([ 5,  9, 13])"
      ]
     },
     "execution_count": 2,
     "metadata": {},
     "output_type": "execute_result"
    }
   ],
   "source": [
    "np.array([5,9,13])"
   ]
  },
  {
   "cell_type": "code",
   "execution_count": 3,
   "id": "8fb7fc1a",
   "metadata": {},
   "outputs": [
    {
     "data": {
      "text/plain": [
       "list"
      ]
     },
     "execution_count": 3,
     "metadata": {},
     "output_type": "execute_result"
    }
   ],
   "source": [
    "type([5,9,13])"
   ]
  },
  {
   "cell_type": "code",
   "execution_count": 5,
   "id": "eb4b6402",
   "metadata": {},
   "outputs": [
    {
     "name": "stdout",
     "output_type": "stream",
     "text": [
      "Type- int32\n",
      "\n",
      " ------------------------------\n",
      "\n",
      " [[1 2]\n",
      " [3 4]\n",
      " [4 5]]\n"
     ]
    }
   ],
   "source": [
    "# Two Dimention \n",
    "a=np.array([[1,2],[3,4],[4,5]])\n",
    "print(\"Type-\",a.dtype)\n",
    "print('\\n','-'*30)\n",
    "print('\\n',a)"
   ]
  },
  {
   "cell_type": "code",
   "execution_count": 6,
   "id": "30fc1285",
   "metadata": {},
   "outputs": [
    {
     "data": {
      "text/plain": [
       "array([1., 2., 3.])"
      ]
     },
     "execution_count": 6,
     "metadata": {},
     "output_type": "execute_result"
    }
   ],
   "source": [
    "#dtype conversion\n",
    "np.array([1,2,3],dtype=float)"
   ]
  },
  {
   "cell_type": "markdown",
   "id": "dd66e8bd",
   "metadata": {},
   "source": [
    "# Numpy Data Types"
   ]
  },
  {
   "cell_type": "code",
   "execution_count": 11,
   "id": "29d31644",
   "metadata": {},
   "outputs": [
    {
     "name": "stdout",
     "output_type": "stream",
     "text": [
      "<class 'numpy.ndarray'>\n"
     ]
    }
   ],
   "source": [
    "my_mat=[[1,2,3],[4,5,6],[7,8,9]]\n",
    "mat=np.array(my_mat)\n",
    "print(type(mat))"
   ]
  },
  {
   "cell_type": "code",
   "execution_count": 14,
   "id": "45e0d90f",
   "metadata": {},
   "outputs": [
    {
     "name": "stdout",
     "output_type": "stream",
     "text": [
      "Here is the matrix  \n",
      "--------------\n",
      " [[1 2 3]\n",
      " [4 5 6]\n",
      " [7 8 9]] \n",
      "--------------\n",
      "dimention  of this metrix :2\n",
      "shape of this matrix : (3, 3)\n",
      "data type of this matrix : int32\n"
     ]
    }
   ],
   "source": [
    "print(\"Here is the matrix  \\n--------------\\n\",mat,\"\\n--------------\")\n",
    "print(\"dimention  of this metrix :\",mat.ndim,sep=\"\")\n",
    "print(\"shape of this matrix :\",mat.shape)\n",
    "print(\"data type of this matrix :\",mat.dtype)"
   ]
  },
  {
   "cell_type": "markdown",
   "id": "436e741c",
   "metadata": {},
   "source": [
    "# Numpy arange Linspace"
   ]
  },
  {
   "cell_type": "code",
   "execution_count": 15,
   "id": "4a65fa78",
   "metadata": {},
   "outputs": [
    {
     "ename": "TypeError",
     "evalue": "'float' object cannot be interpreted as an integer",
     "output_type": "error",
     "traceback": [
      "\u001b[1;31m---------------------------------------------------------------------------\u001b[0m",
      "\u001b[1;31mTypeError\u001b[0m                                 Traceback (most recent call last)",
      "Cell \u001b[1;32mIn[15], line 2\u001b[0m\n\u001b[0;32m      1\u001b[0m \u001b[38;5;66;03m# dont work with python range\u001b[39;00m\n\u001b[1;32m----> 2\u001b[0m \u001b[38;5;28mlist\u001b[39m\u001b[38;5;241m=\u001b[39m(\u001b[38;5;28mrange\u001b[39m(\u001b[38;5;241m2\u001b[39m,\u001b[38;5;241m10.5\u001b[39m,\u001b[38;5;241m4\u001b[39m))\n\u001b[0;32m      3\u001b[0m \u001b[38;5;28mlist\u001b[39m\n",
      "\u001b[1;31mTypeError\u001b[0m: 'float' object cannot be interpreted as an integer"
     ]
    }
   ],
   "source": [
    "# dont work with python range\n",
    "list=(range(2,10.5,4))\n",
    "list # it will not work"
   ]
  },
  {
   "cell_type": "code",
   "execution_count": 16,
   "id": "30845876",
   "metadata": {},
   "outputs": [
    {
     "data": {
      "text/plain": [
       "array([ 2.,  6., 10.])"
      ]
     },
     "execution_count": 16,
     "metadata": {},
     "output_type": "execute_result"
    }
   ],
   "source": [
    "a=np.arange(2,10.5,4)\n",
    "a"
   ]
  },
  {
   "cell_type": "code",
   "execution_count": 17,
   "id": "9b1db6d7",
   "metadata": {},
   "outputs": [
    {
     "data": {
      "text/plain": [
       "array([10.,  6.,  2.])"
      ]
     },
     "execution_count": 17,
     "metadata": {},
     "output_type": "execute_result"
    }
   ],
   "source": [
    "# reverse order\n",
    "a[::-1]"
   ]
  },
  {
   "cell_type": "code",
   "execution_count": 18,
   "id": "a40a59bc",
   "metadata": {},
   "outputs": [
    {
     "name": "stdout",
     "output_type": "stream",
     "text": [
      " Every 5th nu. from 50 in reverse order \n",
      " [50 45 40 35 30 25 20 15 10  5]\n"
     ]
    }
   ],
   "source": [
    "print(\" Every 5th nu. from 50 in reverse order \\n\",np.arange(50,0,-5))"
   ]
  },
  {
   "cell_type": "code",
   "execution_count": 19,
   "id": "0de95712",
   "metadata": {},
   "outputs": [
    {
     "name": "stdout",
     "output_type": "stream",
     "text": [
      "Linearly spaced number between 1 & 5 \n",
      "------------------------\n",
      "[10.  17.5 25.  32.5 40. ]\n"
     ]
    }
   ],
   "source": [
    "print(\"Linearly spaced number between 1 & 5 \\n------------------------\")\n",
    "print(np.linspace(10,40,5))"
   ]
  },
  {
   "cell_type": "code",
   "execution_count": 20,
   "id": "b14f71d7",
   "metadata": {},
   "outputs": [
    {
     "data": {
      "text/plain": [
       "(array([2.        , 2.33333333, 2.66666667, 3.        ]), 0.3333333333333333)"
      ]
     },
     "execution_count": 20,
     "metadata": {},
     "output_type": "execute_result"
    }
   ],
   "source": [
    "# include end point and check space between the point \n",
    "np.linspace(2.0,3.0,num=4,endpoint=True,retstep=True)"
   ]
  },
  {
   "cell_type": "markdown",
   "id": "c557cda9",
   "metadata": {},
   "source": [
    "# matrix Creation"
   ]
  },
  {
   "cell_type": "code",
   "execution_count": 21,
   "id": "4dab545b",
   "metadata": {},
   "outputs": [
    {
     "name": "stdout",
     "output_type": "stream",
     "text": [
      "Venctor of Zeros \n",
      "--------------------\n",
      "[0. 0. 0. 0. 0.]\n"
     ]
    }
   ],
   "source": [
    "print(\"Venctor of Zeros \\n--------------------\")\n",
    "print(np.zeros(5))"
   ]
  },
  {
   "cell_type": "code",
   "execution_count": 22,
   "id": "7f37cb73",
   "metadata": {},
   "outputs": [
    {
     "name": "stdout",
     "output_type": "stream",
     "text": [
      "[[0. 0. 0. 0. 0. 0.]\n",
      " [0. 0. 0. 0. 0. 0.]\n",
      " [0. 0. 0. 0. 0. 0.]\n",
      " [0. 0. 0. 0. 0. 0.]\n",
      " [0. 0. 0. 0. 0. 0.]]\n"
     ]
    }
   ],
   "source": [
    "print(np.zeros((5,6)))"
   ]
  },
  {
   "cell_type": "markdown",
   "id": "f27701f6",
   "metadata": {},
   "source": [
    "# Numpy matrix Reshape"
   ]
  },
  {
   "cell_type": "code",
   "execution_count": 23,
   "id": "952de455",
   "metadata": {},
   "outputs": [
    {
     "name": "stdout",
     "output_type": "stream",
     "text": [
      "vector of zeros \n",
      "----------------------\n",
      "[0. 0. 0. 0. 0.]\n"
     ]
    }
   ],
   "source": [
    "print(\"vector of zeros \\n----------------------\")\n",
    "print(np.zeros(5))"
   ]
  },
  {
   "cell_type": "code",
   "execution_count": 24,
   "id": "ff049353",
   "metadata": {},
   "outputs": [
    {
     "name": "stdout",
     "output_type": "stream",
     "text": [
      "matrix of zeros \n",
      " ------------------\n",
      "[[0. 0. 0. 0. 0. 0.]\n",
      " [0. 0. 0. 0. 0. 0.]\n",
      " [0. 0. 0. 0. 0. 0.]\n",
      " [0. 0. 0. 0. 0. 0.]\n",
      " [0. 0. 0. 0. 0. 0.]]\n"
     ]
    }
   ],
   "source": [
    "print(\"matrix of zeros \\n ------------------\")\n",
    "print(np.zeros((5,6))) # noticed tuple"
   ]
  },
  {
   "cell_type": "code",
   "execution_count": 25,
   "id": "5d75f030",
   "metadata": {},
   "outputs": [
    {
     "name": "stdout",
     "output_type": "stream",
     "text": [
      "matrix of ones \n",
      "--------------------\n",
      "[[1. 1. 1. 1. 1. 1. 1. 1.]\n",
      " [1. 1. 1. 1. 1. 1. 1. 1.]\n",
      " [1. 1. 1. 1. 1. 1. 1. 1.]\n",
      " [1. 1. 1. 1. 1. 1. 1. 1.]\n",
      " [1. 1. 1. 1. 1. 1. 1. 1.]]\n"
     ]
    }
   ],
   "source": [
    "print(\"matrix of ones \\n--------------------\")\n",
    "print(np.ones((5,8)))"
   ]
  },
  {
   "cell_type": "code",
   "execution_count": 26,
   "id": "efaf4efd",
   "metadata": {},
   "outputs": [
    {
     "name": "stdout",
     "output_type": "stream",
     "text": [
      "matrix of 5 \n",
      "----------------------\n",
      "[[5. 5. 5.]\n",
      " [5. 5. 5.]]\n"
     ]
    }
   ],
   "source": [
    "print(\"matrix of 5 \\n----------------------\")\n",
    "print(5*np.ones((2,3)))"
   ]
  },
  {
   "cell_type": "code",
   "execution_count": 27,
   "id": "9dd77439",
   "metadata": {},
   "outputs": [
    {
     "name": "stdout",
     "output_type": "stream",
     "text": [
      "[[ 0  1  2  3  4  5  6  7  8  9]\n",
      " [10 11 12 13 14 15 16 17 18 19]\n",
      " [20 21 22 23 24 25 26 27 28 29]]\n"
     ]
    }
   ],
   "source": [
    "# construct diagonal matrix\n",
    "n= np.arange(30).reshape(3,10)\n",
    "print(n)"
   ]
  },
  {
   "cell_type": "markdown",
   "id": "2572de9e",
   "metadata": {},
   "source": [
    "# Random Number"
   ]
  },
  {
   "cell_type": "code",
   "execution_count": 30,
   "id": "e5e92ab3",
   "metadata": {},
   "outputs": [
    {
     "name": "stdout",
     "output_type": "stream",
     "text": [
      " Random number generation(from uniform distribution)\n",
      "[[0.22199317 0.87073231 0.20671916 0.91861091 0.48841119 0.61174386]\n",
      " [0.76590786 0.51841799 0.2968005  0.18772123 0.08074127 0.7384403 ]\n",
      " [0.44130922 0.15830987 0.87993703 0.27408646 0.41423502 0.29607993]\n",
      " [0.62878791 0.57983781 0.5999292  0.26581912 0.28468588 0.25358821]\n",
      " [0.32756395 0.1441643  0.16561286 0.96393053 0.96022672 0.18841466]\n",
      " [0.02430656 0.20455555 0.69984361 0.77951459 0.02293309 0.57766286]\n",
      " [0.00164217 0.51547261 0.63979518 0.9856244  0.2590976  0.80249689]\n",
      " [0.87048309 0.92274961 0.00221421 0.46948837 0.98146874 0.3989448 ]\n",
      " [0.81373248 0.5464565  0.77085409 0.48493107 0.02911156 0.08652569]\n",
      " [0.11145381 0.25124511 0.96491529 0.63176605 0.8166602  0.566082  ]]\n",
      "Number from normal dist.with zeros means & standard deviation 1 i.e std normal\n"
     ]
    }
   ],
   "source": [
    "np.random.seed(5)\n",
    "print(\" Random number generation(from uniform distribution)\")\n",
    "print(np.random.rand(10,6))\n",
    "print(\"Number from normal dist.with zeros means & standard deviation 1 i.e std normal\")"
   ]
  },
  {
   "cell_type": "code",
   "execution_count": 32,
   "id": "d593a35f",
   "metadata": {},
   "outputs": [
    {
     "name": "stdout",
     "output_type": "stream",
     "text": [
      "[[ 1.18906073 -0.07359332 -2.85968797]\n",
      " [ 0.7893664  -1.87774088  1.53875615]\n",
      " [ 1.82136474 -0.42703139 -1.16470191]\n",
      " [-1.39707402  0.87265462 -0.20211818]\n",
      " [-0.59835993 -0.2434197   2.08851469]\n",
      " [ 0.34691933  0.74572695  0.77690759]\n",
      " [ 1.01842113  1.06135144 -0.71046645]\n",
      " [-0.2151878  -0.76076031 -0.71116323]\n",
      " [ 1.14150774 -0.50175555 -0.07915136]\n",
      " [-0.69282634 -0.59340277  0.78823794]]\n"
     ]
    }
   ],
   "source": [
    "print(np.random.randn(10,3))"
   ]
  },
  {
   "cell_type": "code",
   "execution_count": 34,
   "id": "196cd5a1",
   "metadata": {},
   "outputs": [
    {
     "name": "stdout",
     "output_type": "stream",
     "text": [
      "random integers matrix\n",
      "[[29 24  6  2 28  7 28]\n",
      " [ 8  4 15 10  8 26 27]\n",
      " [ 8 23  7 15  5 11 22]\n",
      " [11  5  1 17 18 29  6]\n",
      " [ 4 16 18 24 17 12 27]\n",
      " [26  9 20 21 21 11 26]]\n"
     ]
    }
   ],
   "source": [
    "print(\"random integers matrix\")\n",
    "print(np.random.randint(1,30,(6,7)))\n",
    "# randint (low.high. no. of sample to be drawn in a tuple to form a matrix)"
   ]
  },
  {
   "cell_type": "markdown",
   "id": "d677d08f",
   "metadata": {},
   "source": [
    "# Numpy conditions"
   ]
  },
  {
   "cell_type": "code",
   "execution_count": 35,
   "id": "3d41ecaf",
   "metadata": {},
   "outputs": [
    {
     "data": {
      "text/plain": [
       "array([10, 32, 23, 17, 16, 16, 32, 14, 18, 36])"
      ]
     },
     "execution_count": 35,
     "metadata": {},
     "output_type": "execute_result"
    }
   ],
   "source": [
    "a=np.random.randint(1,40,10)\n",
    "a"
   ]
  },
  {
   "cell_type": "code",
   "execution_count": 36,
   "id": "7b121aa3",
   "metadata": {},
   "outputs": [
    {
     "data": {
      "text/plain": [
       "array([10, 32, 23, 17, 16, 16, 32, 14, 18, 36])"
      ]
     },
     "execution_count": 36,
     "metadata": {},
     "output_type": "execute_result"
    }
   ],
   "source": [
    "#replace data with fixed number\n",
    "np.clip(a,a_min=10,a_max=250) # clip method use for fix replace data"
   ]
  },
  {
   "cell_type": "code",
   "execution_count": 40,
   "id": "3aa2801b",
   "metadata": {},
   "outputs": [
    {
     "name": "stdout",
     "output_type": "stream",
     "text": [
      "(array([], dtype=int64),)\n"
     ]
    }
   ],
   "source": [
    "print(np.where(a<10))"
   ]
  },
  {
   "cell_type": "code",
   "execution_count": 41,
   "id": "3b3f1ff6",
   "metadata": {},
   "outputs": [
    {
     "name": "stdout",
     "output_type": "stream",
     "text": [
      "(array([], dtype=int64),)\n"
     ]
    }
   ],
   "source": [
    "# find if data exist in the array\n",
    "print(np.where(a==38))"
   ]
  },
  {
   "cell_type": "markdown",
   "id": "c5e43f25",
   "metadata": {},
   "source": [
    "# Reshape And sorting"
   ]
  },
  {
   "cell_type": "code",
   "execution_count": 3,
   "id": "a9ea667f",
   "metadata": {},
   "outputs": [],
   "source": [
    "from numpy.random import randint as ri"
   ]
  },
  {
   "cell_type": "code",
   "execution_count": 4,
   "id": "390bca59",
   "metadata": {},
   "outputs": [
    {
     "data": {
      "text/plain": [
       "array([94, 93, 14, 41, 97, 91,  6,  1, 96, 88, 64, 39, 27, 69, 16, 53, 85,\n",
       "       94, 91, 61, 47, 35, 40, 35, 77, 23, 29, 96, 87, 92])"
      ]
     },
     "execution_count": 4,
     "metadata": {},
     "output_type": "execute_result"
    }
   ],
   "source": [
    "a=ri(1,99,30)\n",
    "a"
   ]
  },
  {
   "cell_type": "code",
   "execution_count": 5,
   "id": "65cb6192",
   "metadata": {},
   "outputs": [
    {
     "data": {
      "text/plain": [
       "array([[[94, 93, 14, 41, 97],\n",
       "        [91,  6,  1, 96, 88],\n",
       "        [64, 39, 27, 69, 16]],\n",
       "\n",
       "       [[53, 85, 94, 91, 61],\n",
       "        [47, 35, 40, 35, 77],\n",
       "        [23, 29, 96, 87, 92]]])"
      ]
     },
     "execution_count": 5,
     "metadata": {},
     "output_type": "execute_result"
    }
   ],
   "source": [
    "b=a.reshape(2,3,5) # two matrix,3 rows 5 columns\n",
    "b"
   ]
  },
  {
   "cell_type": "code",
   "execution_count": 6,
   "id": "9ff69c6a",
   "metadata": {},
   "outputs": [
    {
     "data": {
      "text/plain": [
       "array([[94, 93, 14, 41, 97],\n",
       "       [91,  6,  1, 96, 88],\n",
       "       [64, 39, 27, 69, 16],\n",
       "       [53, 85, 94, 91, 61],\n",
       "       [47, 35, 40, 35, 77],\n",
       "       [23, 29, 96, 87, 92]])"
      ]
     },
     "execution_count": 6,
     "metadata": {},
     "output_type": "execute_result"
    }
   ],
   "source": [
    "c=a.reshape(6,5)\n",
    "c"
   ]
  },
  {
   "cell_type": "code",
   "execution_count": 8,
   "id": "cc6685a4",
   "metadata": {},
   "outputs": [
    {
     "name": "stdout",
     "output_type": "stream",
     "text": [
      "min of a : 1\n",
      "max of a : 97\n"
     ]
    }
   ],
   "source": [
    "print(\"min of a :\",c.min())\n",
    "print(\"max of a :\",c.max())"
   ]
  },
  {
   "cell_type": "markdown",
   "id": "8a6c92f2",
   "metadata": {},
   "source": [
    "# Sorting"
   ]
  },
  {
   "cell_type": "code",
   "execution_count": 9,
   "id": "b8f9507b",
   "metadata": {},
   "outputs": [],
   "source": [
    "M=ri(1,100,25).reshape(5,5)\n",
    "#matrix of random integers"
   ]
  },
  {
   "cell_type": "code",
   "execution_count": 10,
   "id": "a59d87b5",
   "metadata": {},
   "outputs": [
    {
     "name": "stdout",
     "output_type": "stream",
     "text": [
      "\n",
      " 5*5 matrix of random integers\n",
      " -------------------------------------------------- \n",
      " [[ 1  9 15 24  8]\n",
      " [42 31 60  7  7]\n",
      " [24 28 77 43 29]\n",
      " [26 14 50 32 82]\n",
      " [19 86 79 53 95]]\n"
     ]
    }
   ],
   "source": [
    "print(\"\\n 5*5 matrix of random integers\\n\",'-'*50,'\\n',M)"
   ]
  },
  {
   "cell_type": "code",
   "execution_count": 11,
   "id": "fe123d20",
   "metadata": {},
   "outputs": [
    {
     "name": "stdout",
     "output_type": "stream",
     "text": [
      "\n",
      " here is the sorted matrix along each row \n",
      " -------------------------------------------------- \n",
      " [[ 1  8  9 15 24]\n",
      " [ 7  7 31 42 60]\n",
      " [24 28 29 43 77]\n",
      " [14 26 32 50 82]\n",
      " [19 53 79 86 95]]\n"
     ]
    }
   ],
   "source": [
    "print(\"\\n here is the sorted matrix along each row \\n\",'-'*50,'\\n',np.sort(M)) # default axis=1"
   ]
  },
  {
   "cell_type": "code",
   "execution_count": 13,
   "id": "68c98890",
   "metadata": {},
   "outputs": [
    {
     "name": "stdout",
     "output_type": "stream",
     "text": [
      "\n",
      " here is the sorted matrix along each column \n",
      " -------------------------------------------------- \n",
      " [[ 1  9 15  7  7]\n",
      " [19 14 50 24  8]\n",
      " [24 28 60 32 29]\n",
      " [26 31 77 43 82]\n",
      " [42 86 79 53 95]]\n"
     ]
    }
   ],
   "source": [
    "print('\\n here is the sorted matrix along each column \\n','-'*50,'\\n',np.sort(M,axis=0))"
   ]
  },
  {
   "cell_type": "markdown",
   "id": "98c0ae60",
   "metadata": {},
   "source": [
    "# Indexing sort and Update"
   ]
  },
  {
   "cell_type": "code",
   "execution_count": 14,
   "id": "418b42f7",
   "metadata": {},
   "outputs": [
    {
     "name": "stdout",
     "output_type": "stream",
     "text": [
      "array: [13 14 15 16 17 18 19 20 21 22 23 24 25 26 27 28 29]\n"
     ]
    }
   ],
   "source": [
    "arr=np.arange(13,30)\n",
    "print(\"array:\",arr)"
   ]
  },
  {
   "cell_type": "code",
   "execution_count": 15,
   "id": "5e5c18e7",
   "metadata": {},
   "outputs": [
    {
     "name": "stdout",
     "output_type": "stream",
     "text": [
      "Element at 7th index is : 20\n"
     ]
    }
   ],
   "source": [
    "print(\"Element at 7th index is :\",arr[7])"
   ]
  },
  {
   "cell_type": "code",
   "execution_count": null,
   "id": "52ad12c4",
   "metadata": {},
   "outputs": [],
   "source": [
    "print(\"elements from 3rd to 5th index are:\",arr[3:6])"
   ]
  },
  {
   "cell_type": "code",
   "execution_count": 17,
   "id": "d0a39d38",
   "metadata": {},
   "outputs": [
    {
     "name": "stdout",
     "output_type": "stream",
     "text": [
      "elements up to 4th  index are: [17 18 19 20 21 22 23 24 25 26 27 28 29]\n"
     ]
    },
    {
     "data": {
      "text/plain": [
       "array([17, 18, 19, 20, 21, 22, 23, 24, 25, 26, 27, 28, 29])"
      ]
     },
     "execution_count": 17,
     "metadata": {},
     "output_type": "execute_result"
    }
   ],
   "source": [
    "print(\"elements up to 4th  index are:\",arr[4:])\n",
    "abc=arr[4:]\n",
    "abc"
   ]
  },
  {
   "cell_type": "code",
   "execution_count": 18,
   "id": "5756ae4b",
   "metadata": {},
   "outputs": [
    {
     "name": "stdout",
     "output_type": "stream",
     "text": [
      "Elemts from last backwards are: [29 27 25 23 21 19 17 15 13]\n"
     ]
    }
   ],
   "source": [
    "print(\"Elemts from last backwards are:\",arr[-1::-2])"
   ]
  },
  {
   "cell_type": "code",
   "execution_count": 19,
   "id": "c0f1c486",
   "metadata": {},
   "outputs": [
    {
     "name": "stdout",
     "output_type": "stream",
     "text": [
      "7 Elements from last backwards are: [29 28 27 26 25 24 23]\n"
     ]
    }
   ],
   "source": [
    "print(\"7 Elements from last backwards are:\",arr[-1:-8:-1])"
   ]
  },
  {
   "cell_type": "code",
   "execution_count": 20,
   "id": "1223cc8c",
   "metadata": {},
   "outputs": [
    {
     "name": "stdout",
     "output_type": "stream",
     "text": [
      "New array: [ 0  2  4  6  8 10 12 14 16 18 20]\n"
     ]
    }
   ],
   "source": [
    "arr=np.arange(0,21,2)\n",
    "print(\"New array:\",arr)"
   ]
  },
  {
   "cell_type": "code",
   "execution_count": 21,
   "id": "10211df7",
   "metadata": {},
   "outputs": [
    {
     "name": "stdout",
     "output_type": "stream",
     "text": [
      "Elements at 2nd ,4th and 9th index are : [ 4  8 18]\n"
     ]
    }
   ],
   "source": [
    "print(\"Elements at 2nd ,4th and 9th index are :\",arr[[2,4,9]])"
   ]
  },
  {
   "cell_type": "code",
   "execution_count": 22,
   "id": "17e5bef2",
   "metadata": {},
   "outputs": [
    {
     "data": {
      "text/plain": [
       "array([[1, 2, 3],\n",
       "       [4, 5, 6],\n",
       "       [7, 8, 9]])"
      ]
     },
     "execution_count": 22,
     "metadata": {},
     "output_type": "execute_result"
    }
   ],
   "source": [
    "my_mat=[[1,2,3],[4,5,6],[7,8,9]]\n",
    "mat=np.array(my_mat)\n",
    "mat"
   ]
  },
  {
   "cell_type": "code",
   "execution_count": 23,
   "id": "ff7370be",
   "metadata": {},
   "outputs": [
    {
     "name": "stdout",
     "output_type": "stream",
     "text": [
      "\n",
      " Double bracket indexing \n",
      "----------------------\n",
      "Elements in row index 1 & column index 2: 6\n"
     ]
    }
   ],
   "source": [
    "print(\"\\n Double bracket indexing \\n----------------------\")\n",
    "print(\"Elements in row index 1 & column index 2:\",mat[1][2])"
   ]
  },
  {
   "cell_type": "code",
   "execution_count": 25,
   "id": "454a5563",
   "metadata": {},
   "outputs": [
    {
     "name": "stdout",
     "output_type": "stream",
     "text": [
      "entire raw at index 2: [7 8 9]\n",
      "\n",
      " Entire column at index 3:\n",
      " [[2 3]\n",
      " [5 6]\n",
      " [8 9]]\n"
     ]
    }
   ],
   "source": [
    "print(\"entire raw at index 2:\",mat[2])\n",
    "print(\"\\n Entire column at index 3:\\n\",mat[:,1:])"
   ]
  },
  {
   "cell_type": "code",
   "execution_count": 26,
   "id": "485ead9a",
   "metadata": {},
   "outputs": [
    {
     "name": "stdout",
     "output_type": "stream",
     "text": [
      "\n",
      " subsetting sub-matrics\n",
      "-----------------\n",
      "matrix with row index 1& 2 and column index 3 & 4 \n",
      " [[5]]\n"
     ]
    }
   ],
   "source": [
    "print(\"\\n subsetting sub-matrics\\n-----------------\")\n",
    "print(\"matrix with row index 1& 2 and column index 3 & 4 \\n\",mat[1:2,1:2])"
   ]
  },
  {
   "cell_type": "code",
   "execution_count": 27,
   "id": "1d242c74",
   "metadata": {},
   "outputs": [
    {
     "name": "stdout",
     "output_type": "stream",
     "text": [
      "[[2 3]\n",
      " [5 6]]\n"
     ]
    }
   ],
   "source": [
    "print(mat[0:2,[1,2]]) # raw and column"
   ]
  },
  {
   "cell_type": "markdown",
   "id": "e77bb5b5",
   "metadata": {},
   "source": [
    "# update matrix"
   ]
  },
  {
   "cell_type": "code",
   "execution_count": 28,
   "id": "a7c4e575",
   "metadata": {},
   "outputs": [
    {
     "name": "stdout",
     "output_type": "stream",
     "text": [
      "Original matrix \n",
      " [[1 2 3]\n",
      " [4 5 6]\n",
      " [7 8 9]]\n"
     ]
    }
   ],
   "source": [
    "print('Original matrix \\n',mat)"
   ]
  },
  {
   "cell_type": "code",
   "execution_count": 29,
   "id": "d9211c05",
   "metadata": {},
   "outputs": [
    {
     "name": "stdout",
     "output_type": "stream",
     "text": [
      "[[ 1 35  3]\n",
      " [ 4  5  6]\n",
      " [ 7  8  9]]\n"
     ]
    }
   ],
   "source": [
    "mat[0,1]=35\n",
    "print(mat)"
   ]
  },
  {
   "cell_type": "markdown",
   "id": "54e3531b",
   "metadata": {},
   "source": [
    "# Subsetting"
   ]
  },
  {
   "cell_type": "code",
   "execution_count": 30,
   "id": "421d7296",
   "metadata": {},
   "outputs": [
    {
     "name": "stdout",
     "output_type": "stream",
     "text": [
      "matrix of random 2 digit number \n",
      "---------------------------------\n",
      " [[22 96 15 97 87]\n",
      " [37 39 89 25 26]\n",
      " [47 85 67 35 95]]\n"
     ]
    }
   ],
   "source": [
    "mat=np.array(ri(10,100,15)).reshape(3,5)\n",
    "print(\"matrix of random 2 digit number \\n---------------------------------\\n\",mat)"
   ]
  },
  {
   "cell_type": "code",
   "execution_count": 31,
   "id": "8c5a3b04",
   "metadata": {},
   "outputs": [
    {
     "data": {
      "text/plain": [
       "array([96, 97, 87, 89, 85, 95])"
      ]
     },
     "execution_count": 31,
     "metadata": {},
     "output_type": "execute_result"
    }
   ],
   "source": [
    "xyz=mat[mat>70]\n",
    "xyz"
   ]
  },
  {
   "cell_type": "code",
   "execution_count": 32,
   "id": "e8bf1b57",
   "metadata": {},
   "outputs": [
    {
     "name": "stdout",
     "output_type": "stream",
     "text": [
      "elements geater than 50 \n",
      " [96 97 87 89 85 67 95]\n"
     ]
    }
   ],
   "source": [
    "print(\"elements geater than 50 \\n\",mat[mat>50])"
   ]
  },
  {
   "cell_type": "code",
   "execution_count": 33,
   "id": "9e2961e1",
   "metadata": {},
   "outputs": [
    {
     "data": {
      "text/plain": [
       "array([[False,  True, False,  True,  True],\n",
       "       [False, False,  True, False, False],\n",
       "       [False,  True,  True, False,  True]])"
      ]
     },
     "execution_count": 33,
     "metadata": {},
     "output_type": "execute_result"
    }
   ],
   "source": [
    "mat>50 #it will shown True or false "
   ]
  },
  {
   "cell_type": "code",
   "execution_count": 34,
   "id": "2cb2336e",
   "metadata": {},
   "outputs": [
    {
     "name": "stdout",
     "output_type": "stream",
     "text": [
      "(array([], dtype=int64), array([], dtype=int64))\n"
     ]
    }
   ],
   "source": [
    "print(np.where(mat==55))"
   ]
  },
  {
   "cell_type": "markdown",
   "id": "53c0b7f6",
   "metadata": {},
   "source": [
    "# Universal function"
   ]
  },
  {
   "cell_type": "code",
   "execution_count": 35,
   "id": "671b23ab",
   "metadata": {},
   "outputs": [],
   "source": [
    "mat1=np.array(ri(1,10,9)).reshape(3,3)\n",
    "mat2=np.array(ri(1,10,9)).reshape(3,3)"
   ]
  },
  {
   "cell_type": "code",
   "execution_count": 36,
   "id": "dd54cbc3",
   "metadata": {},
   "outputs": [
    {
     "name": "stdout",
     "output_type": "stream",
     "text": [
      "\n",
      " 1st matrix of random single digit number \n",
      "---------------------------------------------\n",
      " [[7 6 9]\n",
      " [9 5 9]\n",
      " [4 9 9]]\n",
      "\n",
      " 2nd matrix of random single digit number \n",
      "---------------------------------------------\n",
      " [[5 5 4]\n",
      " [3 9 7]\n",
      " [7 6 9]]\n"
     ]
    }
   ],
   "source": [
    "print(\"\\n 1st matrix of random single digit number \\n---------------------------------------------\\n\",mat1)\n",
    "print(\"\\n 2nd matrix of random single digit number \\n---------------------------------------------\\n\",mat2)"
   ]
  },
  {
   "cell_type": "code",
   "execution_count": 37,
   "id": "1eaf33c4",
   "metadata": {},
   "outputs": [
    {
     "name": "stdout",
     "output_type": "stream",
     "text": [
      "\n",
      " Addition \n",
      "-------------------------------------------\n",
      " [[12 11 13]\n",
      " [12 14 16]\n",
      " [11 15 18]]\n",
      "\n",
      " Multiplication \n",
      "-------------------------------------------\n",
      " [[35 30 36]\n",
      " [27 45 63]\n",
      " [28 54 81]]\n"
     ]
    }
   ],
   "source": [
    "print(\"\\n Addition \\n-------------------------------------------\\n\",mat1+mat2)\n",
    "print(\"\\n Multiplication \\n-------------------------------------------\\n\",mat1*mat2)"
   ]
  },
  {
   "cell_type": "code",
   "execution_count": 38,
   "id": "ca5e70c0",
   "metadata": {},
   "outputs": [
    {
     "name": "stdout",
     "output_type": "stream",
     "text": [
      "mat1 \n",
      " [[7 6 9]\n",
      " [9 5 9]\n",
      " [4 9 9]]\n",
      "mat1 \n",
      " [[5 5 4]\n",
      " [3 9 7]\n",
      " [7 6 9]]\n"
     ]
    }
   ],
   "source": [
    "print(\"mat1 \\n\",mat1)\n",
    "print(\"mat1 \\n\",mat2)"
   ]
  },
  {
   "cell_type": "code",
   "execution_count": 39,
   "id": "c854dede",
   "metadata": {},
   "outputs": [
    {
     "name": "stdout",
     "output_type": "stream",
     "text": [
      "\n",
      " Division \n",
      "-------------------------------------------\n",
      " [[1.4        1.2        2.25      ]\n",
      " [3.         0.55555556 1.28571429]\n",
      " [0.57142857 1.5        1.        ]]\n",
      "\n",
      " Linear Combination =3*A - 2*A \n",
      "-----------------------------------\n",
      " [[11  8 19]\n",
      " [21 -3 13]\n",
      " [-2 15  9]]\n"
     ]
    }
   ],
   "source": [
    "print(\"\\n Division \\n-------------------------------------------\\n\",mat1/mat2)\n",
    "print(\"\\n Linear Combination =3*A - 2*A \\n-----------------------------------\\n\",3*mat1-2*mat2)"
   ]
  },
  {
   "cell_type": "markdown",
   "id": "39ab5d32",
   "metadata": {},
   "source": [
    "# BroadCasting"
   ]
  },
  {
   "cell_type": "code",
   "execution_count": 40,
   "id": "d6f0a72e",
   "metadata": {},
   "outputs": [
    {
     "name": "stdout",
     "output_type": "stream",
     "text": [
      "[[1 0 2]]\n"
     ]
    }
   ],
   "source": [
    "add_rows=np.array([[1,0,2]])\n",
    "print(add_rows)"
   ]
  },
  {
   "cell_type": "code",
   "execution_count": 43,
   "id": "bc558bd1",
   "metadata": {},
   "outputs": [
    {
     "data": {
      "text/plain": [
       "array([[0., 0., 0.],\n",
       "       [0., 0., 0.],\n",
       "       [0., 0., 0.]])"
      ]
     },
     "execution_count": 43,
     "metadata": {},
     "output_type": "execute_result"
    }
   ],
   "source": [
    "start=np.zeros((3,3))\n",
    "start"
   ]
  },
  {
   "cell_type": "code",
   "execution_count": 44,
   "id": "16fcf3af",
   "metadata": {},
   "outputs": [
    {
     "data": {
      "text/plain": [
       "array([[1., 0., 2.],\n",
       "       [1., 0., 2.],\n",
       "       [1., 0., 2.]])"
      ]
     },
     "execution_count": 44,
     "metadata": {},
     "output_type": "execute_result"
    }
   ],
   "source": [
    "y=start+add_rows\n",
    "y"
   ]
  },
  {
   "cell_type": "code",
   "execution_count": 45,
   "id": "a60f40b8",
   "metadata": {},
   "outputs": [
    {
     "data": {
      "text/plain": [
       "array([[1],\n",
       "       [0],\n",
       "       [2]])"
      ]
     },
     "execution_count": 45,
     "metadata": {},
     "output_type": "execute_result"
    }
   ],
   "source": [
    "new_rows=add_rows.T\n",
    "new_rows"
   ]
  },
  {
   "cell_type": "code",
   "execution_count": 46,
   "id": "3d0c9a46",
   "metadata": {},
   "outputs": [
    {
     "name": "stdout",
     "output_type": "stream",
     "text": [
      "[[1. 1. 1.]\n",
      " [0. 0. 0.]\n",
      " [2. 2. 2.]]\n"
     ]
    }
   ],
   "source": [
    "text=new_rows+start\n",
    "print(text)"
   ]
  },
  {
   "cell_type": "code",
   "execution_count": 47,
   "id": "8b66f2ec",
   "metadata": {},
   "outputs": [
    {
     "name": "stdout",
     "output_type": "stream",
     "text": [
      "[[0]\n",
      " [1]\n",
      " [2]\n",
      " [3]]\n"
     ]
    }
   ],
   "source": [
    "#create an array which is 4*1 to broadcaste across columns\n",
    "add_col=np.array([[0,1,2,3]])\n",
    "add_cols=add_col.T\n",
    "print(add_cols)"
   ]
  },
  {
   "cell_type": "markdown",
   "id": "f6458cef",
   "metadata": {},
   "source": [
    "# Array Math"
   ]
  },
  {
   "cell_type": "code",
   "execution_count": 48,
   "id": "46974bfc",
   "metadata": {},
   "outputs": [],
   "source": [
    "mat1=np.array(ri(1,10,9)).reshape(3,3)\n",
    "mat2=np.array(ri(1,10,9)).reshape(3,3)"
   ]
  },
  {
   "cell_type": "code",
   "execution_count": 50,
   "id": "1e8c48e8",
   "metadata": {},
   "outputs": [
    {
     "name": "stdout",
     "output_type": "stream",
     "text": [
      "[[5 8 1]\n",
      " [7 4 3]\n",
      " [9 9 5]]\n",
      "\n",
      " [[7 9 5]\n",
      " [7 5 6]\n",
      " [8 2 6]]\n"
     ]
    }
   ],
   "source": [
    "print(mat1)\n",
    "print('\\n',mat2)"
   ]
  },
  {
   "cell_type": "code",
   "execution_count": 51,
   "id": "1ef31813",
   "metadata": {},
   "outputs": [
    {
     "name": "stdout",
     "output_type": "stream",
     "text": [
      "\n",
      " sq-root of 1st matrix using np \n",
      "---------------------------------------\n",
      " [[2.23606798 2.82842712 1.        ]\n",
      " [2.64575131 2.         1.73205081]\n",
      " [3.         3.         2.23606798]]\n"
     ]
    }
   ],
   "source": [
    "print(\"\\n sq-root of 1st matrix using np \\n---------------------------------------\\n\",np.sqrt(mat1))"
   ]
  },
  {
   "cell_type": "code",
   "execution_count": 52,
   "id": "8fa3239e",
   "metadata": {},
   "outputs": [
    {
     "name": "stdout",
     "output_type": "stream",
     "text": [
      "\n",
      " square of 1st matrix using np \n",
      "---------------------------------------\n",
      " [[25 64  1]\n",
      " [49 16  9]\n",
      " [81 81 25]]\n"
     ]
    }
   ],
   "source": [
    "print(\"\\n square of 1st matrix using np \\n---------------------------------------\\n\",np.square(mat1))"
   ]
  },
  {
   "cell_type": "code",
   "execution_count": 53,
   "id": "d9194867",
   "metadata": {},
   "outputs": [
    {
     "name": "stdout",
     "output_type": "stream",
     "text": [
      "['ALLOW_THREADS', 'AxisError', 'BUFSIZE', 'CLIP', 'ComplexWarning', 'DataSource', 'ERR_CALL', 'ERR_DEFAULT', 'ERR_IGNORE', 'ERR_LOG', 'ERR_PRINT', 'ERR_RAISE', 'ERR_WARN', 'FLOATING_POINT_SUPPORT', 'FPE_DIVIDEBYZERO', 'FPE_INVALID', 'FPE_OVERFLOW', 'FPE_UNDERFLOW', 'False_', 'Inf', 'Infinity', 'MAXDIMS', 'MAY_SHARE_BOUNDS', 'MAY_SHARE_EXACT', 'ModuleDeprecationWarning', 'NAN', 'NINF', 'NZERO', 'NaN', 'PINF', 'PZERO', 'RAISE', 'RankWarning', 'SHIFT_DIVIDEBYZERO', 'SHIFT_INVALID', 'SHIFT_OVERFLOW', 'SHIFT_UNDERFLOW', 'ScalarType', 'Tester', 'TooHardError', 'True_', 'UFUNC_BUFSIZE_DEFAULT', 'UFUNC_PYVALS_NAME', 'VisibleDeprecationWarning', 'WRAP', '_CopyMode', '_NoValue', '_UFUNC_API', '__NUMPY_SETUP__', '__all__', '__builtins__', '__cached__', '__config__', '__deprecated_attrs__', '__dir__', '__doc__', '__expired_functions__', '__file__', '__former_attrs__', '__future_scalars__', '__getattr__', '__git_version__', '__loader__', '__mkl_version__', '__name__', '__package__', '__path__', '__spec__', '__version__', '_add_newdoc_ufunc', '_builtins', '_distributor_init', '_financial_names', '_get_promotion_state', '_globals', '_int_extended_msg', '_mat', '_no_nep50_warning', '_pyinstaller_hooks_dir', '_pytesttester', '_set_promotion_state', '_specific_msg', '_version', 'abs', 'absolute', 'add', 'add_docstring', 'add_newdoc', 'add_newdoc_ufunc', 'all', 'allclose', 'alltrue', 'amax', 'amin', 'angle', 'any', 'append', 'apply_along_axis', 'apply_over_axes', 'arange', 'arccos', 'arccosh', 'arcsin', 'arcsinh', 'arctan', 'arctan2', 'arctanh', 'argmax', 'argmin', 'argpartition', 'argsort', 'argwhere', 'around', 'array', 'array2string', 'array_equal', 'array_equiv', 'array_repr', 'array_split', 'array_str', 'asanyarray', 'asarray', 'asarray_chkfinite', 'ascontiguousarray', 'asfarray', 'asfortranarray', 'asmatrix', 'atleast_1d', 'atleast_2d', 'atleast_3d', 'average', 'bartlett', 'base_repr', 'binary_repr', 'bincount', 'bitwise_and', 'bitwise_not', 'bitwise_or', 'bitwise_xor', 'blackman', 'block', 'bmat', 'bool_', 'broadcast', 'broadcast_arrays', 'broadcast_shapes', 'broadcast_to', 'busday_count', 'busday_offset', 'busdaycalendar', 'byte', 'byte_bounds', 'bytes_', 'c_', 'can_cast', 'cast', 'cbrt', 'cdouble', 'ceil', 'cfloat', 'char', 'character', 'chararray', 'choose', 'clip', 'clongdouble', 'clongfloat', 'column_stack', 'common_type', 'compare_chararrays', 'compat', 'complex128', 'complex64', 'complex_', 'complexfloating', 'compress', 'concatenate', 'conj', 'conjugate', 'convolve', 'copy', 'copysign', 'copyto', 'corrcoef', 'correlate', 'cos', 'cosh', 'count_nonzero', 'cov', 'cross', 'csingle', 'ctypeslib', 'cumprod', 'cumproduct', 'cumsum', 'datetime64', 'datetime_as_string', 'datetime_data', 'deg2rad', 'degrees', 'delete', 'deprecate', 'deprecate_with_doc', 'diag', 'diag_indices', 'diag_indices_from', 'diagflat', 'diagonal', 'diff', 'digitize', 'disp', 'divide', 'divmod', 'dot', 'double', 'dsplit', 'dstack', 'dtype', 'e', 'ediff1d', 'einsum', 'einsum_path', 'emath', 'empty', 'empty_like', 'equal', 'errstate', 'euler_gamma', 'exp', 'exp2', 'expand_dims', 'expm1', 'expm1x', 'extract', 'eye', 'fabs', 'fastCopyAndTranspose', 'fft', 'fill_diagonal', 'find_common_type', 'finfo', 'fix', 'flatiter', 'flatnonzero', 'flexible', 'flip', 'fliplr', 'flipud', 'float16', 'float32', 'float64', 'float_', 'float_power', 'floating', 'floor', 'floor_divide', 'fmax', 'fmin', 'fmod', 'format_float_positional', 'format_float_scientific', 'format_parser', 'frexp', 'from_dlpack', 'frombuffer', 'fromfile', 'fromfunction', 'fromiter', 'frompyfunc', 'fromregex', 'fromstring', 'full', 'full_like', 'gcd', 'generic', 'genfromtxt', 'geomspace', 'get_array_wrap', 'get_include', 'get_printoptions', 'getbufsize', 'geterr', 'geterrcall', 'geterrobj', 'gradient', 'greater', 'greater_equal', 'half', 'hamming', 'hanning', 'heaviside', 'histogram', 'histogram2d', 'histogram_bin_edges', 'histogramdd', 'hsplit', 'hstack', 'hypot', 'i0', 'identity', 'iinfo', 'imag', 'in1d', 'index_exp', 'indices', 'inexact', 'inf', 'info', 'infty', 'inner', 'insert', 'int16', 'int32', 'int64', 'int8', 'int_', 'intc', 'integer', 'interp', 'intersect1d', 'intp', 'invert', 'is_busday', 'isclose', 'iscomplex', 'iscomplexobj', 'isfinite', 'isfortran', 'isin', 'isinf', 'isnan', 'isnat', 'isneginf', 'isposinf', 'isreal', 'isrealobj', 'isscalar', 'issctype', 'issubclass_', 'issubdtype', 'issubsctype', 'iterable', 'ix_', 'kaiser', 'kron', 'lcm', 'ldexp', 'left_shift', 'less', 'less_equal', 'lexsort', 'lib', 'linalg', 'linspace', 'little_endian', 'load', 'loadtxt', 'log', 'log10', 'log1p', 'log2', 'logaddexp', 'logaddexp2', 'logical_and', 'logical_not', 'logical_or', 'logical_xor', 'logspace', 'longcomplex', 'longdouble', 'longfloat', 'longlong', 'lookfor', 'ma', 'mask_indices', 'mat', 'math', 'matmul', 'matrix', 'max', 'maximum', 'maximum_sctype', 'may_share_memory', 'mean', 'median', 'memmap', 'meshgrid', 'mgrid', 'min', 'min_scalar_type', 'minimum', 'mintypecode', 'mkl', 'mod', 'modf', 'moveaxis', 'msort', 'multiply', 'nan', 'nan_to_num', 'nanargmax', 'nanargmin', 'nancumprod', 'nancumsum', 'nanmax', 'nanmean', 'nanmedian', 'nanmin', 'nanpercentile', 'nanprod', 'nanquantile', 'nanstd', 'nansum', 'nanvar', 'nbytes', 'ndarray', 'ndenumerate', 'ndim', 'ndindex', 'nditer', 'negative', 'nested_iters', 'newaxis', 'nextafter', 'nonzero', 'not_equal', 'numarray', 'number', 'obj2sctype', 'object_', 'ogrid', 'oldnumeric', 'ones', 'ones_like', 'outer', 'packbits', 'pad', 'partition', 'percentile', 'pi', 'piecewise', 'place', 'poly', 'poly1d', 'polyadd', 'polyder', 'polydiv', 'polyfit', 'polyint', 'polymul', 'polynomial', 'polysub', 'polyval', 'positive', 'power', 'printoptions', 'prod', 'product', 'promote_types', 'ptp', 'put', 'put_along_axis', 'putmask', 'quantile', 'r_', 'rad2deg', 'radians', 'random', 'ravel', 'ravel_multi_index', 'real', 'real_if_close', 'rec', 'recarray', 'recfromcsv', 'recfromtxt', 'reciprocal', 'record', 'remainder', 'repeat', 'require', 'reshape', 'resize', 'result_type', 'right_shift', 'rint', 'roll', 'rollaxis', 'roots', 'rot90', 'round', 'round_', 'row_stack', 's_', 'safe_eval', 'save', 'savetxt', 'savez', 'savez_compressed', 'sctype2char', 'sctypeDict', 'sctypes', 'searchsorted', 'select', 'set_numeric_ops', 'set_printoptions', 'set_string_function', 'setbufsize', 'setdiff1d', 'seterr', 'seterrcall', 'seterrobj', 'setxor1d', 'shape', 'shares_memory', 'short', 'show_config', 'show_runtime', 'sign', 'signbit', 'signedinteger', 'sin', 'sinc', 'single', 'singlecomplex', 'sinh', 'size', 'sometrue', 'sort', 'sort_complex', 'source', 'spacing', 'split', 'sqrt', 'square', 'squeeze', 'stack', 'std', 'str_', 'string_', 'subtract', 'sum', 'swapaxes', 'take', 'take_along_axis', 'tan', 'tanh', 'tensordot', 'test', 'testing', 'tile', 'timedelta64', 'trace', 'tracemalloc_domain', 'transpose', 'trapz', 'tri', 'tril', 'tril_indices', 'tril_indices_from', 'trim_zeros', 'triu', 'triu_indices', 'triu_indices_from', 'true_divide', 'trunc', 'typecodes', 'typename', 'ubyte', 'ufunc', 'uint', 'uint16', 'uint32', 'uint64', 'uint8', 'uintc', 'uintp', 'ulonglong', 'unicode_', 'union1d', 'unique', 'unpackbits', 'unravel_index', 'unsignedinteger', 'unwrap', 'use_hugepage', 'ushort', 'vander', 'var', 'vdot', 'vectorize', 'version', 'void', 'vsplit', 'vstack', 'where', 'who', 'zeros', 'zeros_like']\n"
     ]
    }
   ],
   "source": [
    "import numpy\n",
    "print(dir(numpy))\n",
    "\n",
    "\n",
    "# All function of numpy"
   ]
  },
  {
   "cell_type": "markdown",
   "id": "4f2ef560",
   "metadata": {},
   "source": [
    "#                                  # Analysis Data wrangling with Pandas"
   ]
  },
  {
   "cell_type": "code",
   "execution_count": 2,
   "id": "4908e7c9",
   "metadata": {},
   "outputs": [
    {
     "data": {
      "text/plain": [
       "Series([], dtype: object)"
      ]
     },
     "execution_count": 2,
     "metadata": {},
     "output_type": "execute_result"
    }
   ],
   "source": [
    "ser = pd.Series()\n",
    "ser"
   ]
  },
  {
   "cell_type": "code",
   "execution_count": 3,
   "id": "3a91d29b",
   "metadata": {},
   "outputs": [
    {
     "data": {
      "text/plain": [
       "0     0\n",
       "1    10\n",
       "2    20\n",
       "3    30\n",
       "4    40\n",
       "5    50\n",
       "6    60\n",
       "7    70\n",
       "8    80\n",
       "9    90\n",
       "dtype: int64"
      ]
     },
     "execution_count": 3,
     "metadata": {},
     "output_type": "execute_result"
    }
   ],
   "source": [
    "ser=pd.Series([0,10,20,30,40,50,60,70,80,90])\n",
    "ser"
   ]
  },
  {
   "cell_type": "code",
   "execution_count": 4,
   "id": "bff141aa",
   "metadata": {},
   "outputs": [
    {
     "data": {
      "text/plain": [
       "0      20\n",
       "1    15.7\n",
       "2      10\n",
       "dtype: object"
      ]
     },
     "execution_count": 4,
     "metadata": {},
     "output_type": "execute_result"
    }
   ],
   "source": [
    "#Notice datatype\n",
    "ser=pd.Series([20,15.7,'10']) # it is updated series\n",
    "ser"
   ]
  },
  {
   "cell_type": "code",
   "execution_count": 5,
   "id": "354af6fa",
   "metadata": {},
   "outputs": [
    {
     "data": {
      "text/html": [
       "<div>\n",
       "<style scoped>\n",
       "    .dataframe tbody tr th:only-of-type {\n",
       "        vertical-align: middle;\n",
       "    }\n",
       "\n",
       "    .dataframe tbody tr th {\n",
       "        vertical-align: top;\n",
       "    }\n",
       "\n",
       "    .dataframe thead th {\n",
       "        text-align: right;\n",
       "    }\n",
       "</style>\n",
       "<table border=\"1\" class=\"dataframe\">\n",
       "  <thead>\n",
       "    <tr style=\"text-align: right;\">\n",
       "      <th></th>\n",
       "      <th>A</th>\n",
       "      <th>B</th>\n",
       "      <th>C</th>\n",
       "    </tr>\n",
       "  </thead>\n",
       "  <tbody>\n",
       "    <tr>\n",
       "      <th>0</th>\n",
       "      <td>1</td>\n",
       "      <td>5</td>\n",
       "      <td>1</td>\n",
       "    </tr>\n",
       "    <tr>\n",
       "      <th>1</th>\n",
       "      <td>2</td>\n",
       "      <td>8</td>\n",
       "      <td>2</td>\n",
       "    </tr>\n",
       "    <tr>\n",
       "      <th>2</th>\n",
       "      <td>5</td>\n",
       "      <td>9</td>\n",
       "      <td>3</td>\n",
       "    </tr>\n",
       "  </tbody>\n",
       "</table>\n",
       "</div>"
      ],
      "text/plain": [
       "   A  B  C\n",
       "0  1  5  1\n",
       "1  2  8  2\n",
       "2  5  9  3"
      ]
     },
     "execution_count": 5,
     "metadata": {},
     "output_type": "execute_result"
    }
   ],
   "source": [
    "#create dictionary\n",
    "dict={'A':[1,2,5],'B':[5,8,9],'C':[1,2,3]}\n",
    "df=pd.DataFrame(dict)\n",
    "df"
   ]
  },
  {
   "cell_type": "code",
   "execution_count": 6,
   "id": "bc3b2cba",
   "metadata": {},
   "outputs": [
    {
     "data": {
      "text/html": [
       "<div>\n",
       "<style scoped>\n",
       "    .dataframe tbody tr th:only-of-type {\n",
       "        vertical-align: middle;\n",
       "    }\n",
       "\n",
       "    .dataframe tbody tr th {\n",
       "        vertical-align: top;\n",
       "    }\n",
       "\n",
       "    .dataframe thead th {\n",
       "        text-align: right;\n",
       "    }\n",
       "</style>\n",
       "<table border=\"1\" class=\"dataframe\">\n",
       "  <thead>\n",
       "    <tr style=\"text-align: right;\">\n",
       "      <th></th>\n",
       "      <th>A</th>\n",
       "      <th>B</th>\n",
       "      <th>C</th>\n",
       "      <th>State</th>\n",
       "    </tr>\n",
       "  </thead>\n",
       "  <tbody>\n",
       "    <tr>\n",
       "      <th>0</th>\n",
       "      <td>1</td>\n",
       "      <td>5</td>\n",
       "      <td>1</td>\n",
       "      <td>CA</td>\n",
       "    </tr>\n",
       "    <tr>\n",
       "      <th>1</th>\n",
       "      <td>2</td>\n",
       "      <td>8</td>\n",
       "      <td>2</td>\n",
       "      <td>NV</td>\n",
       "    </tr>\n",
       "    <tr>\n",
       "      <th>2</th>\n",
       "      <td>5</td>\n",
       "      <td>9</td>\n",
       "      <td>3</td>\n",
       "      <td>AZ</td>\n",
       "    </tr>\n",
       "  </tbody>\n",
       "</table>\n",
       "</div>"
      ],
      "text/plain": [
       "   A  B  C State\n",
       "0  1  5  1    CA\n",
       "1  2  8  2    NV\n",
       "2  5  9  3    AZ"
      ]
     },
     "execution_count": 6,
     "metadata": {},
     "output_type": "execute_result"
    }
   ],
   "source": [
    "#add new column and add new value into it\n",
    "df[\"State\"]=\"CA NV AZ\".split() # where the space it will break data with the help of split method\n",
    "df"
   ]
  },
  {
   "cell_type": "code",
   "execution_count": 7,
   "id": "fdb875d3",
   "metadata": {},
   "outputs": [
    {
     "data": {
      "text/plain": [
       "{'A': [1, 2, nan], 'B': [5, nan, nan], 'C': [1, 2, 3]}"
      ]
     },
     "execution_count": 7,
     "metadata": {},
     "output_type": "execute_result"
    }
   ],
   "source": [
    "#now we create nan values and its manipulated\n",
    "dict={'A':[1,2,np.nan],'B':[5,np.nan,np.nan],'C':[1,2,3]}\n",
    "dict"
   ]
  },
  {
   "cell_type": "code",
   "execution_count": 8,
   "id": "75920289",
   "metadata": {},
   "outputs": [
    {
     "data": {
      "text/html": [
       "<div>\n",
       "<style scoped>\n",
       "    .dataframe tbody tr th:only-of-type {\n",
       "        vertical-align: middle;\n",
       "    }\n",
       "\n",
       "    .dataframe tbody tr th {\n",
       "        vertical-align: top;\n",
       "    }\n",
       "\n",
       "    .dataframe thead th {\n",
       "        text-align: right;\n",
       "    }\n",
       "</style>\n",
       "<table border=\"1\" class=\"dataframe\">\n",
       "  <thead>\n",
       "    <tr style=\"text-align: right;\">\n",
       "      <th></th>\n",
       "      <th>A</th>\n",
       "      <th>B</th>\n",
       "      <th>C</th>\n",
       "    </tr>\n",
       "  </thead>\n",
       "  <tbody>\n",
       "    <tr>\n",
       "      <th>0</th>\n",
       "      <td>1.0</td>\n",
       "      <td>5.0</td>\n",
       "      <td>1</td>\n",
       "    </tr>\n",
       "    <tr>\n",
       "      <th>1</th>\n",
       "      <td>2.0</td>\n",
       "      <td>NaN</td>\n",
       "      <td>2</td>\n",
       "    </tr>\n",
       "    <tr>\n",
       "      <th>2</th>\n",
       "      <td>NaN</td>\n",
       "      <td>NaN</td>\n",
       "      <td>3</td>\n",
       "    </tr>\n",
       "  </tbody>\n",
       "</table>\n",
       "</div>"
      ],
      "text/plain": [
       "     A    B  C\n",
       "0  1.0  5.0  1\n",
       "1  2.0  NaN  2\n",
       "2  NaN  NaN  3"
      ]
     },
     "execution_count": 8,
     "metadata": {},
     "output_type": "execute_result"
    }
   ],
   "source": [
    "df=pd.DataFrame(dict)\n",
    "df"
   ]
  },
  {
   "cell_type": "code",
   "execution_count": 9,
   "id": "e6c85f4d",
   "metadata": {},
   "outputs": [
    {
     "data": {
      "text/html": [
       "<div>\n",
       "<style scoped>\n",
       "    .dataframe tbody tr th:only-of-type {\n",
       "        vertical-align: middle;\n",
       "    }\n",
       "\n",
       "    .dataframe tbody tr th {\n",
       "        vertical-align: top;\n",
       "    }\n",
       "\n",
       "    .dataframe thead th {\n",
       "        text-align: right;\n",
       "    }\n",
       "</style>\n",
       "<table border=\"1\" class=\"dataframe\">\n",
       "  <thead>\n",
       "    <tr style=\"text-align: right;\">\n",
       "      <th></th>\n",
       "      <th>A</th>\n",
       "      <th>B</th>\n",
       "      <th>C</th>\n",
       "      <th>D</th>\n",
       "    </tr>\n",
       "  </thead>\n",
       "  <tbody>\n",
       "    <tr>\n",
       "      <th>0</th>\n",
       "      <td>1.0</td>\n",
       "      <td>5.0</td>\n",
       "      <td>1</td>\n",
       "      <td>20</td>\n",
       "    </tr>\n",
       "    <tr>\n",
       "      <th>1</th>\n",
       "      <td>2.0</td>\n",
       "      <td>NaN</td>\n",
       "      <td>2</td>\n",
       "      <td>30</td>\n",
       "    </tr>\n",
       "    <tr>\n",
       "      <th>2</th>\n",
       "      <td>NaN</td>\n",
       "      <td>NaN</td>\n",
       "      <td>3</td>\n",
       "      <td>40</td>\n",
       "    </tr>\n",
       "  </tbody>\n",
       "</table>\n",
       "</div>"
      ],
      "text/plain": [
       "     A    B  C   D\n",
       "0  1.0  5.0  1  20\n",
       "1  2.0  NaN  2  30\n",
       "2  NaN  NaN  3  40"
      ]
     },
     "execution_count": 9,
     "metadata": {},
     "output_type": "execute_result"
    }
   ],
   "source": [
    "df['D']=[20,30,40] # new column add like this\n",
    "df"
   ]
  },
  {
   "cell_type": "code",
   "execution_count": 10,
   "id": "0bd5547a",
   "metadata": {},
   "outputs": [
    {
     "name": "stdout",
     "output_type": "stream",
     "text": [
      "\\Dropping any column with nan value \n",
      "-----------------------------------\n",
      "   C   D\n",
      "0  1  20\n",
      "1  2  30\n",
      "2  3  40\n"
     ]
    }
   ],
   "source": [
    "print(\"\\Dropping any column with nan value \\n\",'-'*35,sep='')\n",
    "print(df.dropna(axis=1)) # remove nan values column wise"
   ]
  },
  {
   "cell_type": "code",
   "execution_count": 11,
   "id": "bbb92282",
   "metadata": {},
   "outputs": [
    {
     "name": "stdout",
     "output_type": "stream",
     "text": [
      "\\Dropping any row with nan value \n",
      "-----------------------------------\n",
      "     A    B  C   D\n",
      "0  1.0  5.0  1  20\n"
     ]
    }
   ],
   "source": [
    "print(\"\\Dropping any row with nan value \\n\",'-'*35,sep='')\n",
    "print(df.dropna(axis=0)) # remove nan values row wise"
   ]
  },
  {
   "cell_type": "code",
   "execution_count": 12,
   "id": "1fca6fbb",
   "metadata": {},
   "outputs": [
    {
     "name": "stdout",
     "output_type": "stream",
     "text": [
      "\n",
      " filling value with a default value-----------------------------------\n",
      "      A     B  C   D\n",
      "0   1.0   5.0  1  20\n",
      "1   2.0  50.0  2  30\n",
      "2  50.0  50.0  3  40\n"
     ]
    }
   ],
   "source": [
    "print(\"\\n filling value with a default value\",'-'*35,sep='')\n",
    "print(df.fillna(value=50))"
   ]
  },
  {
   "cell_type": "code",
   "execution_count": 13,
   "id": "b5ac94e2",
   "metadata": {},
   "outputs": [
    {
     "name": "stdout",
     "output_type": "stream",
     "text": [
      "\n",
      " filling value with a computed value (mean of column A here)\n",
      "------------------------------------------------------------\n",
      "None\n"
     ]
    },
    {
     "data": {
      "text/html": [
       "<div>\n",
       "<style scoped>\n",
       "    .dataframe tbody tr th:only-of-type {\n",
       "        vertical-align: middle;\n",
       "    }\n",
       "\n",
       "    .dataframe tbody tr th {\n",
       "        vertical-align: top;\n",
       "    }\n",
       "\n",
       "    .dataframe thead th {\n",
       "        text-align: right;\n",
       "    }\n",
       "</style>\n",
       "<table border=\"1\" class=\"dataframe\">\n",
       "  <thead>\n",
       "    <tr style=\"text-align: right;\">\n",
       "      <th></th>\n",
       "      <th>A</th>\n",
       "      <th>B</th>\n",
       "      <th>C</th>\n",
       "      <th>D</th>\n",
       "    </tr>\n",
       "  </thead>\n",
       "  <tbody>\n",
       "    <tr>\n",
       "      <th>0</th>\n",
       "      <td>1.0</td>\n",
       "      <td>5.0</td>\n",
       "      <td>1</td>\n",
       "      <td>20</td>\n",
       "    </tr>\n",
       "    <tr>\n",
       "      <th>1</th>\n",
       "      <td>2.0</td>\n",
       "      <td>2.0</td>\n",
       "      <td>2</td>\n",
       "      <td>30</td>\n",
       "    </tr>\n",
       "    <tr>\n",
       "      <th>2</th>\n",
       "      <td>2.0</td>\n",
       "      <td>2.0</td>\n",
       "      <td>3</td>\n",
       "      <td>40</td>\n",
       "    </tr>\n",
       "  </tbody>\n",
       "</table>\n",
       "</div>"
      ],
      "text/plain": [
       "     A    B  C   D\n",
       "0  1.0  5.0  1  20\n",
       "1  2.0  2.0  2  30\n",
       "2  2.0  2.0  3  40"
      ]
     },
     "execution_count": 13,
     "metadata": {},
     "output_type": "execute_result"
    }
   ],
   "source": [
    "print(\"\\n filling value with a computed value (mean of column A here)\\n\",'-'*60,sep='')\n",
    "print(df.fillna(value=df['C'].mean(),inplace=True)) # save data permanently\n",
    "df"
   ]
  },
  {
   "cell_type": "markdown",
   "id": "e9152691",
   "metadata": {},
   "source": [
    "# Group By"
   ]
  },
  {
   "cell_type": "code",
   "execution_count": 14,
   "id": "95fb8864",
   "metadata": {},
   "outputs": [
    {
     "data": {
      "text/plain": [
       "{'Company': ['GOOG', 'GOOG', 'MSFT', 'MSFT', 'FB', 'FB'],\n",
       " 'Person': ['Sam', 'Charlie', 'Amy', 'Vanessa', 'Carl', 'Sarah'],\n",
       " 'Sale': [200, 120, 340, 124, 243, 350]}"
      ]
     },
     "execution_count": 14,
     "metadata": {},
     "output_type": "execute_result"
    }
   ],
   "source": [
    "#create dictionary\n",
    "data={'Company':['GOOG','GOOG','MSFT','MSFT','FB','FB'],\n",
    "     'Person':['Sam','Charlie','Amy','Vanessa','Carl','Sarah'],\n",
    "     'Sale':[200,120,340,124,243,350]}\n",
    "data"
   ]
  },
  {
   "cell_type": "code",
   "execution_count": 15,
   "id": "111686c0",
   "metadata": {},
   "outputs": [
    {
     "data": {
      "text/html": [
       "<div>\n",
       "<style scoped>\n",
       "    .dataframe tbody tr th:only-of-type {\n",
       "        vertical-align: middle;\n",
       "    }\n",
       "\n",
       "    .dataframe tbody tr th {\n",
       "        vertical-align: top;\n",
       "    }\n",
       "\n",
       "    .dataframe thead th {\n",
       "        text-align: right;\n",
       "    }\n",
       "</style>\n",
       "<table border=\"1\" class=\"dataframe\">\n",
       "  <thead>\n",
       "    <tr style=\"text-align: right;\">\n",
       "      <th></th>\n",
       "      <th>Company</th>\n",
       "      <th>Person</th>\n",
       "      <th>Sale</th>\n",
       "    </tr>\n",
       "  </thead>\n",
       "  <tbody>\n",
       "    <tr>\n",
       "      <th>0</th>\n",
       "      <td>GOOG</td>\n",
       "      <td>Sam</td>\n",
       "      <td>200</td>\n",
       "    </tr>\n",
       "    <tr>\n",
       "      <th>1</th>\n",
       "      <td>GOOG</td>\n",
       "      <td>Charlie</td>\n",
       "      <td>120</td>\n",
       "    </tr>\n",
       "    <tr>\n",
       "      <th>2</th>\n",
       "      <td>MSFT</td>\n",
       "      <td>Amy</td>\n",
       "      <td>340</td>\n",
       "    </tr>\n",
       "    <tr>\n",
       "      <th>3</th>\n",
       "      <td>MSFT</td>\n",
       "      <td>Vanessa</td>\n",
       "      <td>124</td>\n",
       "    </tr>\n",
       "    <tr>\n",
       "      <th>4</th>\n",
       "      <td>FB</td>\n",
       "      <td>Carl</td>\n",
       "      <td>243</td>\n",
       "    </tr>\n",
       "    <tr>\n",
       "      <th>5</th>\n",
       "      <td>FB</td>\n",
       "      <td>Sarah</td>\n",
       "      <td>350</td>\n",
       "    </tr>\n",
       "  </tbody>\n",
       "</table>\n",
       "</div>"
      ],
      "text/plain": [
       "  Company   Person  Sale\n",
       "0    GOOG      Sam   200\n",
       "1    GOOG  Charlie   120\n",
       "2    MSFT      Amy   340\n",
       "3    MSFT  Vanessa   124\n",
       "4      FB     Carl   243\n",
       "5      FB    Sarah   350"
      ]
     },
     "execution_count": 15,
     "metadata": {},
     "output_type": "execute_result"
    }
   ],
   "source": [
    "df=pd.DataFrame(data)\n",
    "df"
   ]
  },
  {
   "cell_type": "code",
   "execution_count": 16,
   "id": "21211959",
   "metadata": {},
   "outputs": [
    {
     "name": "stdout",
     "output_type": "stream",
     "text": [
      "\n",
      " Grouping by company column & listing mean sales \n",
      "-------------------------------------------------------\n",
      "          Sale\n",
      "Company       \n",
      "FB       296.5\n",
      "GOOG     160.0\n",
      "MSFT     232.0\n"
     ]
    }
   ],
   "source": [
    "# Making groups\n",
    "bycomp=df.groupby('Company')\n",
    "print(\"\\n Grouping by company column & listing mean sales \\n\",'-'*55,sep='')\n",
    "print(bycomp.mean(numeric_only=True))\n",
    "#print(bycomp['sale'].mean())"
   ]
  },
  {
   "cell_type": "code",
   "execution_count": 17,
   "id": "cf94c388",
   "metadata": {},
   "outputs": [
    {
     "name": "stdout",
     "output_type": "stream",
     "text": [
      "\n",
      " Grouping by company column & listing sum of sales \n",
      "-------------------------------------------------------\n",
      "         Sale\n",
      "Company      \n",
      "FB        593\n",
      "GOOG      320\n",
      "MSFT      464\n"
     ]
    }
   ],
   "source": [
    "print(\"\\n Grouping by company column & listing sum of sales \\n\",'-'*55,sep='')\n",
    "print(bycomp.sum(numeric_only=True))"
   ]
  },
  {
   "cell_type": "markdown",
   "id": "4003b62b",
   "metadata": {},
   "source": [
    "# Concate Merge Join"
   ]
  },
  {
   "cell_type": "code",
   "execution_count": 18,
   "id": "09868291",
   "metadata": {},
   "outputs": [
    {
     "data": {
      "text/html": [
       "<div>\n",
       "<style scoped>\n",
       "    .dataframe tbody tr th:only-of-type {\n",
       "        vertical-align: middle;\n",
       "    }\n",
       "\n",
       "    .dataframe tbody tr th {\n",
       "        vertical-align: top;\n",
       "    }\n",
       "\n",
       "    .dataframe thead th {\n",
       "        text-align: right;\n",
       "    }\n",
       "</style>\n",
       "<table border=\"1\" class=\"dataframe\">\n",
       "  <thead>\n",
       "    <tr style=\"text-align: right;\">\n",
       "      <th></th>\n",
       "      <th>Mat</th>\n",
       "      <th>Eng</th>\n",
       "      <th>Sci</th>\n",
       "      <th>Chem</th>\n",
       "    </tr>\n",
       "  </thead>\n",
       "  <tbody>\n",
       "    <tr>\n",
       "      <th>Ravi</th>\n",
       "      <td>40</td>\n",
       "      <td>56</td>\n",
       "      <td>56</td>\n",
       "      <td>44</td>\n",
       "    </tr>\n",
       "    <tr>\n",
       "      <th>Syam</th>\n",
       "      <td>64</td>\n",
       "      <td>87</td>\n",
       "      <td>67</td>\n",
       "      <td>59</td>\n",
       "    </tr>\n",
       "    <tr>\n",
       "      <th>Farhad</th>\n",
       "      <td>55</td>\n",
       "      <td>34</td>\n",
       "      <td>89</td>\n",
       "      <td>98</td>\n",
       "    </tr>\n",
       "    <tr>\n",
       "      <th>Abhi</th>\n",
       "      <td>45</td>\n",
       "      <td>56</td>\n",
       "      <td>71</td>\n",
       "      <td>56</td>\n",
       "    </tr>\n",
       "  </tbody>\n",
       "</table>\n",
       "</div>"
      ],
      "text/plain": [
       "        Mat  Eng  Sci  Chem\n",
       "Ravi     40   56   56    44\n",
       "Syam     64   87   67    59\n",
       "Farhad   55   34   89    98\n",
       "Abhi     45   56   71    56"
      ]
     },
     "execution_count": 18,
     "metadata": {},
     "output_type": "execute_result"
    }
   ],
   "source": [
    "#create dataframe\n",
    "df1=pd.DataFrame({\n",
    "    'Mat':[40,64,55,45],\n",
    "    'Eng':[56,87,34,56],\n",
    "    'Sci':[56,67,89,71],\n",
    "    'Chem':[44,59,98,56],\n",
    "},index=['Ravi','Syam','Farhad','Abhi'])\n",
    "df1"
   ]
  },
  {
   "cell_type": "code",
   "execution_count": 19,
   "id": "bead608a",
   "metadata": {},
   "outputs": [
    {
     "data": {
      "text/html": [
       "<div>\n",
       "<style scoped>\n",
       "    .dataframe tbody tr th:only-of-type {\n",
       "        vertical-align: middle;\n",
       "    }\n",
       "\n",
       "    .dataframe tbody tr th {\n",
       "        vertical-align: top;\n",
       "    }\n",
       "\n",
       "    .dataframe thead th {\n",
       "        text-align: right;\n",
       "    }\n",
       "</style>\n",
       "<table border=\"1\" class=\"dataframe\">\n",
       "  <thead>\n",
       "    <tr style=\"text-align: right;\">\n",
       "      <th></th>\n",
       "      <th>Mat</th>\n",
       "      <th>Eng</th>\n",
       "      <th>Sci</th>\n",
       "      <th>Chem</th>\n",
       "    </tr>\n",
       "  </thead>\n",
       "  <tbody>\n",
       "    <tr>\n",
       "      <th>Shan</th>\n",
       "      <td>50</td>\n",
       "      <td>66</td>\n",
       "      <td>81</td>\n",
       "      <td>56</td>\n",
       "    </tr>\n",
       "    <tr>\n",
       "      <th>Mahi</th>\n",
       "      <td>77</td>\n",
       "      <td>87</td>\n",
       "      <td>87</td>\n",
       "      <td>79</td>\n",
       "    </tr>\n",
       "    <tr>\n",
       "      <th>Viru</th>\n",
       "      <td>95</td>\n",
       "      <td>34</td>\n",
       "      <td>69</td>\n",
       "      <td>12</td>\n",
       "    </tr>\n",
       "    <tr>\n",
       "      <th>Mona</th>\n",
       "      <td>74</td>\n",
       "      <td>66</td>\n",
       "      <td>71</td>\n",
       "      <td>34</td>\n",
       "    </tr>\n",
       "  </tbody>\n",
       "</table>\n",
       "</div>"
      ],
      "text/plain": [
       "      Mat  Eng  Sci  Chem\n",
       "Shan   50   66   81    56\n",
       "Mahi   77   87   87    79\n",
       "Viru   95   34   69    12\n",
       "Mona   74   66   71    34"
      ]
     },
     "execution_count": 19,
     "metadata": {},
     "output_type": "execute_result"
    }
   ],
   "source": [
    "df2=pd.DataFrame({\n",
    "    'Mat':[50,77,95,74],\n",
    "    'Eng':[66,87,34,66],\n",
    "    'Sci':[81,87,69,71],\n",
    "    'Chem':[56,79,12,34]},index=['Shan','Mahi','Viru','Mona'])\n",
    "df2"
   ]
  },
  {
   "cell_type": "code",
   "execution_count": 20,
   "id": "8606a5ac",
   "metadata": {},
   "outputs": [
    {
     "data": {
      "text/html": [
       "<div>\n",
       "<style scoped>\n",
       "    .dataframe tbody tr th:only-of-type {\n",
       "        vertical-align: middle;\n",
       "    }\n",
       "\n",
       "    .dataframe tbody tr th {\n",
       "        vertical-align: top;\n",
       "    }\n",
       "\n",
       "    .dataframe thead th {\n",
       "        text-align: right;\n",
       "    }\n",
       "</style>\n",
       "<table border=\"1\" class=\"dataframe\">\n",
       "  <thead>\n",
       "    <tr style=\"text-align: right;\">\n",
       "      <th></th>\n",
       "      <th>Mat</th>\n",
       "      <th>Eng</th>\n",
       "      <th>Sci</th>\n",
       "      <th>Chem</th>\n",
       "    </tr>\n",
       "  </thead>\n",
       "  <tbody>\n",
       "    <tr>\n",
       "      <th>Astha</th>\n",
       "      <td>67</td>\n",
       "      <td>56</td>\n",
       "      <td>56</td>\n",
       "      <td>34</td>\n",
       "    </tr>\n",
       "    <tr>\n",
       "      <th>Rohit</th>\n",
       "      <td>89</td>\n",
       "      <td>87</td>\n",
       "      <td>67</td>\n",
       "      <td>56</td>\n",
       "    </tr>\n",
       "    <tr>\n",
       "      <th>Rohil</th>\n",
       "      <td>98</td>\n",
       "      <td>89</td>\n",
       "      <td>56</td>\n",
       "      <td>56</td>\n",
       "    </tr>\n",
       "    <tr>\n",
       "      <th>Shital</th>\n",
       "      <td>56</td>\n",
       "      <td>71</td>\n",
       "      <td>87</td>\n",
       "      <td>87</td>\n",
       "    </tr>\n",
       "  </tbody>\n",
       "</table>\n",
       "</div>"
      ],
      "text/plain": [
       "        Mat  Eng  Sci  Chem\n",
       "Astha    67   56   56    34\n",
       "Rohit    89   87   67    56\n",
       "Rohil    98   89   56    56\n",
       "Shital   56   71   87    87"
      ]
     },
     "execution_count": 20,
     "metadata": {},
     "output_type": "execute_result"
    }
   ],
   "source": [
    "df3=pd.DataFrame({\n",
    "    'Mat':[67,89,98,56],\n",
    "    'Eng':[56,87,89,71],\n",
    "    'Sci':[56,67,56,87],\n",
    "    'Chem':[34,56,56,87]},index=['Astha','Rohit','Rohil','Shital'])\n",
    "df3"
   ]
  },
  {
   "cell_type": "code",
   "execution_count": 21,
   "id": "bf88c7a3",
   "metadata": {},
   "outputs": [
    {
     "name": "stdout",
     "output_type": "stream",
     "text": [
      "\n",
      " after concatenation along row \n",
      "------------------------------\n",
      "        Mat  Eng  Sci  Chem\n",
      "Ravi     40   56   56    44\n",
      "Syam     64   87   67    59\n",
      "Farhad   55   34   89    98\n",
      "Abhi     45   56   71    56\n",
      "Shan     50   66   81    56\n",
      "Mahi     77   87   87    79\n",
      "Viru     95   34   69    12\n",
      "Mona     74   66   71    34\n",
      "Astha    67   56   56    34\n",
      "Rohit    89   87   67    56\n",
      "Rohil    98   89   56    56\n",
      "Shital   56   71   87    87\n"
     ]
    }
   ],
   "source": [
    "#concatenation\n",
    "df_cat1=pd.concat([df1,df2,df3],axis=0)\n",
    "print(\"\\n after concatenation along row \\n\",'-'*30,sep='')\n",
    "print(df_cat1)"
   ]
  },
  {
   "cell_type": "code",
   "execution_count": 22,
   "id": "b30a825b",
   "metadata": {},
   "outputs": [
    {
     "name": "stdout",
     "output_type": "stream",
     "text": [
      "\n",
      " after concatenation along columns \n",
      "------------------------------\n",
      "         Mat   Eng   Sci  Chem   Mat   Eng   Sci  Chem   Mat   Eng   Sci  Chem\n",
      "Ravi    40.0  56.0  56.0  44.0   NaN   NaN   NaN   NaN   NaN   NaN   NaN   NaN\n",
      "Syam    64.0  87.0  67.0  59.0   NaN   NaN   NaN   NaN   NaN   NaN   NaN   NaN\n",
      "Farhad  55.0  34.0  89.0  98.0   NaN   NaN   NaN   NaN   NaN   NaN   NaN   NaN\n",
      "Abhi    45.0  56.0  71.0  56.0   NaN   NaN   NaN   NaN   NaN   NaN   NaN   NaN\n",
      "Shan     NaN   NaN   NaN   NaN  50.0  66.0  81.0  56.0   NaN   NaN   NaN   NaN\n",
      "Mahi     NaN   NaN   NaN   NaN  77.0  87.0  87.0  79.0   NaN   NaN   NaN   NaN\n",
      "Viru     NaN   NaN   NaN   NaN  95.0  34.0  69.0  12.0   NaN   NaN   NaN   NaN\n",
      "Mona     NaN   NaN   NaN   NaN  74.0  66.0  71.0  34.0   NaN   NaN   NaN   NaN\n",
      "Astha    NaN   NaN   NaN   NaN   NaN   NaN   NaN   NaN  67.0  56.0  56.0  34.0\n",
      "Rohit    NaN   NaN   NaN   NaN   NaN   NaN   NaN   NaN  89.0  87.0  67.0  56.0\n",
      "Rohil    NaN   NaN   NaN   NaN   NaN   NaN   NaN   NaN  98.0  89.0  56.0  56.0\n",
      "Shital   NaN   NaN   NaN   NaN   NaN   NaN   NaN   NaN  56.0  71.0  87.0  87.0\n"
     ]
    }
   ],
   "source": [
    "#concatenation\n",
    "df_cat2=pd.concat([df1,df2,df3],axis=1)\n",
    "print(\"\\n after concatenation along columns \\n\",'-'*30,sep='')\n",
    "print(df_cat2)"
   ]
  },
  {
   "cell_type": "code",
   "execution_count": 23,
   "id": "8de876ce",
   "metadata": {},
   "outputs": [
    {
     "data": {
      "text/html": [
       "<div>\n",
       "<style scoped>\n",
       "    .dataframe tbody tr th:only-of-type {\n",
       "        vertical-align: middle;\n",
       "    }\n",
       "\n",
       "    .dataframe tbody tr th {\n",
       "        vertical-align: top;\n",
       "    }\n",
       "\n",
       "    .dataframe thead th {\n",
       "        text-align: right;\n",
       "    }\n",
       "</style>\n",
       "<table border=\"1\" class=\"dataframe\">\n",
       "  <thead>\n",
       "    <tr style=\"text-align: right;\">\n",
       "      <th></th>\n",
       "      <th>Mat</th>\n",
       "      <th>Eng</th>\n",
       "      <th>Sci</th>\n",
       "      <th>Chem</th>\n",
       "      <th>Mat</th>\n",
       "      <th>Eng</th>\n",
       "      <th>Sci</th>\n",
       "      <th>Chem</th>\n",
       "      <th>Mat</th>\n",
       "      <th>Eng</th>\n",
       "      <th>Sci</th>\n",
       "      <th>Chem</th>\n",
       "    </tr>\n",
       "  </thead>\n",
       "  <tbody>\n",
       "    <tr>\n",
       "      <th>Ravi</th>\n",
       "      <td>40.0</td>\n",
       "      <td>56.0</td>\n",
       "      <td>56.0</td>\n",
       "      <td>44.0</td>\n",
       "      <td>0.0</td>\n",
       "      <td>0.0</td>\n",
       "      <td>0.0</td>\n",
       "      <td>0.0</td>\n",
       "      <td>0.0</td>\n",
       "      <td>0.0</td>\n",
       "      <td>0.0</td>\n",
       "      <td>0.0</td>\n",
       "    </tr>\n",
       "    <tr>\n",
       "      <th>Syam</th>\n",
       "      <td>64.0</td>\n",
       "      <td>87.0</td>\n",
       "      <td>67.0</td>\n",
       "      <td>59.0</td>\n",
       "      <td>0.0</td>\n",
       "      <td>0.0</td>\n",
       "      <td>0.0</td>\n",
       "      <td>0.0</td>\n",
       "      <td>0.0</td>\n",
       "      <td>0.0</td>\n",
       "      <td>0.0</td>\n",
       "      <td>0.0</td>\n",
       "    </tr>\n",
       "    <tr>\n",
       "      <th>Farhad</th>\n",
       "      <td>55.0</td>\n",
       "      <td>34.0</td>\n",
       "      <td>89.0</td>\n",
       "      <td>98.0</td>\n",
       "      <td>0.0</td>\n",
       "      <td>0.0</td>\n",
       "      <td>0.0</td>\n",
       "      <td>0.0</td>\n",
       "      <td>0.0</td>\n",
       "      <td>0.0</td>\n",
       "      <td>0.0</td>\n",
       "      <td>0.0</td>\n",
       "    </tr>\n",
       "    <tr>\n",
       "      <th>Abhi</th>\n",
       "      <td>45.0</td>\n",
       "      <td>56.0</td>\n",
       "      <td>71.0</td>\n",
       "      <td>56.0</td>\n",
       "      <td>0.0</td>\n",
       "      <td>0.0</td>\n",
       "      <td>0.0</td>\n",
       "      <td>0.0</td>\n",
       "      <td>0.0</td>\n",
       "      <td>0.0</td>\n",
       "      <td>0.0</td>\n",
       "      <td>0.0</td>\n",
       "    </tr>\n",
       "    <tr>\n",
       "      <th>Shan</th>\n",
       "      <td>0.0</td>\n",
       "      <td>0.0</td>\n",
       "      <td>0.0</td>\n",
       "      <td>0.0</td>\n",
       "      <td>50.0</td>\n",
       "      <td>66.0</td>\n",
       "      <td>81.0</td>\n",
       "      <td>56.0</td>\n",
       "      <td>0.0</td>\n",
       "      <td>0.0</td>\n",
       "      <td>0.0</td>\n",
       "      <td>0.0</td>\n",
       "    </tr>\n",
       "    <tr>\n",
       "      <th>Mahi</th>\n",
       "      <td>0.0</td>\n",
       "      <td>0.0</td>\n",
       "      <td>0.0</td>\n",
       "      <td>0.0</td>\n",
       "      <td>77.0</td>\n",
       "      <td>87.0</td>\n",
       "      <td>87.0</td>\n",
       "      <td>79.0</td>\n",
       "      <td>0.0</td>\n",
       "      <td>0.0</td>\n",
       "      <td>0.0</td>\n",
       "      <td>0.0</td>\n",
       "    </tr>\n",
       "    <tr>\n",
       "      <th>Viru</th>\n",
       "      <td>0.0</td>\n",
       "      <td>0.0</td>\n",
       "      <td>0.0</td>\n",
       "      <td>0.0</td>\n",
       "      <td>95.0</td>\n",
       "      <td>34.0</td>\n",
       "      <td>69.0</td>\n",
       "      <td>12.0</td>\n",
       "      <td>0.0</td>\n",
       "      <td>0.0</td>\n",
       "      <td>0.0</td>\n",
       "      <td>0.0</td>\n",
       "    </tr>\n",
       "    <tr>\n",
       "      <th>Mona</th>\n",
       "      <td>0.0</td>\n",
       "      <td>0.0</td>\n",
       "      <td>0.0</td>\n",
       "      <td>0.0</td>\n",
       "      <td>74.0</td>\n",
       "      <td>66.0</td>\n",
       "      <td>71.0</td>\n",
       "      <td>34.0</td>\n",
       "      <td>0.0</td>\n",
       "      <td>0.0</td>\n",
       "      <td>0.0</td>\n",
       "      <td>0.0</td>\n",
       "    </tr>\n",
       "    <tr>\n",
       "      <th>Astha</th>\n",
       "      <td>0.0</td>\n",
       "      <td>0.0</td>\n",
       "      <td>0.0</td>\n",
       "      <td>0.0</td>\n",
       "      <td>0.0</td>\n",
       "      <td>0.0</td>\n",
       "      <td>0.0</td>\n",
       "      <td>0.0</td>\n",
       "      <td>67.0</td>\n",
       "      <td>56.0</td>\n",
       "      <td>56.0</td>\n",
       "      <td>34.0</td>\n",
       "    </tr>\n",
       "    <tr>\n",
       "      <th>Rohit</th>\n",
       "      <td>0.0</td>\n",
       "      <td>0.0</td>\n",
       "      <td>0.0</td>\n",
       "      <td>0.0</td>\n",
       "      <td>0.0</td>\n",
       "      <td>0.0</td>\n",
       "      <td>0.0</td>\n",
       "      <td>0.0</td>\n",
       "      <td>89.0</td>\n",
       "      <td>87.0</td>\n",
       "      <td>67.0</td>\n",
       "      <td>56.0</td>\n",
       "    </tr>\n",
       "    <tr>\n",
       "      <th>Rohil</th>\n",
       "      <td>0.0</td>\n",
       "      <td>0.0</td>\n",
       "      <td>0.0</td>\n",
       "      <td>0.0</td>\n",
       "      <td>0.0</td>\n",
       "      <td>0.0</td>\n",
       "      <td>0.0</td>\n",
       "      <td>0.0</td>\n",
       "      <td>98.0</td>\n",
       "      <td>89.0</td>\n",
       "      <td>56.0</td>\n",
       "      <td>56.0</td>\n",
       "    </tr>\n",
       "    <tr>\n",
       "      <th>Shital</th>\n",
       "      <td>0.0</td>\n",
       "      <td>0.0</td>\n",
       "      <td>0.0</td>\n",
       "      <td>0.0</td>\n",
       "      <td>0.0</td>\n",
       "      <td>0.0</td>\n",
       "      <td>0.0</td>\n",
       "      <td>0.0</td>\n",
       "      <td>56.0</td>\n",
       "      <td>71.0</td>\n",
       "      <td>87.0</td>\n",
       "      <td>87.0</td>\n",
       "    </tr>\n",
       "  </tbody>\n",
       "</table>\n",
       "</div>"
      ],
      "text/plain": [
       "         Mat   Eng   Sci  Chem   Mat   Eng   Sci  Chem   Mat   Eng   Sci  Chem\n",
       "Ravi    40.0  56.0  56.0  44.0   0.0   0.0   0.0   0.0   0.0   0.0   0.0   0.0\n",
       "Syam    64.0  87.0  67.0  59.0   0.0   0.0   0.0   0.0   0.0   0.0   0.0   0.0\n",
       "Farhad  55.0  34.0  89.0  98.0   0.0   0.0   0.0   0.0   0.0   0.0   0.0   0.0\n",
       "Abhi    45.0  56.0  71.0  56.0   0.0   0.0   0.0   0.0   0.0   0.0   0.0   0.0\n",
       "Shan     0.0   0.0   0.0   0.0  50.0  66.0  81.0  56.0   0.0   0.0   0.0   0.0\n",
       "Mahi     0.0   0.0   0.0   0.0  77.0  87.0  87.0  79.0   0.0   0.0   0.0   0.0\n",
       "Viru     0.0   0.0   0.0   0.0  95.0  34.0  69.0  12.0   0.0   0.0   0.0   0.0\n",
       "Mona     0.0   0.0   0.0   0.0  74.0  66.0  71.0  34.0   0.0   0.0   0.0   0.0\n",
       "Astha    0.0   0.0   0.0   0.0   0.0   0.0   0.0   0.0  67.0  56.0  56.0  34.0\n",
       "Rohit    0.0   0.0   0.0   0.0   0.0   0.0   0.0   0.0  89.0  87.0  67.0  56.0\n",
       "Rohil    0.0   0.0   0.0   0.0   0.0   0.0   0.0   0.0  98.0  89.0  56.0  56.0\n",
       "Shital   0.0   0.0   0.0   0.0   0.0   0.0   0.0   0.0  56.0  71.0  87.0  87.0"
      ]
     },
     "execution_count": 23,
     "metadata": {},
     "output_type": "execute_result"
    }
   ],
   "source": [
    "#fill here null values\n",
    "df_cat2.fillna(value=0,inplace=True)\n",
    "df_cat2"
   ]
  },
  {
   "cell_type": "code",
   "execution_count": 24,
   "id": "4f5b60de",
   "metadata": {},
   "outputs": [],
   "source": [
    "# Merging by common keys\n",
    "left=pd.DataFrame({\n",
    "    'key':['K0','K1','K2','K5'],\n",
    "    'A':['A0','A1','A2','A3'],\n",
    "    'B':['B0','B1','B2','B3'],\n",
    "})\n",
    "Right=pd.DataFrame({\n",
    "    'key':['K0','K1','K2','K3'],\n",
    "    'C':['C0','C1','C2','C3'],\n",
    "    'D':['D0','D1','D2','D3'],\n",
    "})"
   ]
  },
  {
   "cell_type": "code",
   "execution_count": 25,
   "id": "12e87205",
   "metadata": {},
   "outputs": [
    {
     "name": "stdout",
     "output_type": "stream",
     "text": [
      "\n",
      " the dataframe 'Left' \n",
      "------------------------------\n",
      "  key   A   B\n",
      "0  K0  A0  B0\n",
      "1  K1  A1  B1\n",
      "2  K2  A2  B2\n",
      "3  K5  A3  B3\n"
     ]
    }
   ],
   "source": [
    "print(\"\\n the dataframe 'Left' \\n\",'-'*30,sep='')\n",
    "print(left)"
   ]
  },
  {
   "cell_type": "code",
   "execution_count": 26,
   "id": "61d7b685",
   "metadata": {},
   "outputs": [
    {
     "name": "stdout",
     "output_type": "stream",
     "text": [
      "\n",
      " the dataframe 'Right' \n",
      "------------------------------\n",
      "  key   C   D\n",
      "0  K0  C0  D0\n",
      "1  K1  C1  D1\n",
      "2  K2  C2  D2\n",
      "3  K3  C3  D3\n"
     ]
    }
   ],
   "source": [
    "print(\"\\n the dataframe 'Right' \\n\",'-'*30,sep='')\n",
    "print(Right)"
   ]
  },
  {
   "cell_type": "markdown",
   "id": "da3cf583",
   "metadata": {},
   "source": [
    "# Merge Data"
   ]
  },
  {
   "cell_type": "code",
   "execution_count": 27,
   "id": "cdba95ae",
   "metadata": {},
   "outputs": [
    {
     "name": "stdout",
     "output_type": "stream",
     "text": [
      "\n",
      "  after simple merging with inner method \n",
      "------------------------------\n",
      "  key   A   B   C   D\n",
      "0  K0  A0  B0  C0  D0\n",
      "1  K1  A1  B1  C1  D1\n",
      "2  K2  A2  B2  C2  D2\n"
     ]
    }
   ],
   "source": [
    "merge1=pd.merge(left,Right,how='inner',on='key')\n",
    "print(\"\\n  after simple merging with inner method \\n\",'-'*30,sep='')\n",
    "print(merge1)\n",
    "\n",
    "\n",
    "#here which is match keys that is merge by merge method\n",
    "#on the key basis we maerge key which is common here\n",
    "#inner means data match it display\n",
    "#if we not write how pera meter it will take defult"
   ]
  },
  {
   "cell_type": "code",
   "execution_count": 28,
   "id": "7adc3885",
   "metadata": {},
   "outputs": [],
   "source": [
    "left=pd.DataFrame({\n",
    "    'A':['A0','A1','A2'],\n",
    "    'B':['B0','B1','B2']},index=['K0','K1','K2'])\n",
    "right=pd.DataFrame({\n",
    "    'C':['C0','C2','C3'],\n",
    "    'D':['D0','D2','D3']},index=['K0','K2','K3'])"
   ]
  },
  {
   "cell_type": "code",
   "execution_count": 29,
   "id": "510b47ba",
   "metadata": {},
   "outputs": [
    {
     "data": {
      "text/html": [
       "<div>\n",
       "<style scoped>\n",
       "    .dataframe tbody tr th:only-of-type {\n",
       "        vertical-align: middle;\n",
       "    }\n",
       "\n",
       "    .dataframe tbody tr th {\n",
       "        vertical-align: top;\n",
       "    }\n",
       "\n",
       "    .dataframe thead th {\n",
       "        text-align: right;\n",
       "    }\n",
       "</style>\n",
       "<table border=\"1\" class=\"dataframe\">\n",
       "  <thead>\n",
       "    <tr style=\"text-align: right;\">\n",
       "      <th></th>\n",
       "      <th>A</th>\n",
       "      <th>B</th>\n",
       "      <th>C</th>\n",
       "      <th>D</th>\n",
       "    </tr>\n",
       "  </thead>\n",
       "  <tbody>\n",
       "    <tr>\n",
       "      <th>K0</th>\n",
       "      <td>A0</td>\n",
       "      <td>B0</td>\n",
       "      <td>C0</td>\n",
       "      <td>D0</td>\n",
       "    </tr>\n",
       "    <tr>\n",
       "      <th>K1</th>\n",
       "      <td>A1</td>\n",
       "      <td>B1</td>\n",
       "      <td>NaN</td>\n",
       "      <td>NaN</td>\n",
       "    </tr>\n",
       "    <tr>\n",
       "      <th>K2</th>\n",
       "      <td>A2</td>\n",
       "      <td>B2</td>\n",
       "      <td>C2</td>\n",
       "      <td>D2</td>\n",
       "    </tr>\n",
       "  </tbody>\n",
       "</table>\n",
       "</div>"
      ],
      "text/plain": [
       "     A   B    C    D\n",
       "K0  A0  B0   C0   D0\n",
       "K1  A1  B1  NaN  NaN\n",
       "K2  A2  B2   C2   D2"
      ]
     },
     "execution_count": 29,
     "metadata": {},
     "output_type": "execute_result"
    }
   ],
   "source": [
    "left.join(right)\n",
    "#left data not change will remain same right data adjust with left"
   ]
  },
  {
   "cell_type": "code",
   "execution_count": 31,
   "id": "bba1f21d",
   "metadata": {},
   "outputs": [
    {
     "data": {
      "text/html": [
       "<div>\n",
       "<style scoped>\n",
       "    .dataframe tbody tr th:only-of-type {\n",
       "        vertical-align: middle;\n",
       "    }\n",
       "\n",
       "    .dataframe tbody tr th {\n",
       "        vertical-align: top;\n",
       "    }\n",
       "\n",
       "    .dataframe thead th {\n",
       "        text-align: right;\n",
       "    }\n",
       "</style>\n",
       "<table border=\"1\" class=\"dataframe\">\n",
       "  <thead>\n",
       "    <tr style=\"text-align: right;\">\n",
       "      <th></th>\n",
       "      <th>A</th>\n",
       "      <th>B</th>\n",
       "      <th>C</th>\n",
       "      <th>D</th>\n",
       "    </tr>\n",
       "  </thead>\n",
       "  <tbody>\n",
       "    <tr>\n",
       "      <th>K0</th>\n",
       "      <td>A0</td>\n",
       "      <td>B0</td>\n",
       "      <td>C0</td>\n",
       "      <td>D0</td>\n",
       "    </tr>\n",
       "    <tr>\n",
       "      <th>K1</th>\n",
       "      <td>A1</td>\n",
       "      <td>B1</td>\n",
       "      <td>NaN</td>\n",
       "      <td>NaN</td>\n",
       "    </tr>\n",
       "    <tr>\n",
       "      <th>K2</th>\n",
       "      <td>A2</td>\n",
       "      <td>B2</td>\n",
       "      <td>C2</td>\n",
       "      <td>D2</td>\n",
       "    </tr>\n",
       "    <tr>\n",
       "      <th>K3</th>\n",
       "      <td>NaN</td>\n",
       "      <td>NaN</td>\n",
       "      <td>C3</td>\n",
       "      <td>D3</td>\n",
       "    </tr>\n",
       "  </tbody>\n",
       "</table>\n",
       "</div>"
      ],
      "text/plain": [
       "      A    B    C    D\n",
       "K0   A0   B0   C0   D0\n",
       "K1   A1   B1  NaN  NaN\n",
       "K2   A2   B2   C2   D2\n",
       "K3  NaN  NaN   C3   D3"
      ]
     },
     "execution_count": 31,
     "metadata": {},
     "output_type": "execute_result"
    }
   ],
   "source": [
    "left.join(right,how='outer')\n",
    "#all both table data will be displayed if we use outer\n",
    "#if we want show all data then use how perameter"
   ]
  },
  {
   "cell_type": "markdown",
   "id": "bc387981",
   "metadata": {},
   "source": [
    "# Data Manipulation"
   ]
  },
  {
   "cell_type": "code",
   "execution_count": 32,
   "id": "94d11df8",
   "metadata": {},
   "outputs": [],
   "source": [
    "# define a function\n",
    "def salary_hike(x):\n",
    "    if(x>3000):\n",
    "        return np.ceil(x+(x*.30))\n",
    "    else:\n",
    "        return np.ceil(x*1.5)"
   ]
  },
  {
   "cell_type": "code",
   "execution_count": 116,
   "id": "6e7c6268",
   "metadata": {},
   "outputs": [
    {
     "data": {
      "text/html": [
       "<div>\n",
       "<style scoped>\n",
       "    .dataframe tbody tr th:only-of-type {\n",
       "        vertical-align: middle;\n",
       "    }\n",
       "\n",
       "    .dataframe tbody tr th {\n",
       "        vertical-align: top;\n",
       "    }\n",
       "\n",
       "    .dataframe thead th {\n",
       "        text-align: right;\n",
       "    }\n",
       "</style>\n",
       "<table border=\"1\" class=\"dataframe\">\n",
       "  <thead>\n",
       "    <tr style=\"text-align: right;\">\n",
       "      <th></th>\n",
       "      <th>Dept</th>\n",
       "      <th>Emp_Name</th>\n",
       "      <th>Salary</th>\n",
       "    </tr>\n",
       "  </thead>\n",
       "  <tbody>\n",
       "    <tr>\n",
       "      <th>0</th>\n",
       "      <td>1</td>\n",
       "      <td>Rajesh</td>\n",
       "      <td>4944</td>\n",
       "    </tr>\n",
       "    <tr>\n",
       "      <th>1</th>\n",
       "      <td>2</td>\n",
       "      <td>Shankar</td>\n",
       "      <td>5455</td>\n",
       "    </tr>\n",
       "    <tr>\n",
       "      <th>2</th>\n",
       "      <td>3</td>\n",
       "      <td>Sindhu</td>\n",
       "      <td>6166</td>\n",
       "    </tr>\n",
       "    <tr>\n",
       "      <th>3</th>\n",
       "      <td>4</td>\n",
       "      <td>Akshay</td>\n",
       "      <td>4044</td>\n",
       "    </tr>\n",
       "    <tr>\n",
       "      <th>4</th>\n",
       "      <td>5</td>\n",
       "      <td>Vivan</td>\n",
       "      <td>3433</td>\n",
       "    </tr>\n",
       "    <tr>\n",
       "      <th>5</th>\n",
       "      <td>6</td>\n",
       "      <td>Monika</td>\n",
       "      <td>2922</td>\n",
       "    </tr>\n",
       "    <tr>\n",
       "      <th>6</th>\n",
       "      <td>7</td>\n",
       "      <td>Salman</td>\n",
       "      <td>6466</td>\n",
       "    </tr>\n",
       "    <tr>\n",
       "      <th>7</th>\n",
       "      <td>8</td>\n",
       "      <td>Aisha</td>\n",
       "      <td>7977</td>\n",
       "    </tr>\n",
       "    <tr>\n",
       "      <th>8</th>\n",
       "      <td>9</td>\n",
       "      <td>Remo</td>\n",
       "      <td>6766</td>\n",
       "    </tr>\n",
       "    <tr>\n",
       "      <th>9</th>\n",
       "      <td>10</td>\n",
       "      <td>Amit</td>\n",
       "      <td>5155</td>\n",
       "    </tr>\n",
       "  </tbody>\n",
       "</table>\n",
       "</div>"
      ],
      "text/plain": [
       "   Dept Emp_Name  Salary\n",
       "0     1   Rajesh    4944\n",
       "1     2  Shankar    5455\n",
       "2     3   Sindhu    6166\n",
       "3     4   Akshay    4044\n",
       "4     5    Vivan    3433\n",
       "5     6   Monika    2922\n",
       "6     7   Salman    6466\n",
       "7     8    Aisha    7977\n",
       "8     9     Remo    6766\n",
       "9    10     Amit    5155"
      ]
     },
     "execution_count": 116,
     "metadata": {},
     "output_type": "execute_result"
    }
   ],
   "source": [
    "df=pd.DataFrame({'Dept':[1,2,3,4,5,6,7,8,9,10],\n",
    "                'Emp_Name':['Rajesh','Shankar','Sindhu','Akshay','Vivan','Monika','Salman','Aisha','Remo','Amit'],\n",
    "                'Salary':[4944,5455,6166,4044,3433,2922,6466,7977,6766,5155]})\n",
    "df"
   ]
  },
  {
   "cell_type": "code",
   "execution_count": 117,
   "id": "05ece252",
   "metadata": {},
   "outputs": [
    {
     "name": "stdout",
     "output_type": "stream",
     "text": [
      "   Dept Emp_Name  Salary  New_salary\n",
      "0     1   Rajesh    4944      6428.0\n",
      "1     2  Shankar    5455      7092.0\n",
      "2     3   Sindhu    6166      8016.0\n",
      "3     4   Akshay    4044      5258.0\n",
      "4     5    Vivan    3433      4463.0\n",
      "5     6   Monika    2922      4383.0\n",
      "6     7   Salman    6466      8406.0\n",
      "7     8    Aisha    7977     10371.0\n",
      "8     9     Remo    6766      8796.0\n",
      "9    10     Amit    5155      6702.0\n"
     ]
    }
   ],
   "source": [
    "df['New_salary']=df['Salary'].apply(salary_hike)\n",
    "print(df)"
   ]
  },
  {
   "cell_type": "code",
   "execution_count": 120,
   "id": "2fe5733e",
   "metadata": {},
   "outputs": [
    {
     "name": "stdout",
     "output_type": "stream",
     "text": [
      "   Dept Emp_Name  Salary  New_salary  Name_length\n",
      "0     1   Rajesh    4944      6428.0            6\n",
      "1     2  Shankar    5455      7092.0            7\n",
      "2     3   Sindhu    6166      8016.0            6\n",
      "3     4   Akshay    4044      5258.0            6\n",
      "4     5    Vivan    3433      4463.0            5\n",
      "5     6   Monika    2922      4383.0            6\n",
      "6     7   Salman    6466      8406.0            6\n",
      "7     8    Aisha    7977     10371.0            5\n",
      "8     9     Remo    6766      8796.0            4\n",
      "9    10     Amit    5155      6702.0            4\n"
     ]
    }
   ],
   "source": [
    "df['Name_length']=df['Emp_Name'].apply(len)\n",
    "print(df)"
   ]
  },
  {
   "cell_type": "code",
   "execution_count": 121,
   "id": "ce173ab0",
   "metadata": {},
   "outputs": [
    {
     "data": {
      "text/plain": [
       "0     80.174809\n",
       "1     84.214013\n",
       "2     89.532117\n",
       "3     72.512068\n",
       "4     66.805688\n",
       "5     66.204229\n",
       "6     91.684241\n",
       "7    101.838107\n",
       "8     93.786993\n",
       "9     81.865744\n",
       "Name: New_salary, dtype: float64"
      ]
     },
     "execution_count": 121,
     "metadata": {},
     "output_type": "execute_result"
    }
   ],
   "source": [
    "df['New_salary'].apply(lambda x : np.sqrt(x))"
   ]
  },
  {
   "cell_type": "code",
   "execution_count": 126,
   "id": "906da15a",
   "metadata": {},
   "outputs": [
    {
     "name": "stdout",
     "output_type": "stream",
     "text": [
      "\n",
      " sum of the column 'New salary' is : 69915.0\n"
     ]
    }
   ],
   "source": [
    "print(\"\\n sum of the column 'New salary' is :\",df['New_salary'].sum())"
   ]
  },
  {
   "cell_type": "code",
   "execution_count": 130,
   "id": "481b9052",
   "metadata": {},
   "outputs": [
    {
     "name": "stdout",
     "output_type": "stream",
     "text": [
      " min and max of the column 'New Salary' is: 4383.0 & 10371.0\n"
     ]
    }
   ],
   "source": [
    "print(\" min and max of the column 'New Salary' is:\",df['New_salary'].min(),'&',df['New_salary'].max())"
   ]
  },
  {
   "cell_type": "code",
   "execution_count": 131,
   "id": "f528074d",
   "metadata": {},
   "outputs": [
    {
     "name": "stdout",
     "output_type": "stream",
     "text": [
      "\n",
      " Name of clomun \n",
      "--------------------\n",
      "Index(['Dept', 'Emp_Name', 'Salary', 'New_salary', 'Name_length'], dtype='object')\n"
     ]
    }
   ],
   "source": [
    "# Deletion sorting list of the column\n",
    "print(\"\\n Name of clomun \\n\",'-'*20,sep='')\n",
    "print(df.columns)"
   ]
  },
  {
   "cell_type": "code",
   "execution_count": 132,
   "id": "ac2b980b",
   "metadata": {},
   "outputs": [
    {
     "name": "stdout",
     "output_type": "stream",
     "text": [
      "\n",
      " columns name in a list of string for later manipulation: ['Dept', 'Emp_Name', 'Salary', 'New_salary', 'Name_length']\n"
     ]
    }
   ],
   "source": [
    "l=list(df.columns)\n",
    "print(\"\\n columns name in a list of string for later manipulation:\",l)"
   ]
  },
  {
   "cell_type": "code",
   "execution_count": 133,
   "id": "3b2854af",
   "metadata": {},
   "outputs": [
    {
     "name": "stdout",
     "output_type": "stream",
     "text": [
      "\n",
      " Deleting column by 'del' command \n",
      "--------------------------------------------------\n",
      "   Dept Emp_Name  New_salary  Name_length\n",
      "0     1   Rajesh      6428.0            6\n",
      "1     2  Shankar      7092.0            7\n",
      "2     3   Sindhu      8016.0            6\n",
      "3     4   Akshay      5258.0            6\n",
      "4     5    Vivan      4463.0            5\n",
      "5     6   Monika      4383.0            6\n",
      "6     7   Salman      8406.0            6\n",
      "7     8    Aisha     10371.0            5\n",
      "8     9     Remo      8796.0            4\n",
      "9    10     Amit      6702.0            4\n"
     ]
    }
   ],
   "source": [
    "print(\"\\n Deleting column by 'del' command \\n\",'-'*50,sep='')\n",
    "del df['Salary']\n",
    "print(df)"
   ]
  },
  {
   "cell_type": "code",
   "execution_count": 134,
   "id": "27c50c8e",
   "metadata": {},
   "outputs": [
    {
     "data": {
      "text/html": [
       "<div>\n",
       "<style scoped>\n",
       "    .dataframe tbody tr th:only-of-type {\n",
       "        vertical-align: middle;\n",
       "    }\n",
       "\n",
       "    .dataframe tbody tr th {\n",
       "        vertical-align: top;\n",
       "    }\n",
       "\n",
       "    .dataframe thead th {\n",
       "        text-align: right;\n",
       "    }\n",
       "</style>\n",
       "<table border=\"1\" class=\"dataframe\">\n",
       "  <thead>\n",
       "    <tr style=\"text-align: right;\">\n",
       "      <th></th>\n",
       "      <th>Dept</th>\n",
       "      <th>Emp_Name</th>\n",
       "      <th>New_salary</th>\n",
       "      <th>Name_length</th>\n",
       "    </tr>\n",
       "  </thead>\n",
       "  <tbody>\n",
       "    <tr>\n",
       "      <th>5</th>\n",
       "      <td>6</td>\n",
       "      <td>Monika</td>\n",
       "      <td>4383.0</td>\n",
       "      <td>6</td>\n",
       "    </tr>\n",
       "    <tr>\n",
       "      <th>4</th>\n",
       "      <td>5</td>\n",
       "      <td>Vivan</td>\n",
       "      <td>4463.0</td>\n",
       "      <td>5</td>\n",
       "    </tr>\n",
       "    <tr>\n",
       "      <th>3</th>\n",
       "      <td>4</td>\n",
       "      <td>Akshay</td>\n",
       "      <td>5258.0</td>\n",
       "      <td>6</td>\n",
       "    </tr>\n",
       "    <tr>\n",
       "      <th>0</th>\n",
       "      <td>1</td>\n",
       "      <td>Rajesh</td>\n",
       "      <td>6428.0</td>\n",
       "      <td>6</td>\n",
       "    </tr>\n",
       "    <tr>\n",
       "      <th>9</th>\n",
       "      <td>10</td>\n",
       "      <td>Amit</td>\n",
       "      <td>6702.0</td>\n",
       "      <td>4</td>\n",
       "    </tr>\n",
       "    <tr>\n",
       "      <th>1</th>\n",
       "      <td>2</td>\n",
       "      <td>Shankar</td>\n",
       "      <td>7092.0</td>\n",
       "      <td>7</td>\n",
       "    </tr>\n",
       "    <tr>\n",
       "      <th>2</th>\n",
       "      <td>3</td>\n",
       "      <td>Sindhu</td>\n",
       "      <td>8016.0</td>\n",
       "      <td>6</td>\n",
       "    </tr>\n",
       "    <tr>\n",
       "      <th>6</th>\n",
       "      <td>7</td>\n",
       "      <td>Salman</td>\n",
       "      <td>8406.0</td>\n",
       "      <td>6</td>\n",
       "    </tr>\n",
       "    <tr>\n",
       "      <th>8</th>\n",
       "      <td>9</td>\n",
       "      <td>Remo</td>\n",
       "      <td>8796.0</td>\n",
       "      <td>4</td>\n",
       "    </tr>\n",
       "    <tr>\n",
       "      <th>7</th>\n",
       "      <td>8</td>\n",
       "      <td>Aisha</td>\n",
       "      <td>10371.0</td>\n",
       "      <td>5</td>\n",
       "    </tr>\n",
       "  </tbody>\n",
       "</table>\n",
       "</div>"
      ],
      "text/plain": [
       "   Dept Emp_Name  New_salary  Name_length\n",
       "5     6   Monika      4383.0            6\n",
       "4     5    Vivan      4463.0            5\n",
       "3     4   Akshay      5258.0            6\n",
       "0     1   Rajesh      6428.0            6\n",
       "9    10     Amit      6702.0            4\n",
       "1     2  Shankar      7092.0            7\n",
       "2     3   Sindhu      8016.0            6\n",
       "6     7   Salman      8406.0            6\n",
       "8     9     Remo      8796.0            4\n",
       "7     8    Aisha     10371.0            5"
      ]
     },
     "execution_count": 134,
     "metadata": {},
     "output_type": "execute_result"
    }
   ],
   "source": [
    "df.sort_values(by='New_salary')"
   ]
  },
  {
   "cell_type": "code",
   "execution_count": 135,
   "id": "8253df36",
   "metadata": {},
   "outputs": [
    {
     "data": {
      "text/html": [
       "<div>\n",
       "<style scoped>\n",
       "    .dataframe tbody tr th:only-of-type {\n",
       "        vertical-align: middle;\n",
       "    }\n",
       "\n",
       "    .dataframe tbody tr th {\n",
       "        vertical-align: top;\n",
       "    }\n",
       "\n",
       "    .dataframe thead th {\n",
       "        text-align: right;\n",
       "    }\n",
       "</style>\n",
       "<table border=\"1\" class=\"dataframe\">\n",
       "  <thead>\n",
       "    <tr style=\"text-align: right;\">\n",
       "      <th></th>\n",
       "      <th>Dept</th>\n",
       "      <th>Emp_Name</th>\n",
       "      <th>New_salary</th>\n",
       "      <th>Name_length</th>\n",
       "    </tr>\n",
       "  </thead>\n",
       "  <tbody>\n",
       "    <tr>\n",
       "      <th>7</th>\n",
       "      <td>8</td>\n",
       "      <td>Aisha</td>\n",
       "      <td>10371.0</td>\n",
       "      <td>5</td>\n",
       "    </tr>\n",
       "    <tr>\n",
       "      <th>8</th>\n",
       "      <td>9</td>\n",
       "      <td>Remo</td>\n",
       "      <td>8796.0</td>\n",
       "      <td>4</td>\n",
       "    </tr>\n",
       "    <tr>\n",
       "      <th>6</th>\n",
       "      <td>7</td>\n",
       "      <td>Salman</td>\n",
       "      <td>8406.0</td>\n",
       "      <td>6</td>\n",
       "    </tr>\n",
       "    <tr>\n",
       "      <th>2</th>\n",
       "      <td>3</td>\n",
       "      <td>Sindhu</td>\n",
       "      <td>8016.0</td>\n",
       "      <td>6</td>\n",
       "    </tr>\n",
       "    <tr>\n",
       "      <th>1</th>\n",
       "      <td>2</td>\n",
       "      <td>Shankar</td>\n",
       "      <td>7092.0</td>\n",
       "      <td>7</td>\n",
       "    </tr>\n",
       "    <tr>\n",
       "      <th>9</th>\n",
       "      <td>10</td>\n",
       "      <td>Amit</td>\n",
       "      <td>6702.0</td>\n",
       "      <td>4</td>\n",
       "    </tr>\n",
       "    <tr>\n",
       "      <th>0</th>\n",
       "      <td>1</td>\n",
       "      <td>Rajesh</td>\n",
       "      <td>6428.0</td>\n",
       "      <td>6</td>\n",
       "    </tr>\n",
       "    <tr>\n",
       "      <th>3</th>\n",
       "      <td>4</td>\n",
       "      <td>Akshay</td>\n",
       "      <td>5258.0</td>\n",
       "      <td>6</td>\n",
       "    </tr>\n",
       "    <tr>\n",
       "      <th>4</th>\n",
       "      <td>5</td>\n",
       "      <td>Vivan</td>\n",
       "      <td>4463.0</td>\n",
       "      <td>5</td>\n",
       "    </tr>\n",
       "    <tr>\n",
       "      <th>5</th>\n",
       "      <td>6</td>\n",
       "      <td>Monika</td>\n",
       "      <td>4383.0</td>\n",
       "      <td>6</td>\n",
       "    </tr>\n",
       "  </tbody>\n",
       "</table>\n",
       "</div>"
      ],
      "text/plain": [
       "   Dept Emp_Name  New_salary  Name_length\n",
       "7     8    Aisha     10371.0            5\n",
       "8     9     Remo      8796.0            4\n",
       "6     7   Salman      8406.0            6\n",
       "2     3   Sindhu      8016.0            6\n",
       "1     2  Shankar      7092.0            7\n",
       "9    10     Amit      6702.0            4\n",
       "0     1   Rajesh      6428.0            6\n",
       "3     4   Akshay      5258.0            6\n",
       "4     5    Vivan      4463.0            5\n",
       "5     6   Monika      4383.0            6"
      ]
     },
     "execution_count": 135,
     "metadata": {},
     "output_type": "execute_result"
    }
   ],
   "source": [
    "df.sort_values(by='New_salary',ascending=False)"
   ]
  },
  {
   "cell_type": "code",
   "execution_count": null,
   "id": "bf402a46",
   "metadata": {},
   "outputs": [],
   "source": [
    "# finding all null values\n",
    "df=pd.DataFrame"
   ]
  },
  {
   "cell_type": "code",
   "execution_count": null,
   "id": "437ba21c",
   "metadata": {},
   "outputs": [],
   "source": []
  },
  {
   "cell_type": "code",
   "execution_count": null,
   "id": "f59de7ad",
   "metadata": {},
   "outputs": [],
   "source": []
  },
  {
   "cell_type": "code",
   "execution_count": null,
   "id": "6f8e04be",
   "metadata": {},
   "outputs": [],
   "source": []
  },
  {
   "cell_type": "code",
   "execution_count": null,
   "id": "9a6107e7",
   "metadata": {},
   "outputs": [],
   "source": []
  },
  {
   "cell_type": "code",
   "execution_count": null,
   "id": "558ecc8f",
   "metadata": {},
   "outputs": [],
   "source": []
  },
  {
   "cell_type": "markdown",
   "id": "fdfc7348",
   "metadata": {},
   "source": [
    "# Date time manipulation"
   ]
  },
  {
   "cell_type": "code",
   "execution_count": 33,
   "id": "696824f2",
   "metadata": {},
   "outputs": [
    {
     "data": {
      "text/html": [
       "<div>\n",
       "<style scoped>\n",
       "    .dataframe tbody tr th:only-of-type {\n",
       "        vertical-align: middle;\n",
       "    }\n",
       "\n",
       "    .dataframe tbody tr th {\n",
       "        vertical-align: top;\n",
       "    }\n",
       "\n",
       "    .dataframe thead th {\n",
       "        text-align: right;\n",
       "    }\n",
       "</style>\n",
       "<table border=\"1\" class=\"dataframe\">\n",
       "  <thead>\n",
       "    <tr style=\"text-align: right;\">\n",
       "      <th></th>\n",
       "      <th>Date</th>\n",
       "    </tr>\n",
       "  </thead>\n",
       "  <tbody>\n",
       "    <tr>\n",
       "      <th>0</th>\n",
       "      <td>2021-04-12</td>\n",
       "    </tr>\n",
       "    <tr>\n",
       "      <th>1</th>\n",
       "      <td>2021-04-13</td>\n",
       "    </tr>\n",
       "    <tr>\n",
       "      <th>2</th>\n",
       "      <td>2021-04-14</td>\n",
       "    </tr>\n",
       "    <tr>\n",
       "      <th>3</th>\n",
       "      <td>2021-04-15</td>\n",
       "    </tr>\n",
       "    <tr>\n",
       "      <th>4</th>\n",
       "      <td>2021-04-16</td>\n",
       "    </tr>\n",
       "    <tr>\n",
       "      <th>5</th>\n",
       "      <td>2021-04-17</td>\n",
       "    </tr>\n",
       "  </tbody>\n",
       "</table>\n",
       "</div>"
      ],
      "text/plain": [
       "        Date\n",
       "0 2021-04-12\n",
       "1 2021-04-13\n",
       "2 2021-04-14\n",
       "3 2021-04-15\n",
       "4 2021-04-16\n",
       "5 2021-04-17"
      ]
     },
     "execution_count": 33,
     "metadata": {},
     "output_type": "execute_result"
    }
   ],
   "source": [
    "date_range = pd.date_range('4/12/2021', periods=6)\n",
    "dates=pd.DataFrame(date_range,columns=['Date'])\n",
    "dates"
   ]
  },
  {
   "cell_type": "code",
   "execution_count": 34,
   "id": "cd7f3b25",
   "metadata": {},
   "outputs": [
    {
     "data": {
      "text/plain": [
       "DatetimeIndex(['2021-04-30', '2021-05-31', '2021-06-30', '2021-07-31',\n",
       "               '2021-08-31', '2021-09-30'],\n",
       "              dtype='datetime64[ns]', freq='M')"
      ]
     },
     "execution_count": 34,
     "metadata": {},
     "output_type": "execute_result"
    }
   ],
   "source": [
    "# if we want to show only month so one perameter frequency , freq='M'\n",
    "date_range=pd.date_range('4/12/2021',periods=6,freq='M')\n",
    "date_range"
   ]
  },
  {
   "cell_type": "code",
   "execution_count": 35,
   "id": "75b3aaa2",
   "metadata": {},
   "outputs": [],
   "source": [
    "# we can take here 'Y',\"D\" freq ='Y' but d is here default.... create new column for seperate date\n",
    "dates['Day']=dates['Date'].dt.day\n",
    "dates['Month']=dates['Date'].dt.month\n",
    "dates['Year']=dates['Date'].dt.year\n"
   ]
  },
  {
   "cell_type": "code",
   "execution_count": 36,
   "id": "d61c69c5",
   "metadata": {},
   "outputs": [
    {
     "data": {
      "text/html": [
       "<div>\n",
       "<style scoped>\n",
       "    .dataframe tbody tr th:only-of-type {\n",
       "        vertical-align: middle;\n",
       "    }\n",
       "\n",
       "    .dataframe tbody tr th {\n",
       "        vertical-align: top;\n",
       "    }\n",
       "\n",
       "    .dataframe thead th {\n",
       "        text-align: right;\n",
       "    }\n",
       "</style>\n",
       "<table border=\"1\" class=\"dataframe\">\n",
       "  <thead>\n",
       "    <tr style=\"text-align: right;\">\n",
       "      <th></th>\n",
       "      <th>Date</th>\n",
       "      <th>Day</th>\n",
       "      <th>Month</th>\n",
       "      <th>Year</th>\n",
       "    </tr>\n",
       "  </thead>\n",
       "  <tbody>\n",
       "    <tr>\n",
       "      <th>0</th>\n",
       "      <td>2021-04-12</td>\n",
       "      <td>12</td>\n",
       "      <td>4</td>\n",
       "      <td>2021</td>\n",
       "    </tr>\n",
       "    <tr>\n",
       "      <th>1</th>\n",
       "      <td>2021-04-13</td>\n",
       "      <td>13</td>\n",
       "      <td>4</td>\n",
       "      <td>2021</td>\n",
       "    </tr>\n",
       "    <tr>\n",
       "      <th>2</th>\n",
       "      <td>2021-04-14</td>\n",
       "      <td>14</td>\n",
       "      <td>4</td>\n",
       "      <td>2021</td>\n",
       "    </tr>\n",
       "    <tr>\n",
       "      <th>3</th>\n",
       "      <td>2021-04-15</td>\n",
       "      <td>15</td>\n",
       "      <td>4</td>\n",
       "      <td>2021</td>\n",
       "    </tr>\n",
       "    <tr>\n",
       "      <th>4</th>\n",
       "      <td>2021-04-16</td>\n",
       "      <td>16</td>\n",
       "      <td>4</td>\n",
       "      <td>2021</td>\n",
       "    </tr>\n",
       "    <tr>\n",
       "      <th>5</th>\n",
       "      <td>2021-04-17</td>\n",
       "      <td>17</td>\n",
       "      <td>4</td>\n",
       "      <td>2021</td>\n",
       "    </tr>\n",
       "  </tbody>\n",
       "</table>\n",
       "</div>"
      ],
      "text/plain": [
       "        Date  Day  Month  Year\n",
       "0 2021-04-12   12      4  2021\n",
       "1 2021-04-13   13      4  2021\n",
       "2 2021-04-14   14      4  2021\n",
       "3 2021-04-15   15      4  2021\n",
       "4 2021-04-16   16      4  2021\n",
       "5 2021-04-17   17      4  2021"
      ]
     },
     "execution_count": 36,
     "metadata": {},
     "output_type": "execute_result"
    }
   ],
   "source": [
    "dates"
   ]
  },
  {
   "cell_type": "code",
   "execution_count": 37,
   "id": "190699ab",
   "metadata": {},
   "outputs": [
    {
     "name": "stdout",
     "output_type": "stream",
     "text": [
      "2000-01-01    0\n",
      "2000-01-02    1\n",
      "2000-01-03    2\n",
      "2000-01-04    3\n",
      "2000-01-05    4\n",
      "2000-01-06    5\n",
      "2000-01-07    6\n",
      "Freq: D, dtype: int32\n"
     ]
    }
   ],
   "source": [
    "dates=pd.date_range('1/1/2000',periods=7)\n",
    "ts=pd.Series(np.arange(7),index=dates)\n",
    "print(ts)"
   ]
  },
  {
   "cell_type": "code",
   "execution_count": 38,
   "id": "aeaa4945",
   "metadata": {},
   "outputs": [
    {
     "data": {
      "text/html": [
       "<div>\n",
       "<style scoped>\n",
       "    .dataframe tbody tr th:only-of-type {\n",
       "        vertical-align: middle;\n",
       "    }\n",
       "\n",
       "    .dataframe tbody tr th {\n",
       "        vertical-align: top;\n",
       "    }\n",
       "\n",
       "    .dataframe thead th {\n",
       "        text-align: right;\n",
       "    }\n",
       "</style>\n",
       "<table border=\"1\" class=\"dataframe\">\n",
       "  <thead>\n",
       "    <tr style=\"text-align: right;\">\n",
       "      <th></th>\n",
       "      <th>Date</th>\n",
       "    </tr>\n",
       "  </thead>\n",
       "  <tbody>\n",
       "    <tr>\n",
       "      <th>0</th>\n",
       "      <td>2021-04-30</td>\n",
       "    </tr>\n",
       "    <tr>\n",
       "      <th>1</th>\n",
       "      <td>2021-05-31</td>\n",
       "    </tr>\n",
       "    <tr>\n",
       "      <th>2</th>\n",
       "      <td>2021-06-30</td>\n",
       "    </tr>\n",
       "    <tr>\n",
       "      <th>3</th>\n",
       "      <td>2021-07-31</td>\n",
       "    </tr>\n",
       "    <tr>\n",
       "      <th>4</th>\n",
       "      <td>2021-08-31</td>\n",
       "    </tr>\n",
       "    <tr>\n",
       "      <th>5</th>\n",
       "      <td>2021-09-30</td>\n",
       "    </tr>\n",
       "  </tbody>\n",
       "</table>\n",
       "</div>"
      ],
      "text/plain": [
       "        Date\n",
       "0 2021-04-30\n",
       "1 2021-05-31\n",
       "2 2021-06-30\n",
       "3 2021-07-31\n",
       "4 2021-08-31\n",
       "5 2021-09-30"
      ]
     },
     "execution_count": 38,
     "metadata": {},
     "output_type": "execute_result"
    }
   ],
   "source": [
    "daterange=pd.date_range('2021/9/21',periods=6)\n",
    "date=pd.DataFrame(date_range,columns=['Date'])\n",
    "date"
   ]
  },
  {
   "cell_type": "code",
   "execution_count": 39,
   "id": "87a0da05",
   "metadata": {},
   "outputs": [],
   "source": [
    "# export your file where ever you want\n",
    "ts.to_csv(\"........ give file name here\")"
   ]
  },
  {
   "cell_type": "markdown",
   "id": "7884de4b",
   "metadata": {},
   "source": [
    "# Data Cleaning"
   ]
  },
  {
   "cell_type": "code",
   "execution_count": 40,
   "id": "0211066a",
   "metadata": {},
   "outputs": [
    {
     "data": {
      "text/plain": [
       "array([ 1., nan,  7.,  1.,  8.])"
      ]
     },
     "execution_count": 40,
     "metadata": {},
     "output_type": "execute_result"
    }
   ],
   "source": [
    "val1=np.array([1,np.nan,7,1,8])\n",
    "val1"
   ]
  },
  {
   "cell_type": "code",
   "execution_count": 41,
   "id": "9435dfbe",
   "metadata": {},
   "outputs": [
    {
     "data": {
      "text/plain": [
       "nan"
      ]
     },
     "execution_count": 41,
     "metadata": {},
     "output_type": "execute_result"
    }
   ],
   "source": [
    "6+np.nan"
   ]
  },
  {
   "cell_type": "code",
   "execution_count": 42,
   "id": "0f6af094",
   "metadata": {},
   "outputs": [
    {
     "data": {
      "text/plain": [
       "nan"
      ]
     },
     "execution_count": 42,
     "metadata": {},
     "output_type": "execute_result"
    }
   ],
   "source": [
    "7*np.nan\n",
    "# numpy does provide some special aggregation that will ignore those missing values"
   ]
  },
  {
   "cell_type": "code",
   "execution_count": 43,
   "id": "49909ca7",
   "metadata": {},
   "outputs": [
    {
     "data": {
      "text/plain": [
       "17.0"
      ]
     },
     "execution_count": 43,
     "metadata": {},
     "output_type": "execute_result"
    }
   ],
   "source": [
    "np.nansum(val1)"
   ]
  },
  {
   "cell_type": "code",
   "execution_count": 44,
   "id": "1371bb81",
   "metadata": {},
   "outputs": [
    {
     "data": {
      "text/plain": [
       "0    1.0\n",
       "1    NaN\n",
       "2    2.0\n",
       "3    NaN\n",
       "dtype: float64"
      ]
     },
     "execution_count": 44,
     "metadata": {},
     "output_type": "execute_result"
    }
   ],
   "source": [
    "# Nan and None in Pandas\n",
    "pd.Series([1,np.nan,2,None])"
   ]
  },
  {
   "cell_type": "markdown",
   "id": "74aaf3d0",
   "metadata": {},
   "source": [
    "# there are saveral methiod for removing and detecting replacing null, values in pandas data structure\n",
    "\n",
    "isnull(): Generate a boolean mask indicatimng values notnull(): Opposite of isnull() dropna(): Return a filtered version of the data fillna(): Return a copy of the data with missing values filled or imputed.\n"
   ]
  },
  {
   "cell_type": "code",
   "execution_count": 45,
   "id": "924def74",
   "metadata": {},
   "outputs": [
    {
     "data": {
      "text/html": [
       "<div>\n",
       "<style scoped>\n",
       "    .dataframe tbody tr th:only-of-type {\n",
       "        vertical-align: middle;\n",
       "    }\n",
       "\n",
       "    .dataframe tbody tr th {\n",
       "        vertical-align: top;\n",
       "    }\n",
       "\n",
       "    .dataframe thead th {\n",
       "        text-align: right;\n",
       "    }\n",
       "</style>\n",
       "<table border=\"1\" class=\"dataframe\">\n",
       "  <thead>\n",
       "    <tr style=\"text-align: right;\">\n",
       "      <th></th>\n",
       "      <th>First_name</th>\n",
       "      <th>Last_name</th>\n",
       "      <th>Age</th>\n",
       "      <th>Sex</th>\n",
       "      <th>Unit1</th>\n",
       "      <th>Unit2</th>\n",
       "    </tr>\n",
       "  </thead>\n",
       "  <tbody>\n",
       "    <tr>\n",
       "      <th>0</th>\n",
       "      <td>jason</td>\n",
       "      <td>Miller</td>\n",
       "      <td>42.0</td>\n",
       "      <td>M</td>\n",
       "      <td>4.0</td>\n",
       "      <td>3.0</td>\n",
       "    </tr>\n",
       "    <tr>\n",
       "      <th>1</th>\n",
       "      <td>NaN</td>\n",
       "      <td>NaN</td>\n",
       "      <td>NaN</td>\n",
       "      <td>NaN</td>\n",
       "      <td>NaN</td>\n",
       "      <td>NaN</td>\n",
       "    </tr>\n",
       "    <tr>\n",
       "      <th>2</th>\n",
       "      <td>Tina</td>\n",
       "      <td>Ali</td>\n",
       "      <td>36.0</td>\n",
       "      <td>F</td>\n",
       "      <td>NaN</td>\n",
       "      <td>NaN</td>\n",
       "    </tr>\n",
       "    <tr>\n",
       "      <th>3</th>\n",
       "      <td>jack</td>\n",
       "      <td>Milers</td>\n",
       "      <td>24.0</td>\n",
       "      <td>M</td>\n",
       "      <td>2.0</td>\n",
       "      <td>4.0</td>\n",
       "    </tr>\n",
       "    <tr>\n",
       "      <th>4</th>\n",
       "      <td>Amy</td>\n",
       "      <td>coov</td>\n",
       "      <td>73.0</td>\n",
       "      <td>F</td>\n",
       "      <td>3.0</td>\n",
       "      <td>4.0</td>\n",
       "    </tr>\n",
       "    <tr>\n",
       "      <th>5</th>\n",
       "      <td>Madhu</td>\n",
       "      <td>patil</td>\n",
       "      <td>25.0</td>\n",
       "      <td>F</td>\n",
       "      <td>4.0</td>\n",
       "      <td>4.0</td>\n",
       "    </tr>\n",
       "  </tbody>\n",
       "</table>\n",
       "</div>"
      ],
      "text/plain": [
       "  First_name Last_name   Age  Sex  Unit1  Unit2\n",
       "0      jason    Miller  42.0    M    4.0    3.0\n",
       "1        NaN       NaN   NaN  NaN    NaN    NaN\n",
       "2       Tina       Ali  36.0    F    NaN    NaN\n",
       "3       jack    Milers  24.0    M    2.0    4.0\n",
       "4        Amy      coov  73.0    F    3.0    4.0\n",
       "5      Madhu     patil  25.0    F    4.0    4.0"
      ]
     },
     "execution_count": 45,
     "metadata": {},
     "output_type": "execute_result"
    }
   ],
   "source": [
    "# create dataFrame with missing values\n",
    "raw_data={\n",
    "    'First_name':['jason',np.nan,'Tina','jack',\"Amy\",'Madhu'],\n",
    "    'Last_name':['Miller',np.nan,'Ali','Milers','coov','patil'],\n",
    "    'Age':[42,np.nan,36,24,73,25],\n",
    "    'Sex':['M',np.nan,'F','M','F','F'],\n",
    "    'Unit1':[4,np.nan,np.nan,2,3,4],\n",
    "    'Unit2':[3,np.nan,np.nan,4,4,4]}\n",
    "df=pd.DataFrame(raw_data,columns=['First_name','Last_name','Age','Sex','Unit1','Unit2'])\n",
    "df"
   ]
  },
  {
   "cell_type": "code",
   "execution_count": 46,
   "id": "6a4394ed",
   "metadata": {},
   "outputs": [
    {
     "data": {
      "text/html": [
       "<div>\n",
       "<style scoped>\n",
       "    .dataframe tbody tr th:only-of-type {\n",
       "        vertical-align: middle;\n",
       "    }\n",
       "\n",
       "    .dataframe tbody tr th {\n",
       "        vertical-align: top;\n",
       "    }\n",
       "\n",
       "    .dataframe thead th {\n",
       "        text-align: right;\n",
       "    }\n",
       "</style>\n",
       "<table border=\"1\" class=\"dataframe\">\n",
       "  <thead>\n",
       "    <tr style=\"text-align: right;\">\n",
       "      <th></th>\n",
       "      <th>First_name</th>\n",
       "      <th>Last_name</th>\n",
       "      <th>Age</th>\n",
       "      <th>Sex</th>\n",
       "      <th>Unit1</th>\n",
       "      <th>Unit2</th>\n",
       "    </tr>\n",
       "  </thead>\n",
       "  <tbody>\n",
       "    <tr>\n",
       "      <th>0</th>\n",
       "      <td>jason</td>\n",
       "      <td>Miller</td>\n",
       "      <td>42.0</td>\n",
       "      <td>M</td>\n",
       "      <td>4.0</td>\n",
       "      <td>3.0</td>\n",
       "    </tr>\n",
       "    <tr>\n",
       "      <th>3</th>\n",
       "      <td>jack</td>\n",
       "      <td>Milers</td>\n",
       "      <td>24.0</td>\n",
       "      <td>M</td>\n",
       "      <td>2.0</td>\n",
       "      <td>4.0</td>\n",
       "    </tr>\n",
       "    <tr>\n",
       "      <th>4</th>\n",
       "      <td>Amy</td>\n",
       "      <td>coov</td>\n",
       "      <td>73.0</td>\n",
       "      <td>F</td>\n",
       "      <td>3.0</td>\n",
       "      <td>4.0</td>\n",
       "    </tr>\n",
       "    <tr>\n",
       "      <th>5</th>\n",
       "      <td>Madhu</td>\n",
       "      <td>patil</td>\n",
       "      <td>25.0</td>\n",
       "      <td>F</td>\n",
       "      <td>4.0</td>\n",
       "      <td>4.0</td>\n",
       "    </tr>\n",
       "  </tbody>\n",
       "</table>\n",
       "</div>"
      ],
      "text/plain": [
       "  First_name Last_name   Age Sex  Unit1  Unit2\n",
       "0      jason    Miller  42.0   M    4.0    3.0\n",
       "3       jack    Milers  24.0   M    2.0    4.0\n",
       "4        Amy      coov  73.0   F    3.0    4.0\n",
       "5      Madhu     patil  25.0   F    4.0    4.0"
      ]
     },
     "execution_count": 46,
     "metadata": {},
     "output_type": "execute_result"
    }
   ],
   "source": [
    "df_no_missing=df.dropna()\n",
    "df_no_missing # by this dropna method all null vales has removed"
   ]
  },
  {
   "cell_type": "code",
   "execution_count": 47,
   "id": "13f113c6",
   "metadata": {},
   "outputs": [
    {
     "data": {
      "text/html": [
       "<div>\n",
       "<style scoped>\n",
       "    .dataframe tbody tr th:only-of-type {\n",
       "        vertical-align: middle;\n",
       "    }\n",
       "\n",
       "    .dataframe tbody tr th {\n",
       "        vertical-align: top;\n",
       "    }\n",
       "\n",
       "    .dataframe thead th {\n",
       "        text-align: right;\n",
       "    }\n",
       "</style>\n",
       "<table border=\"1\" class=\"dataframe\">\n",
       "  <thead>\n",
       "    <tr style=\"text-align: right;\">\n",
       "      <th></th>\n",
       "      <th>First_name</th>\n",
       "      <th>Last_name</th>\n",
       "      <th>Age</th>\n",
       "      <th>Sex</th>\n",
       "      <th>Unit1</th>\n",
       "      <th>Unit2</th>\n",
       "    </tr>\n",
       "  </thead>\n",
       "  <tbody>\n",
       "    <tr>\n",
       "      <th>0</th>\n",
       "      <td>jason</td>\n",
       "      <td>Miller</td>\n",
       "      <td>42.0</td>\n",
       "      <td>M</td>\n",
       "      <td>4.0</td>\n",
       "      <td>3.0</td>\n",
       "    </tr>\n",
       "    <tr>\n",
       "      <th>1</th>\n",
       "      <td>NaN</td>\n",
       "      <td>NaN</td>\n",
       "      <td>NaN</td>\n",
       "      <td>NaN</td>\n",
       "      <td>NaN</td>\n",
       "      <td>NaN</td>\n",
       "    </tr>\n",
       "    <tr>\n",
       "      <th>2</th>\n",
       "      <td>Tina</td>\n",
       "      <td>Ali</td>\n",
       "      <td>36.0</td>\n",
       "      <td>F</td>\n",
       "      <td>NaN</td>\n",
       "      <td>NaN</td>\n",
       "    </tr>\n",
       "    <tr>\n",
       "      <th>3</th>\n",
       "      <td>jack</td>\n",
       "      <td>Milers</td>\n",
       "      <td>24.0</td>\n",
       "      <td>M</td>\n",
       "      <td>2.0</td>\n",
       "      <td>4.0</td>\n",
       "    </tr>\n",
       "    <tr>\n",
       "      <th>4</th>\n",
       "      <td>Amy</td>\n",
       "      <td>coov</td>\n",
       "      <td>73.0</td>\n",
       "      <td>F</td>\n",
       "      <td>3.0</td>\n",
       "      <td>4.0</td>\n",
       "    </tr>\n",
       "    <tr>\n",
       "      <th>5</th>\n",
       "      <td>Madhu</td>\n",
       "      <td>patil</td>\n",
       "      <td>25.0</td>\n",
       "      <td>F</td>\n",
       "      <td>4.0</td>\n",
       "      <td>4.0</td>\n",
       "    </tr>\n",
       "  </tbody>\n",
       "</table>\n",
       "</div>"
      ],
      "text/plain": [
       "  First_name Last_name   Age  Sex  Unit1  Unit2\n",
       "0      jason    Miller  42.0    M    4.0    3.0\n",
       "1        NaN       NaN   NaN  NaN    NaN    NaN\n",
       "2       Tina       Ali  36.0    F    NaN    NaN\n",
       "3       jack    Milers  24.0    M    2.0    4.0\n",
       "4        Amy      coov  73.0    F    3.0    4.0\n",
       "5      Madhu     patil  25.0    F    4.0    4.0"
      ]
     },
     "execution_count": 47,
     "metadata": {},
     "output_type": "execute_result"
    }
   ],
   "source": [
    "# drop rows where all cells in that row in na\n",
    "df"
   ]
  },
  {
   "cell_type": "code",
   "execution_count": 48,
   "id": "991e7506",
   "metadata": {},
   "outputs": [
    {
     "data": {
      "text/html": [
       "<div>\n",
       "<style scoped>\n",
       "    .dataframe tbody tr th:only-of-type {\n",
       "        vertical-align: middle;\n",
       "    }\n",
       "\n",
       "    .dataframe tbody tr th {\n",
       "        vertical-align: top;\n",
       "    }\n",
       "\n",
       "    .dataframe thead th {\n",
       "        text-align: right;\n",
       "    }\n",
       "</style>\n",
       "<table border=\"1\" class=\"dataframe\">\n",
       "  <thead>\n",
       "    <tr style=\"text-align: right;\">\n",
       "      <th></th>\n",
       "      <th>First_name</th>\n",
       "      <th>Last_name</th>\n",
       "      <th>Age</th>\n",
       "      <th>Sex</th>\n",
       "      <th>Unit1</th>\n",
       "      <th>Unit2</th>\n",
       "    </tr>\n",
       "  </thead>\n",
       "  <tbody>\n",
       "    <tr>\n",
       "      <th>0</th>\n",
       "      <td>jason</td>\n",
       "      <td>Miller</td>\n",
       "      <td>42.0</td>\n",
       "      <td>M</td>\n",
       "      <td>4.0</td>\n",
       "      <td>3.0</td>\n",
       "    </tr>\n",
       "    <tr>\n",
       "      <th>2</th>\n",
       "      <td>Tina</td>\n",
       "      <td>Ali</td>\n",
       "      <td>36.0</td>\n",
       "      <td>F</td>\n",
       "      <td>NaN</td>\n",
       "      <td>NaN</td>\n",
       "    </tr>\n",
       "    <tr>\n",
       "      <th>3</th>\n",
       "      <td>jack</td>\n",
       "      <td>Milers</td>\n",
       "      <td>24.0</td>\n",
       "      <td>M</td>\n",
       "      <td>2.0</td>\n",
       "      <td>4.0</td>\n",
       "    </tr>\n",
       "    <tr>\n",
       "      <th>4</th>\n",
       "      <td>Amy</td>\n",
       "      <td>coov</td>\n",
       "      <td>73.0</td>\n",
       "      <td>F</td>\n",
       "      <td>3.0</td>\n",
       "      <td>4.0</td>\n",
       "    </tr>\n",
       "    <tr>\n",
       "      <th>5</th>\n",
       "      <td>Madhu</td>\n",
       "      <td>patil</td>\n",
       "      <td>25.0</td>\n",
       "      <td>F</td>\n",
       "      <td>4.0</td>\n",
       "      <td>4.0</td>\n",
       "    </tr>\n",
       "  </tbody>\n",
       "</table>\n",
       "</div>"
      ],
      "text/plain": [
       "  First_name Last_name   Age Sex  Unit1  Unit2\n",
       "0      jason    Miller  42.0   M    4.0    3.0\n",
       "2       Tina       Ali  36.0   F    NaN    NaN\n",
       "3       jack    Milers  24.0   M    2.0    4.0\n",
       "4        Amy      coov  73.0   F    3.0    4.0\n",
       "5      Madhu     patil  25.0   F    4.0    4.0"
      ]
     },
     "execution_count": 48,
     "metadata": {},
     "output_type": "execute_result"
    }
   ],
   "source": [
    "# rows that has all Nan's will be removed\n",
    "df_cleaned=df.dropna(how='all')\n",
    "df_cleaned\n",
    "# here by use this how perameter we can removed all complete row which is null"
   ]
  },
  {
   "cell_type": "code",
   "execution_count": 49,
   "id": "c4f1a927",
   "metadata": {},
   "outputs": [
    {
     "data": {
      "text/html": [
       "<div>\n",
       "<style scoped>\n",
       "    .dataframe tbody tr th:only-of-type {\n",
       "        vertical-align: middle;\n",
       "    }\n",
       "\n",
       "    .dataframe tbody tr th {\n",
       "        vertical-align: top;\n",
       "    }\n",
       "\n",
       "    .dataframe thead th {\n",
       "        text-align: right;\n",
       "    }\n",
       "</style>\n",
       "<table border=\"1\" class=\"dataframe\">\n",
       "  <thead>\n",
       "    <tr style=\"text-align: right;\">\n",
       "      <th></th>\n",
       "      <th>First_name</th>\n",
       "      <th>Last_name</th>\n",
       "      <th>Age</th>\n",
       "      <th>Sex</th>\n",
       "      <th>Unit1</th>\n",
       "      <th>Unit2</th>\n",
       "      <th>Final_score</th>\n",
       "    </tr>\n",
       "  </thead>\n",
       "  <tbody>\n",
       "    <tr>\n",
       "      <th>0</th>\n",
       "      <td>jason</td>\n",
       "      <td>Miller</td>\n",
       "      <td>42.0</td>\n",
       "      <td>M</td>\n",
       "      <td>4.0</td>\n",
       "      <td>3.0</td>\n",
       "      <td>NaN</td>\n",
       "    </tr>\n",
       "    <tr>\n",
       "      <th>1</th>\n",
       "      <td>NaN</td>\n",
       "      <td>NaN</td>\n",
       "      <td>NaN</td>\n",
       "      <td>NaN</td>\n",
       "      <td>NaN</td>\n",
       "      <td>NaN</td>\n",
       "      <td>NaN</td>\n",
       "    </tr>\n",
       "    <tr>\n",
       "      <th>2</th>\n",
       "      <td>Tina</td>\n",
       "      <td>Ali</td>\n",
       "      <td>36.0</td>\n",
       "      <td>F</td>\n",
       "      <td>NaN</td>\n",
       "      <td>NaN</td>\n",
       "      <td>NaN</td>\n",
       "    </tr>\n",
       "    <tr>\n",
       "      <th>3</th>\n",
       "      <td>jack</td>\n",
       "      <td>Milers</td>\n",
       "      <td>24.0</td>\n",
       "      <td>M</td>\n",
       "      <td>2.0</td>\n",
       "      <td>4.0</td>\n",
       "      <td>NaN</td>\n",
       "    </tr>\n",
       "    <tr>\n",
       "      <th>4</th>\n",
       "      <td>Amy</td>\n",
       "      <td>coov</td>\n",
       "      <td>73.0</td>\n",
       "      <td>F</td>\n",
       "      <td>3.0</td>\n",
       "      <td>4.0</td>\n",
       "      <td>NaN</td>\n",
       "    </tr>\n",
       "    <tr>\n",
       "      <th>5</th>\n",
       "      <td>Madhu</td>\n",
       "      <td>patil</td>\n",
       "      <td>25.0</td>\n",
       "      <td>F</td>\n",
       "      <td>4.0</td>\n",
       "      <td>4.0</td>\n",
       "      <td>NaN</td>\n",
       "    </tr>\n",
       "  </tbody>\n",
       "</table>\n",
       "</div>"
      ],
      "text/plain": [
       "  First_name Last_name   Age  Sex  Unit1  Unit2  Final_score\n",
       "0      jason    Miller  42.0    M    4.0    3.0          NaN\n",
       "1        NaN       NaN   NaN  NaN    NaN    NaN          NaN\n",
       "2       Tina       Ali  36.0    F    NaN    NaN          NaN\n",
       "3       jack    Milers  24.0    M    2.0    4.0          NaN\n",
       "4        Amy      coov  73.0    F    3.0    4.0          NaN\n",
       "5      Madhu     patil  25.0    F    4.0    4.0          NaN"
      ]
     },
     "execution_count": 49,
     "metadata": {},
     "output_type": "execute_result"
    }
   ],
   "source": [
    "# create a new column full of missing values\n",
    "df['Final_score']=np.nan\n",
    "df"
   ]
  },
  {
   "cell_type": "code",
   "execution_count": 50,
   "id": "720df848",
   "metadata": {},
   "outputs": [
    {
     "data": {
      "text/html": [
       "<div>\n",
       "<style scoped>\n",
       "    .dataframe tbody tr th:only-of-type {\n",
       "        vertical-align: middle;\n",
       "    }\n",
       "\n",
       "    .dataframe tbody tr th {\n",
       "        vertical-align: top;\n",
       "    }\n",
       "\n",
       "    .dataframe thead th {\n",
       "        text-align: right;\n",
       "    }\n",
       "</style>\n",
       "<table border=\"1\" class=\"dataframe\">\n",
       "  <thead>\n",
       "    <tr style=\"text-align: right;\">\n",
       "      <th></th>\n",
       "      <th>First_name</th>\n",
       "      <th>Last_name</th>\n",
       "      <th>Age</th>\n",
       "      <th>Sex</th>\n",
       "      <th>Unit1</th>\n",
       "      <th>Unit2</th>\n",
       "    </tr>\n",
       "  </thead>\n",
       "  <tbody>\n",
       "    <tr>\n",
       "      <th>0</th>\n",
       "      <td>jason</td>\n",
       "      <td>Miller</td>\n",
       "      <td>42.0</td>\n",
       "      <td>M</td>\n",
       "      <td>4.0</td>\n",
       "      <td>3.0</td>\n",
       "    </tr>\n",
       "    <tr>\n",
       "      <th>1</th>\n",
       "      <td>NaN</td>\n",
       "      <td>NaN</td>\n",
       "      <td>NaN</td>\n",
       "      <td>NaN</td>\n",
       "      <td>NaN</td>\n",
       "      <td>NaN</td>\n",
       "    </tr>\n",
       "    <tr>\n",
       "      <th>2</th>\n",
       "      <td>Tina</td>\n",
       "      <td>Ali</td>\n",
       "      <td>36.0</td>\n",
       "      <td>F</td>\n",
       "      <td>NaN</td>\n",
       "      <td>NaN</td>\n",
       "    </tr>\n",
       "    <tr>\n",
       "      <th>3</th>\n",
       "      <td>jack</td>\n",
       "      <td>Milers</td>\n",
       "      <td>24.0</td>\n",
       "      <td>M</td>\n",
       "      <td>2.0</td>\n",
       "      <td>4.0</td>\n",
       "    </tr>\n",
       "    <tr>\n",
       "      <th>4</th>\n",
       "      <td>Amy</td>\n",
       "      <td>coov</td>\n",
       "      <td>73.0</td>\n",
       "      <td>F</td>\n",
       "      <td>3.0</td>\n",
       "      <td>4.0</td>\n",
       "    </tr>\n",
       "    <tr>\n",
       "      <th>5</th>\n",
       "      <td>Madhu</td>\n",
       "      <td>patil</td>\n",
       "      <td>25.0</td>\n",
       "      <td>F</td>\n",
       "      <td>4.0</td>\n",
       "      <td>4.0</td>\n",
       "    </tr>\n",
       "  </tbody>\n",
       "</table>\n",
       "</div>"
      ],
      "text/plain": [
       "  First_name Last_name   Age  Sex  Unit1  Unit2\n",
       "0      jason    Miller  42.0    M    4.0    3.0\n",
       "1        NaN       NaN   NaN  NaN    NaN    NaN\n",
       "2       Tina       Ali  36.0    F    NaN    NaN\n",
       "3       jack    Milers  24.0    M    2.0    4.0\n",
       "4        Amy      coov  73.0    F    3.0    4.0\n",
       "5      Madhu     patil  25.0    F    4.0    4.0"
      ]
     },
     "execution_count": 50,
     "metadata": {},
     "output_type": "execute_result"
    }
   ],
   "source": [
    "# drop column i they only contain missing values\n",
    "df.dropna(axis=1,how='all') # it will remove complete column which is null \n",
    "#df.fillna(0) # but we can not fill nan values with zero"
   ]
  },
  {
   "cell_type": "code",
   "execution_count": 51,
   "id": "b564d25a",
   "metadata": {},
   "outputs": [],
   "source": [
    "# fill in missing in unit 1 with the mean value of unit 1\n",
    "df[\"Unit1\"].fillna(df[\"Unit1\"].mean(),inplace=True)"
   ]
  },
  {
   "cell_type": "code",
   "execution_count": 52,
   "id": "0d25e660",
   "metadata": {},
   "outputs": [
    {
     "data": {
      "text/html": [
       "<div>\n",
       "<style scoped>\n",
       "    .dataframe tbody tr th:only-of-type {\n",
       "        vertical-align: middle;\n",
       "    }\n",
       "\n",
       "    .dataframe tbody tr th {\n",
       "        vertical-align: top;\n",
       "    }\n",
       "\n",
       "    .dataframe thead th {\n",
       "        text-align: right;\n",
       "    }\n",
       "</style>\n",
       "<table border=\"1\" class=\"dataframe\">\n",
       "  <thead>\n",
       "    <tr style=\"text-align: right;\">\n",
       "      <th></th>\n",
       "      <th>First_name</th>\n",
       "      <th>Last_name</th>\n",
       "      <th>Age</th>\n",
       "      <th>Sex</th>\n",
       "      <th>Unit1</th>\n",
       "      <th>Unit2</th>\n",
       "      <th>Final_score</th>\n",
       "    </tr>\n",
       "  </thead>\n",
       "  <tbody>\n",
       "    <tr>\n",
       "      <th>0</th>\n",
       "      <td>jason</td>\n",
       "      <td>Miller</td>\n",
       "      <td>42.0</td>\n",
       "      <td>M</td>\n",
       "      <td>4.00</td>\n",
       "      <td>3.0</td>\n",
       "      <td>NaN</td>\n",
       "    </tr>\n",
       "    <tr>\n",
       "      <th>1</th>\n",
       "      <td>NaN</td>\n",
       "      <td>NaN</td>\n",
       "      <td>NaN</td>\n",
       "      <td>NaN</td>\n",
       "      <td>3.25</td>\n",
       "      <td>NaN</td>\n",
       "      <td>NaN</td>\n",
       "    </tr>\n",
       "    <tr>\n",
       "      <th>2</th>\n",
       "      <td>Tina</td>\n",
       "      <td>Ali</td>\n",
       "      <td>36.0</td>\n",
       "      <td>F</td>\n",
       "      <td>3.25</td>\n",
       "      <td>4.0</td>\n",
       "      <td>NaN</td>\n",
       "    </tr>\n",
       "    <tr>\n",
       "      <th>3</th>\n",
       "      <td>jack</td>\n",
       "      <td>Milers</td>\n",
       "      <td>24.0</td>\n",
       "      <td>M</td>\n",
       "      <td>2.00</td>\n",
       "      <td>4.0</td>\n",
       "      <td>NaN</td>\n",
       "    </tr>\n",
       "    <tr>\n",
       "      <th>4</th>\n",
       "      <td>Amy</td>\n",
       "      <td>coov</td>\n",
       "      <td>73.0</td>\n",
       "      <td>F</td>\n",
       "      <td>3.00</td>\n",
       "      <td>4.0</td>\n",
       "      <td>NaN</td>\n",
       "    </tr>\n",
       "    <tr>\n",
       "      <th>5</th>\n",
       "      <td>Madhu</td>\n",
       "      <td>patil</td>\n",
       "      <td>25.0</td>\n",
       "      <td>F</td>\n",
       "      <td>4.00</td>\n",
       "      <td>4.0</td>\n",
       "      <td>NaN</td>\n",
       "    </tr>\n",
       "  </tbody>\n",
       "</table>\n",
       "</div>"
      ],
      "text/plain": [
       "  First_name Last_name   Age  Sex  Unit1  Unit2  Final_score\n",
       "0      jason    Miller  42.0    M   4.00    3.0          NaN\n",
       "1        NaN       NaN   NaN  NaN   3.25    NaN          NaN\n",
       "2       Tina       Ali  36.0    F   3.25    4.0          NaN\n",
       "3       jack    Milers  24.0    M   2.00    4.0          NaN\n",
       "4        Amy      coov  73.0    F   3.00    4.0          NaN\n",
       "5      Madhu     patil  25.0    F   4.00    4.0          NaN"
      ]
     },
     "execution_count": 52,
     "metadata": {},
     "output_type": "execute_result"
    }
   ],
   "source": [
    "# fill in missing in post TestScore  with each sex  mean values of post Test Score.\n",
    "df[\"Unit2\"].fillna(df.groupby(\"Sex\")[\"Unit2\"].transform(\"mean\"),inplace=True)\n",
    "df"
   ]
  },
  {
   "cell_type": "code",
   "execution_count": 53,
   "id": "1909ae08",
   "metadata": {},
   "outputs": [
    {
     "data": {
      "text/html": [
       "<div>\n",
       "<style scoped>\n",
       "    .dataframe tbody tr th:only-of-type {\n",
       "        vertical-align: middle;\n",
       "    }\n",
       "\n",
       "    .dataframe tbody tr th {\n",
       "        vertical-align: top;\n",
       "    }\n",
       "\n",
       "    .dataframe thead th {\n",
       "        text-align: right;\n",
       "    }\n",
       "</style>\n",
       "<table border=\"1\" class=\"dataframe\">\n",
       "  <thead>\n",
       "    <tr style=\"text-align: right;\">\n",
       "      <th></th>\n",
       "      <th>First_name</th>\n",
       "      <th>Last_name</th>\n",
       "      <th>Age</th>\n",
       "      <th>Sex</th>\n",
       "      <th>Unit1</th>\n",
       "      <th>Unit2</th>\n",
       "      <th>Final_score</th>\n",
       "    </tr>\n",
       "  </thead>\n",
       "  <tbody>\n",
       "    <tr>\n",
       "      <th>0</th>\n",
       "      <td>jason</td>\n",
       "      <td>Miller</td>\n",
       "      <td>42.0</td>\n",
       "      <td>M</td>\n",
       "      <td>4.00</td>\n",
       "      <td>3.0</td>\n",
       "      <td>NaN</td>\n",
       "    </tr>\n",
       "    <tr>\n",
       "      <th>2</th>\n",
       "      <td>Tina</td>\n",
       "      <td>Ali</td>\n",
       "      <td>36.0</td>\n",
       "      <td>F</td>\n",
       "      <td>3.25</td>\n",
       "      <td>4.0</td>\n",
       "      <td>NaN</td>\n",
       "    </tr>\n",
       "    <tr>\n",
       "      <th>3</th>\n",
       "      <td>jack</td>\n",
       "      <td>Milers</td>\n",
       "      <td>24.0</td>\n",
       "      <td>M</td>\n",
       "      <td>2.00</td>\n",
       "      <td>4.0</td>\n",
       "      <td>NaN</td>\n",
       "    </tr>\n",
       "    <tr>\n",
       "      <th>4</th>\n",
       "      <td>Amy</td>\n",
       "      <td>coov</td>\n",
       "      <td>73.0</td>\n",
       "      <td>F</td>\n",
       "      <td>3.00</td>\n",
       "      <td>4.0</td>\n",
       "      <td>NaN</td>\n",
       "    </tr>\n",
       "    <tr>\n",
       "      <th>5</th>\n",
       "      <td>Madhu</td>\n",
       "      <td>patil</td>\n",
       "      <td>25.0</td>\n",
       "      <td>F</td>\n",
       "      <td>4.00</td>\n",
       "      <td>4.0</td>\n",
       "      <td>NaN</td>\n",
       "    </tr>\n",
       "  </tbody>\n",
       "</table>\n",
       "</div>"
      ],
      "text/plain": [
       "  First_name Last_name   Age Sex  Unit1  Unit2  Final_score\n",
       "0      jason    Miller  42.0   M   4.00    3.0          NaN\n",
       "2       Tina       Ali  36.0   F   3.25    4.0          NaN\n",
       "3       jack    Milers  24.0   M   2.00    4.0          NaN\n",
       "4        Amy      coov  73.0   F   3.00    4.0          NaN\n",
       "5      Madhu     patil  25.0   F   4.00    4.0          NaN"
      ]
     },
     "execution_count": 53,
     "metadata": {},
     "output_type": "execute_result"
    }
   ],
   "source": [
    "# select some rows  but ignore the missing data\n",
    "df[df['Age'].notnull()& df['Sex'].notnull()]"
   ]
  },
  {
   "cell_type": "code",
   "execution_count": 54,
   "id": "78ea4c4b",
   "metadata": {},
   "outputs": [
    {
     "data": {
      "text/html": [
       "<div>\n",
       "<style scoped>\n",
       "    .dataframe tbody tr th:only-of-type {\n",
       "        vertical-align: middle;\n",
       "    }\n",
       "\n",
       "    .dataframe tbody tr th {\n",
       "        vertical-align: top;\n",
       "    }\n",
       "\n",
       "    .dataframe thead th {\n",
       "        text-align: right;\n",
       "    }\n",
       "</style>\n",
       "<table border=\"1\" class=\"dataframe\">\n",
       "  <thead>\n",
       "    <tr style=\"text-align: right;\">\n",
       "      <th></th>\n",
       "      <th>First_name</th>\n",
       "      <th>Last_name</th>\n",
       "      <th>Age</th>\n",
       "      <th>Sex</th>\n",
       "      <th>Unit1</th>\n",
       "      <th>Unit2</th>\n",
       "      <th>Final_score</th>\n",
       "    </tr>\n",
       "  </thead>\n",
       "  <tbody>\n",
       "    <tr>\n",
       "      <th>0</th>\n",
       "      <td>jason</td>\n",
       "      <td>Miller</td>\n",
       "      <td>42.0</td>\n",
       "      <td>M</td>\n",
       "      <td>4.00</td>\n",
       "      <td>3.0</td>\n",
       "      <td>NaN</td>\n",
       "    </tr>\n",
       "    <tr>\n",
       "      <th>1</th>\n",
       "      <td>Tina</td>\n",
       "      <td>Ali</td>\n",
       "      <td>36.0</td>\n",
       "      <td>F</td>\n",
       "      <td>3.25</td>\n",
       "      <td>4.0</td>\n",
       "      <td>NaN</td>\n",
       "    </tr>\n",
       "    <tr>\n",
       "      <th>2</th>\n",
       "      <td>Tina</td>\n",
       "      <td>Ali</td>\n",
       "      <td>36.0</td>\n",
       "      <td>F</td>\n",
       "      <td>3.25</td>\n",
       "      <td>4.0</td>\n",
       "      <td>NaN</td>\n",
       "    </tr>\n",
       "    <tr>\n",
       "      <th>3</th>\n",
       "      <td>jack</td>\n",
       "      <td>Milers</td>\n",
       "      <td>24.0</td>\n",
       "      <td>M</td>\n",
       "      <td>2.00</td>\n",
       "      <td>4.0</td>\n",
       "      <td>NaN</td>\n",
       "    </tr>\n",
       "    <tr>\n",
       "      <th>4</th>\n",
       "      <td>Amy</td>\n",
       "      <td>coov</td>\n",
       "      <td>73.0</td>\n",
       "      <td>F</td>\n",
       "      <td>3.00</td>\n",
       "      <td>4.0</td>\n",
       "      <td>NaN</td>\n",
       "    </tr>\n",
       "    <tr>\n",
       "      <th>5</th>\n",
       "      <td>Madhu</td>\n",
       "      <td>patil</td>\n",
       "      <td>25.0</td>\n",
       "      <td>F</td>\n",
       "      <td>4.00</td>\n",
       "      <td>4.0</td>\n",
       "      <td>NaN</td>\n",
       "    </tr>\n",
       "  </tbody>\n",
       "</table>\n",
       "</div>"
      ],
      "text/plain": [
       "  First_name Last_name   Age Sex  Unit1  Unit2  Final_score\n",
       "0      jason    Miller  42.0   M   4.00    3.0          NaN\n",
       "1       Tina       Ali  36.0   F   3.25    4.0          NaN\n",
       "2       Tina       Ali  36.0   F   3.25    4.0          NaN\n",
       "3       jack    Milers  24.0   M   2.00    4.0          NaN\n",
       "4        Amy      coov  73.0   F   3.00    4.0          NaN\n",
       "5      Madhu     patil  25.0   F   4.00    4.0          NaN"
      ]
     },
     "execution_count": 54,
     "metadata": {},
     "output_type": "execute_result"
    }
   ],
   "source": [
    "# backfill\n",
    "df.fillna(method='bfill')\n",
    "\n",
    "# it will take back columns data."
   ]
  },
  {
   "cell_type": "code",
   "execution_count": 56,
   "id": "14441b1b",
   "metadata": {},
   "outputs": [],
   "source": [
    "#forward fill \n",
    "df.fillna(method='ffill',inplace=True)"
   ]
  },
  {
   "cell_type": "code",
   "execution_count": 57,
   "id": "b4d4a2f4",
   "metadata": {},
   "outputs": [
    {
     "data": {
      "text/html": [
       "<div>\n",
       "<style scoped>\n",
       "    .dataframe tbody tr th:only-of-type {\n",
       "        vertical-align: middle;\n",
       "    }\n",
       "\n",
       "    .dataframe tbody tr th {\n",
       "        vertical-align: top;\n",
       "    }\n",
       "\n",
       "    .dataframe thead th {\n",
       "        text-align: right;\n",
       "    }\n",
       "</style>\n",
       "<table border=\"1\" class=\"dataframe\">\n",
       "  <thead>\n",
       "    <tr style=\"text-align: right;\">\n",
       "      <th></th>\n",
       "      <th>First_name</th>\n",
       "      <th>Last_name</th>\n",
       "      <th>Age</th>\n",
       "      <th>Sex</th>\n",
       "      <th>Unit1</th>\n",
       "      <th>Unit2</th>\n",
       "      <th>Final_score</th>\n",
       "    </tr>\n",
       "  </thead>\n",
       "  <tbody>\n",
       "    <tr>\n",
       "      <th>0</th>\n",
       "      <td>jason</td>\n",
       "      <td>Miller</td>\n",
       "      <td>42.0</td>\n",
       "      <td>M</td>\n",
       "      <td>4.00</td>\n",
       "      <td>3.0</td>\n",
       "      <td>7.00</td>\n",
       "    </tr>\n",
       "    <tr>\n",
       "      <th>1</th>\n",
       "      <td>jason</td>\n",
       "      <td>Miller</td>\n",
       "      <td>42.0</td>\n",
       "      <td>M</td>\n",
       "      <td>3.25</td>\n",
       "      <td>3.0</td>\n",
       "      <td>6.25</td>\n",
       "    </tr>\n",
       "    <tr>\n",
       "      <th>2</th>\n",
       "      <td>Tina</td>\n",
       "      <td>Ali</td>\n",
       "      <td>36.0</td>\n",
       "      <td>F</td>\n",
       "      <td>3.25</td>\n",
       "      <td>4.0</td>\n",
       "      <td>7.25</td>\n",
       "    </tr>\n",
       "    <tr>\n",
       "      <th>3</th>\n",
       "      <td>jack</td>\n",
       "      <td>Milers</td>\n",
       "      <td>24.0</td>\n",
       "      <td>M</td>\n",
       "      <td>2.00</td>\n",
       "      <td>4.0</td>\n",
       "      <td>6.00</td>\n",
       "    </tr>\n",
       "    <tr>\n",
       "      <th>4</th>\n",
       "      <td>Amy</td>\n",
       "      <td>coov</td>\n",
       "      <td>73.0</td>\n",
       "      <td>F</td>\n",
       "      <td>3.00</td>\n",
       "      <td>4.0</td>\n",
       "      <td>7.00</td>\n",
       "    </tr>\n",
       "    <tr>\n",
       "      <th>5</th>\n",
       "      <td>Madhu</td>\n",
       "      <td>patil</td>\n",
       "      <td>25.0</td>\n",
       "      <td>F</td>\n",
       "      <td>4.00</td>\n",
       "      <td>4.0</td>\n",
       "      <td>8.00</td>\n",
       "    </tr>\n",
       "  </tbody>\n",
       "</table>\n",
       "</div>"
      ],
      "text/plain": [
       "  First_name Last_name   Age Sex  Unit1  Unit2  Final_score\n",
       "0      jason    Miller  42.0   M   4.00    3.0         7.00\n",
       "1      jason    Miller  42.0   M   3.25    3.0         6.25\n",
       "2       Tina       Ali  36.0   F   3.25    4.0         7.25\n",
       "3       jack    Milers  24.0   M   2.00    4.0         6.00\n",
       "4        Amy      coov  73.0   F   3.00    4.0         7.00\n",
       "5      Madhu     patil  25.0   F   4.00    4.0         8.00"
      ]
     },
     "execution_count": 57,
     "metadata": {},
     "output_type": "execute_result"
    }
   ],
   "source": [
    "df[\"Final_score\"].fillna(df[\"Unit1\"]+df[\"Unit2\"],inplace=True)\n",
    "df"
   ]
  },
  {
   "cell_type": "code",
   "execution_count": 58,
   "id": "01afdcdf",
   "metadata": {},
   "outputs": [
    {
     "data": {
      "text/html": [
       "<div>\n",
       "<style scoped>\n",
       "    .dataframe tbody tr th:only-of-type {\n",
       "        vertical-align: middle;\n",
       "    }\n",
       "\n",
       "    .dataframe tbody tr th {\n",
       "        vertical-align: top;\n",
       "    }\n",
       "\n",
       "    .dataframe thead th {\n",
       "        text-align: right;\n",
       "    }\n",
       "</style>\n",
       "<table border=\"1\" class=\"dataframe\">\n",
       "  <thead>\n",
       "    <tr style=\"text-align: right;\">\n",
       "      <th></th>\n",
       "      <th>First_name</th>\n",
       "      <th>Last_name</th>\n",
       "      <th>Age</th>\n",
       "      <th>Sex</th>\n",
       "      <th>Unit1</th>\n",
       "      <th>Unit2</th>\n",
       "      <th>Final_score</th>\n",
       "      <th>Location</th>\n",
       "    </tr>\n",
       "  </thead>\n",
       "  <tbody>\n",
       "    <tr>\n",
       "      <th>0</th>\n",
       "      <td>jason</td>\n",
       "      <td>Miller</td>\n",
       "      <td>42.0</td>\n",
       "      <td>M</td>\n",
       "      <td>4.00</td>\n",
       "      <td>3.0</td>\n",
       "      <td>7.00</td>\n",
       "      <td>Bengaluru</td>\n",
       "    </tr>\n",
       "    <tr>\n",
       "      <th>1</th>\n",
       "      <td>jason</td>\n",
       "      <td>Miller</td>\n",
       "      <td>42.0</td>\n",
       "      <td>M</td>\n",
       "      <td>3.25</td>\n",
       "      <td>3.0</td>\n",
       "      <td>6.25</td>\n",
       "      <td>Bengaluru</td>\n",
       "    </tr>\n",
       "    <tr>\n",
       "      <th>2</th>\n",
       "      <td>Tina</td>\n",
       "      <td>Ali</td>\n",
       "      <td>36.0</td>\n",
       "      <td>F</td>\n",
       "      <td>3.25</td>\n",
       "      <td>4.0</td>\n",
       "      <td>7.25</td>\n",
       "      <td>Bengaluru</td>\n",
       "    </tr>\n",
       "    <tr>\n",
       "      <th>3</th>\n",
       "      <td>jack</td>\n",
       "      <td>Milers</td>\n",
       "      <td>24.0</td>\n",
       "      <td>M</td>\n",
       "      <td>2.00</td>\n",
       "      <td>4.0</td>\n",
       "      <td>6.00</td>\n",
       "      <td>Bengaluru</td>\n",
       "    </tr>\n",
       "    <tr>\n",
       "      <th>4</th>\n",
       "      <td>Amy</td>\n",
       "      <td>coov</td>\n",
       "      <td>73.0</td>\n",
       "      <td>F</td>\n",
       "      <td>3.00</td>\n",
       "      <td>4.0</td>\n",
       "      <td>7.00</td>\n",
       "      <td>Bengaluru</td>\n",
       "    </tr>\n",
       "    <tr>\n",
       "      <th>5</th>\n",
       "      <td>Madhu</td>\n",
       "      <td>patil</td>\n",
       "      <td>25.0</td>\n",
       "      <td>F</td>\n",
       "      <td>4.00</td>\n",
       "      <td>4.0</td>\n",
       "      <td>8.00</td>\n",
       "      <td>Bengaluru</td>\n",
       "    </tr>\n",
       "  </tbody>\n",
       "</table>\n",
       "</div>"
      ],
      "text/plain": [
       "  First_name Last_name   Age Sex  Unit1  Unit2  Final_score   Location\n",
       "0      jason    Miller  42.0   M   4.00    3.0         7.00  Bengaluru\n",
       "1      jason    Miller  42.0   M   3.25    3.0         6.25  Bengaluru\n",
       "2       Tina       Ali  36.0   F   3.25    4.0         7.25  Bengaluru\n",
       "3       jack    Milers  24.0   M   2.00    4.0         6.00  Bengaluru\n",
       "4        Amy      coov  73.0   F   3.00    4.0         7.00  Bengaluru\n",
       "5      Madhu     patil  25.0   F   4.00    4.0         8.00  Bengaluru"
      ]
     },
     "execution_count": 58,
     "metadata": {},
     "output_type": "execute_result"
    }
   ],
   "source": [
    "df[\"Location\"]='Bengaluru'\n",
    "df"
   ]
  },
  {
   "cell_type": "markdown",
   "id": "f86f9e69",
   "metadata": {},
   "source": [
    "# Hierarchical indexing"
   ]
  },
  {
   "cell_type": "code",
   "execution_count": 59,
   "id": "3b335d8d",
   "metadata": {},
   "outputs": [
    {
     "data": {
      "text/html": [
       "<div>\n",
       "<style scoped>\n",
       "    .dataframe tbody tr th:only-of-type {\n",
       "        vertical-align: middle;\n",
       "    }\n",
       "\n",
       "    .dataframe tbody tr th {\n",
       "        vertical-align: top;\n",
       "    }\n",
       "\n",
       "    .dataframe thead th {\n",
       "        text-align: right;\n",
       "    }\n",
       "</style>\n",
       "<table border=\"1\" class=\"dataframe\">\n",
       "  <thead>\n",
       "    <tr style=\"text-align: right;\">\n",
       "      <th></th>\n",
       "      <th>Company</th>\n",
       "      <th>Project</th>\n",
       "      <th>Incharge</th>\n",
       "      <th>Sales(in millions)</th>\n",
       "      <th>Profit(in millions)</th>\n",
       "    </tr>\n",
       "  </thead>\n",
       "  <tbody>\n",
       "    <tr>\n",
       "      <th>0</th>\n",
       "      <td>Google</td>\n",
       "      <td>1st</td>\n",
       "      <td>Sunder</td>\n",
       "      <td>54</td>\n",
       "      <td>14</td>\n",
       "    </tr>\n",
       "    <tr>\n",
       "      <th>1</th>\n",
       "      <td>Google</td>\n",
       "      <td>1st</td>\n",
       "      <td>Ruth</td>\n",
       "      <td>24</td>\n",
       "      <td>8</td>\n",
       "    </tr>\n",
       "    <tr>\n",
       "      <th>2</th>\n",
       "      <td>Google</td>\n",
       "      <td>2nd</td>\n",
       "      <td>Benjamin</td>\n",
       "      <td>31</td>\n",
       "      <td>9</td>\n",
       "    </tr>\n",
       "    <tr>\n",
       "      <th>3</th>\n",
       "      <td>Google</td>\n",
       "      <td>2nd</td>\n",
       "      <td>Sergey</td>\n",
       "      <td>12</td>\n",
       "      <td>4</td>\n",
       "    </tr>\n",
       "    <tr>\n",
       "      <th>4</th>\n",
       "      <td>Facebook</td>\n",
       "      <td>1st</td>\n",
       "      <td>Mark</td>\n",
       "      <td>23</td>\n",
       "      <td>10</td>\n",
       "    </tr>\n",
       "    <tr>\n",
       "      <th>5</th>\n",
       "      <td>Facebook</td>\n",
       "      <td>1st</td>\n",
       "      <td>Shery</td>\n",
       "      <td>24</td>\n",
       "      <td>11</td>\n",
       "    </tr>\n",
       "    <tr>\n",
       "      <th>6</th>\n",
       "      <td>Facebook</td>\n",
       "      <td>2nd</td>\n",
       "      <td>Eduardo</td>\n",
       "      <td>34</td>\n",
       "      <td>14</td>\n",
       "    </tr>\n",
       "    <tr>\n",
       "      <th>7</th>\n",
       "      <td>Facebook</td>\n",
       "      <td>2nd</td>\n",
       "      <td>David</td>\n",
       "      <td>31</td>\n",
       "      <td>13</td>\n",
       "    </tr>\n",
       "    <tr>\n",
       "      <th>8</th>\n",
       "      <td>Amazon</td>\n",
       "      <td>1st</td>\n",
       "      <td>Jeffrey</td>\n",
       "      <td>32</td>\n",
       "      <td>12</td>\n",
       "    </tr>\n",
       "    <tr>\n",
       "      <th>9</th>\n",
       "      <td>Amazon</td>\n",
       "      <td>1st</td>\n",
       "      <td>Andy</td>\n",
       "      <td>23</td>\n",
       "      <td>7</td>\n",
       "    </tr>\n",
       "    <tr>\n",
       "      <th>10</th>\n",
       "      <td>Amazon</td>\n",
       "      <td>2nd</td>\n",
       "      <td>Keith</td>\n",
       "      <td>52</td>\n",
       "      <td>22</td>\n",
       "    </tr>\n",
       "    <tr>\n",
       "      <th>11</th>\n",
       "      <td>Amazon</td>\n",
       "      <td>2nd</td>\n",
       "      <td>Edith</td>\n",
       "      <td>13</td>\n",
       "      <td>4</td>\n",
       "    </tr>\n",
       "  </tbody>\n",
       "</table>\n",
       "</div>"
      ],
      "text/plain": [
       "     Company Project  Incharge  Sales(in millions)  Profit(in millions)\n",
       "0     Google     1st    Sunder                  54                   14\n",
       "1     Google     1st      Ruth                  24                    8\n",
       "2     Google     2nd  Benjamin                  31                    9\n",
       "3     Google     2nd    Sergey                  12                    4\n",
       "4   Facebook     1st      Mark                  23                   10\n",
       "5   Facebook     1st     Shery                  24                   11\n",
       "6   Facebook     2nd   Eduardo                  34                   14\n",
       "7   Facebook     2nd     David                  31                   13\n",
       "8     Amazon     1st   Jeffrey                  32                   12\n",
       "9     Amazon     1st      Andy                  23                    7\n",
       "10    Amazon     2nd     Keith                  52                   22\n",
       "11    Amazon     2nd     Edith                  13                    4"
      ]
     },
     "execution_count": 59,
     "metadata": {},
     "output_type": "execute_result"
    }
   ],
   "source": [
    "# create dataFrame\n",
    "raw_data={\n",
    "    'Company':['Google','Google','Google','Google','Facebook','Facebook','Facebook','Facebook','Amazon','Amazon','Amazon','Amazon',],\n",
    "    'Project':['1st','1st','2nd','2nd','1st','1st','2nd','2nd','1st','1st','2nd','2nd',],\n",
    "    'Incharge':['Sunder','Ruth','Benjamin','Sergey','Mark','Shery','Eduardo','David','Jeffrey','Andy','Keith','Edith'],\n",
    "    'Sales(in millions)':[54,24,31,12,23,24,34,31,32,23,52,13],\n",
    "    'Profit(in millions)':[14,8,9,4,10,11,14,13,12,7,22,4]}\n",
    "df1=pd.DataFrame(raw_data,columns=['Company','Project','Incharge','Sales(in millions)','Profit(in millions)'])\n",
    "df1"
   ]
  },
  {
   "cell_type": "code",
   "execution_count": 60,
   "id": "a7cd8e0b",
   "metadata": {},
   "outputs": [
    {
     "data": {
      "text/html": [
       "<div>\n",
       "<style scoped>\n",
       "    .dataframe tbody tr th:only-of-type {\n",
       "        vertical-align: middle;\n",
       "    }\n",
       "\n",
       "    .dataframe tbody tr th {\n",
       "        vertical-align: top;\n",
       "    }\n",
       "\n",
       "    .dataframe thead th {\n",
       "        text-align: right;\n",
       "    }\n",
       "</style>\n",
       "<table border=\"1\" class=\"dataframe\">\n",
       "  <thead>\n",
       "    <tr style=\"text-align: right;\">\n",
       "      <th></th>\n",
       "      <th></th>\n",
       "      <th>Company</th>\n",
       "      <th>Project</th>\n",
       "      <th>Incharge</th>\n",
       "      <th>Sales(in millions)</th>\n",
       "      <th>Profit(in millions)</th>\n",
       "    </tr>\n",
       "    <tr>\n",
       "      <th>Company</th>\n",
       "      <th>Project</th>\n",
       "      <th></th>\n",
       "      <th></th>\n",
       "      <th></th>\n",
       "      <th></th>\n",
       "      <th></th>\n",
       "    </tr>\n",
       "  </thead>\n",
       "  <tbody>\n",
       "    <tr>\n",
       "      <th rowspan=\"4\" valign=\"top\">Google</th>\n",
       "      <th>1st</th>\n",
       "      <td>Google</td>\n",
       "      <td>1st</td>\n",
       "      <td>Sunder</td>\n",
       "      <td>54</td>\n",
       "      <td>14</td>\n",
       "    </tr>\n",
       "    <tr>\n",
       "      <th>1st</th>\n",
       "      <td>Google</td>\n",
       "      <td>1st</td>\n",
       "      <td>Ruth</td>\n",
       "      <td>24</td>\n",
       "      <td>8</td>\n",
       "    </tr>\n",
       "    <tr>\n",
       "      <th>2nd</th>\n",
       "      <td>Google</td>\n",
       "      <td>2nd</td>\n",
       "      <td>Benjamin</td>\n",
       "      <td>31</td>\n",
       "      <td>9</td>\n",
       "    </tr>\n",
       "    <tr>\n",
       "      <th>2nd</th>\n",
       "      <td>Google</td>\n",
       "      <td>2nd</td>\n",
       "      <td>Sergey</td>\n",
       "      <td>12</td>\n",
       "      <td>4</td>\n",
       "    </tr>\n",
       "    <tr>\n",
       "      <th rowspan=\"4\" valign=\"top\">Facebook</th>\n",
       "      <th>1st</th>\n",
       "      <td>Facebook</td>\n",
       "      <td>1st</td>\n",
       "      <td>Mark</td>\n",
       "      <td>23</td>\n",
       "      <td>10</td>\n",
       "    </tr>\n",
       "    <tr>\n",
       "      <th>1st</th>\n",
       "      <td>Facebook</td>\n",
       "      <td>1st</td>\n",
       "      <td>Shery</td>\n",
       "      <td>24</td>\n",
       "      <td>11</td>\n",
       "    </tr>\n",
       "    <tr>\n",
       "      <th>2nd</th>\n",
       "      <td>Facebook</td>\n",
       "      <td>2nd</td>\n",
       "      <td>Eduardo</td>\n",
       "      <td>34</td>\n",
       "      <td>14</td>\n",
       "    </tr>\n",
       "    <tr>\n",
       "      <th>2nd</th>\n",
       "      <td>Facebook</td>\n",
       "      <td>2nd</td>\n",
       "      <td>David</td>\n",
       "      <td>31</td>\n",
       "      <td>13</td>\n",
       "    </tr>\n",
       "    <tr>\n",
       "      <th rowspan=\"4\" valign=\"top\">Amazon</th>\n",
       "      <th>1st</th>\n",
       "      <td>Amazon</td>\n",
       "      <td>1st</td>\n",
       "      <td>Jeffrey</td>\n",
       "      <td>32</td>\n",
       "      <td>12</td>\n",
       "    </tr>\n",
       "    <tr>\n",
       "      <th>1st</th>\n",
       "      <td>Amazon</td>\n",
       "      <td>1st</td>\n",
       "      <td>Andy</td>\n",
       "      <td>23</td>\n",
       "      <td>7</td>\n",
       "    </tr>\n",
       "    <tr>\n",
       "      <th>2nd</th>\n",
       "      <td>Amazon</td>\n",
       "      <td>2nd</td>\n",
       "      <td>Keith</td>\n",
       "      <td>52</td>\n",
       "      <td>22</td>\n",
       "    </tr>\n",
       "    <tr>\n",
       "      <th>2nd</th>\n",
       "      <td>Amazon</td>\n",
       "      <td>2nd</td>\n",
       "      <td>Edith</td>\n",
       "      <td>13</td>\n",
       "      <td>4</td>\n",
       "    </tr>\n",
       "  </tbody>\n",
       "</table>\n",
       "</div>"
      ],
      "text/plain": [
       "                   Company Project  Incharge  Sales(in millions)  \\\n",
       "Company  Project                                                   \n",
       "Google   1st        Google     1st    Sunder                  54   \n",
       "         1st        Google     1st      Ruth                  24   \n",
       "         2nd        Google     2nd  Benjamin                  31   \n",
       "         2nd        Google     2nd    Sergey                  12   \n",
       "Facebook 1st      Facebook     1st      Mark                  23   \n",
       "         1st      Facebook     1st     Shery                  24   \n",
       "         2nd      Facebook     2nd   Eduardo                  34   \n",
       "         2nd      Facebook     2nd     David                  31   \n",
       "Amazon   1st        Amazon     1st   Jeffrey                  32   \n",
       "         1st        Amazon     1st      Andy                  23   \n",
       "         2nd        Amazon     2nd     Keith                  52   \n",
       "         2nd        Amazon     2nd     Edith                  13   \n",
       "\n",
       "                  Profit(in millions)  \n",
       "Company  Project                       \n",
       "Google   1st                       14  \n",
       "         1st                        8  \n",
       "         2nd                        9  \n",
       "         2nd                        4  \n",
       "Facebook 1st                       10  \n",
       "         1st                       11  \n",
       "         2nd                       14  \n",
       "         2nd                       13  \n",
       "Amazon   1st                       12  \n",
       "         1st                        7  \n",
       "         2nd                       22  \n",
       "         2nd                        4  "
      ]
     },
     "execution_count": 60,
     "metadata": {},
     "output_type": "execute_result"
    }
   ],
   "source": [
    "# set the hierarchical index but leaves the columns inplace\n",
    "df1.set_index(['Company','Project'],drop=False)"
   ]
  },
  {
   "cell_type": "code",
   "execution_count": 61,
   "id": "acde2e61",
   "metadata": {},
   "outputs": [
    {
     "data": {
      "text/html": [
       "<div>\n",
       "<style scoped>\n",
       "    .dataframe tbody tr th:only-of-type {\n",
       "        vertical-align: middle;\n",
       "    }\n",
       "\n",
       "    .dataframe tbody tr th {\n",
       "        vertical-align: top;\n",
       "    }\n",
       "\n",
       "    .dataframe thead th {\n",
       "        text-align: right;\n",
       "    }\n",
       "</style>\n",
       "<table border=\"1\" class=\"dataframe\">\n",
       "  <thead>\n",
       "    <tr style=\"text-align: right;\">\n",
       "      <th></th>\n",
       "      <th></th>\n",
       "      <th>Incharge</th>\n",
       "      <th>Sales(in millions)</th>\n",
       "      <th>Profit(in millions)</th>\n",
       "    </tr>\n",
       "    <tr>\n",
       "      <th>Company</th>\n",
       "      <th>Project</th>\n",
       "      <th></th>\n",
       "      <th></th>\n",
       "      <th></th>\n",
       "    </tr>\n",
       "  </thead>\n",
       "  <tbody>\n",
       "    <tr>\n",
       "      <th rowspan=\"4\" valign=\"top\">Google</th>\n",
       "      <th>1st</th>\n",
       "      <td>Sunder</td>\n",
       "      <td>54</td>\n",
       "      <td>14</td>\n",
       "    </tr>\n",
       "    <tr>\n",
       "      <th>1st</th>\n",
       "      <td>Ruth</td>\n",
       "      <td>24</td>\n",
       "      <td>8</td>\n",
       "    </tr>\n",
       "    <tr>\n",
       "      <th>2nd</th>\n",
       "      <td>Benjamin</td>\n",
       "      <td>31</td>\n",
       "      <td>9</td>\n",
       "    </tr>\n",
       "    <tr>\n",
       "      <th>2nd</th>\n",
       "      <td>Sergey</td>\n",
       "      <td>12</td>\n",
       "      <td>4</td>\n",
       "    </tr>\n",
       "    <tr>\n",
       "      <th rowspan=\"4\" valign=\"top\">Facebook</th>\n",
       "      <th>1st</th>\n",
       "      <td>Mark</td>\n",
       "      <td>23</td>\n",
       "      <td>10</td>\n",
       "    </tr>\n",
       "    <tr>\n",
       "      <th>1st</th>\n",
       "      <td>Shery</td>\n",
       "      <td>24</td>\n",
       "      <td>11</td>\n",
       "    </tr>\n",
       "    <tr>\n",
       "      <th>2nd</th>\n",
       "      <td>Eduardo</td>\n",
       "      <td>34</td>\n",
       "      <td>14</td>\n",
       "    </tr>\n",
       "    <tr>\n",
       "      <th>2nd</th>\n",
       "      <td>David</td>\n",
       "      <td>31</td>\n",
       "      <td>13</td>\n",
       "    </tr>\n",
       "    <tr>\n",
       "      <th rowspan=\"4\" valign=\"top\">Amazon</th>\n",
       "      <th>1st</th>\n",
       "      <td>Jeffrey</td>\n",
       "      <td>32</td>\n",
       "      <td>12</td>\n",
       "    </tr>\n",
       "    <tr>\n",
       "      <th>1st</th>\n",
       "      <td>Andy</td>\n",
       "      <td>23</td>\n",
       "      <td>7</td>\n",
       "    </tr>\n",
       "    <tr>\n",
       "      <th>2nd</th>\n",
       "      <td>Keith</td>\n",
       "      <td>52</td>\n",
       "      <td>22</td>\n",
       "    </tr>\n",
       "    <tr>\n",
       "      <th>2nd</th>\n",
       "      <td>Edith</td>\n",
       "      <td>13</td>\n",
       "      <td>4</td>\n",
       "    </tr>\n",
       "  </tbody>\n",
       "</table>\n",
       "</div>"
      ],
      "text/plain": [
       "                  Incharge  Sales(in millions)  Profit(in millions)\n",
       "Company  Project                                                   \n",
       "Google   1st        Sunder                  54                   14\n",
       "         1st          Ruth                  24                    8\n",
       "         2nd      Benjamin                  31                    9\n",
       "         2nd        Sergey                  12                    4\n",
       "Facebook 1st          Mark                  23                   10\n",
       "         1st         Shery                  24                   11\n",
       "         2nd       Eduardo                  34                   14\n",
       "         2nd         David                  31                   13\n",
       "Amazon   1st       Jeffrey                  32                   12\n",
       "         1st          Andy                  23                    7\n",
       "         2nd         Keith                  52                   22\n",
       "         2nd         Edith                  13                    4"
      ]
     },
     "execution_count": 61,
     "metadata": {},
     "output_type": "execute_result"
    }
   ],
   "source": [
    "df1.set_index(['Company','Project'],inplace=True)\n",
    "df1"
   ]
  },
  {
   "cell_type": "markdown",
   "id": "879dc5c2",
   "metadata": {},
   "source": [
    "# swap the level in the index"
   ]
  },
  {
   "cell_type": "code",
   "execution_count": 62,
   "id": "c52f2e40",
   "metadata": {},
   "outputs": [
    {
     "data": {
      "text/html": [
       "<div>\n",
       "<style scoped>\n",
       "    .dataframe tbody tr th:only-of-type {\n",
       "        vertical-align: middle;\n",
       "    }\n",
       "\n",
       "    .dataframe tbody tr th {\n",
       "        vertical-align: top;\n",
       "    }\n",
       "\n",
       "    .dataframe thead th {\n",
       "        text-align: right;\n",
       "    }\n",
       "</style>\n",
       "<table border=\"1\" class=\"dataframe\">\n",
       "  <thead>\n",
       "    <tr style=\"text-align: right;\">\n",
       "      <th></th>\n",
       "      <th></th>\n",
       "      <th>Incharge</th>\n",
       "      <th>Sales(in millions)</th>\n",
       "      <th>Profit(in millions)</th>\n",
       "    </tr>\n",
       "    <tr>\n",
       "      <th>Project</th>\n",
       "      <th>Company</th>\n",
       "      <th></th>\n",
       "      <th></th>\n",
       "      <th></th>\n",
       "    </tr>\n",
       "  </thead>\n",
       "  <tbody>\n",
       "    <tr>\n",
       "      <th rowspan=\"2\" valign=\"top\">1st</th>\n",
       "      <th>Google</th>\n",
       "      <td>Sunder</td>\n",
       "      <td>54</td>\n",
       "      <td>14</td>\n",
       "    </tr>\n",
       "    <tr>\n",
       "      <th>Google</th>\n",
       "      <td>Ruth</td>\n",
       "      <td>24</td>\n",
       "      <td>8</td>\n",
       "    </tr>\n",
       "    <tr>\n",
       "      <th rowspan=\"2\" valign=\"top\">2nd</th>\n",
       "      <th>Google</th>\n",
       "      <td>Benjamin</td>\n",
       "      <td>31</td>\n",
       "      <td>9</td>\n",
       "    </tr>\n",
       "    <tr>\n",
       "      <th>Google</th>\n",
       "      <td>Sergey</td>\n",
       "      <td>12</td>\n",
       "      <td>4</td>\n",
       "    </tr>\n",
       "    <tr>\n",
       "      <th rowspan=\"2\" valign=\"top\">1st</th>\n",
       "      <th>Facebook</th>\n",
       "      <td>Mark</td>\n",
       "      <td>23</td>\n",
       "      <td>10</td>\n",
       "    </tr>\n",
       "    <tr>\n",
       "      <th>Facebook</th>\n",
       "      <td>Shery</td>\n",
       "      <td>24</td>\n",
       "      <td>11</td>\n",
       "    </tr>\n",
       "    <tr>\n",
       "      <th rowspan=\"2\" valign=\"top\">2nd</th>\n",
       "      <th>Facebook</th>\n",
       "      <td>Eduardo</td>\n",
       "      <td>34</td>\n",
       "      <td>14</td>\n",
       "    </tr>\n",
       "    <tr>\n",
       "      <th>Facebook</th>\n",
       "      <td>David</td>\n",
       "      <td>31</td>\n",
       "      <td>13</td>\n",
       "    </tr>\n",
       "    <tr>\n",
       "      <th rowspan=\"2\" valign=\"top\">1st</th>\n",
       "      <th>Amazon</th>\n",
       "      <td>Jeffrey</td>\n",
       "      <td>32</td>\n",
       "      <td>12</td>\n",
       "    </tr>\n",
       "    <tr>\n",
       "      <th>Amazon</th>\n",
       "      <td>Andy</td>\n",
       "      <td>23</td>\n",
       "      <td>7</td>\n",
       "    </tr>\n",
       "    <tr>\n",
       "      <th rowspan=\"2\" valign=\"top\">2nd</th>\n",
       "      <th>Amazon</th>\n",
       "      <td>Keith</td>\n",
       "      <td>52</td>\n",
       "      <td>22</td>\n",
       "    </tr>\n",
       "    <tr>\n",
       "      <th>Amazon</th>\n",
       "      <td>Edith</td>\n",
       "      <td>13</td>\n",
       "      <td>4</td>\n",
       "    </tr>\n",
       "  </tbody>\n",
       "</table>\n",
       "</div>"
      ],
      "text/plain": [
       "                  Incharge  Sales(in millions)  Profit(in millions)\n",
       "Project Company                                                    \n",
       "1st     Google      Sunder                  54                   14\n",
       "        Google        Ruth                  24                    8\n",
       "2nd     Google    Benjamin                  31                    9\n",
       "        Google      Sergey                  12                    4\n",
       "1st     Facebook      Mark                  23                   10\n",
       "        Facebook     Shery                  24                   11\n",
       "2nd     Facebook   Eduardo                  34                   14\n",
       "        Facebook     David                  31                   13\n",
       "1st     Amazon     Jeffrey                  32                   12\n",
       "        Amazon        Andy                  23                    7\n",
       "2nd     Amazon       Keith                  52                   22\n",
       "        Amazon       Edith                  13                    4"
      ]
     },
     "execution_count": 62,
     "metadata": {},
     "output_type": "execute_result"
    }
   ],
   "source": [
    "df1.swaplevel('Company','Project')"
   ]
  },
  {
   "cell_type": "code",
   "execution_count": 63,
   "id": "666bde57",
   "metadata": {},
   "outputs": [
    {
     "data": {
      "text/html": [
       "<div>\n",
       "<style scoped>\n",
       "    .dataframe tbody tr th:only-of-type {\n",
       "        vertical-align: middle;\n",
       "    }\n",
       "\n",
       "    .dataframe tbody tr th {\n",
       "        vertical-align: top;\n",
       "    }\n",
       "\n",
       "    .dataframe thead th {\n",
       "        text-align: right;\n",
       "    }\n",
       "</style>\n",
       "<table border=\"1\" class=\"dataframe\">\n",
       "  <thead>\n",
       "    <tr style=\"text-align: right;\">\n",
       "      <th></th>\n",
       "      <th>Incharge</th>\n",
       "      <th>Sales(in millions)</th>\n",
       "      <th>Profit(in millions)</th>\n",
       "    </tr>\n",
       "    <tr>\n",
       "      <th>Company</th>\n",
       "      <th></th>\n",
       "      <th></th>\n",
       "      <th></th>\n",
       "    </tr>\n",
       "  </thead>\n",
       "  <tbody>\n",
       "    <tr>\n",
       "      <th>Amazon</th>\n",
       "      <td>JeffreyAndyKeithEdith</td>\n",
       "      <td>120</td>\n",
       "      <td>45</td>\n",
       "    </tr>\n",
       "    <tr>\n",
       "      <th>Facebook</th>\n",
       "      <td>MarkSheryEduardoDavid</td>\n",
       "      <td>112</td>\n",
       "      <td>48</td>\n",
       "    </tr>\n",
       "    <tr>\n",
       "      <th>Google</th>\n",
       "      <td>SunderRuthBenjaminSergey</td>\n",
       "      <td>121</td>\n",
       "      <td>35</td>\n",
       "    </tr>\n",
       "  </tbody>\n",
       "</table>\n",
       "</div>"
      ],
      "text/plain": [
       "                          Incharge  Sales(in millions)  Profit(in millions)\n",
       "Company                                                                    \n",
       "Amazon       JeffreyAndyKeithEdith                 120                   45\n",
       "Facebook     MarkSheryEduardoDavid                 112                   48\n",
       "Google    SunderRuthBenjaminSergey                 121                   35"
      ]
     },
     "execution_count": 63,
     "metadata": {},
     "output_type": "execute_result"
    }
   ],
   "source": [
    "# summarized the result by company\n",
    "#df1.sum(level='Company') its nor working in new version\n",
    "df1.groupby('Company').sum()"
   ]
  },
  {
   "cell_type": "code",
   "execution_count": 64,
   "id": "5430a933",
   "metadata": {},
   "outputs": [
    {
     "data": {
      "text/html": [
       "<div>\n",
       "<style scoped>\n",
       "    .dataframe tbody tr th:only-of-type {\n",
       "        vertical-align: middle;\n",
       "    }\n",
       "\n",
       "    .dataframe tbody tr th {\n",
       "        vertical-align: top;\n",
       "    }\n",
       "\n",
       "    .dataframe thead th {\n",
       "        text-align: right;\n",
       "    }\n",
       "</style>\n",
       "<table border=\"1\" class=\"dataframe\">\n",
       "  <thead>\n",
       "    <tr style=\"text-align: right;\">\n",
       "      <th></th>\n",
       "      <th>Incharge</th>\n",
       "      <th>Profit(in millions)</th>\n",
       "      <th>Sales(in millions)</th>\n",
       "    </tr>\n",
       "    <tr>\n",
       "      <th>Company</th>\n",
       "      <th></th>\n",
       "      <th></th>\n",
       "      <th></th>\n",
       "    </tr>\n",
       "  </thead>\n",
       "  <tbody>\n",
       "    <tr>\n",
       "      <th>Amazon</th>\n",
       "      <td>JeffreyAndyKeithEdith</td>\n",
       "      <td>45</td>\n",
       "      <td>120</td>\n",
       "    </tr>\n",
       "    <tr>\n",
       "      <th>Facebook</th>\n",
       "      <td>MarkSheryEduardoDavid</td>\n",
       "      <td>48</td>\n",
       "      <td>112</td>\n",
       "    </tr>\n",
       "    <tr>\n",
       "      <th>Google</th>\n",
       "      <td>SunderRuthBenjaminSergey</td>\n",
       "      <td>35</td>\n",
       "      <td>121</td>\n",
       "    </tr>\n",
       "  </tbody>\n",
       "</table>\n",
       "</div>"
      ],
      "text/plain": [
       "                          Incharge  Profit(in millions)  Sales(in millions)\n",
       "Company                                                                    \n",
       "Amazon       JeffreyAndyKeithEdith                   45                 120\n",
       "Facebook     MarkSheryEduardoDavid                   48                 112\n",
       "Google    SunderRuthBenjaminSergey                   35                 121"
      ]
     },
     "execution_count": 64,
     "metadata": {},
     "output_type": "execute_result"
    }
   ],
   "source": [
    "df1.pivot_table(index='Company', aggfunc='sum')"
   ]
  },
  {
   "cell_type": "code",
   "execution_count": 65,
   "id": "2a80c8b2",
   "metadata": {},
   "outputs": [
    {
     "data": {
      "text/html": [
       "<div>\n",
       "<style scoped>\n",
       "    .dataframe tbody tr th:only-of-type {\n",
       "        vertical-align: middle;\n",
       "    }\n",
       "\n",
       "    .dataframe tbody tr th {\n",
       "        vertical-align: top;\n",
       "    }\n",
       "\n",
       "    .dataframe thead th {\n",
       "        text-align: right;\n",
       "    }\n",
       "</style>\n",
       "<table border=\"1\" class=\"dataframe\">\n",
       "  <thead>\n",
       "    <tr style=\"text-align: right;\">\n",
       "      <th></th>\n",
       "      <th>Name</th>\n",
       "      <th>Gender</th>\n",
       "      <th>Section</th>\n",
       "      <th>Class</th>\n",
       "      <th>Phone_number</th>\n",
       "      <th>Location</th>\n",
       "      <th>email_present</th>\n",
       "      <th>Door_number</th>\n",
       "      <th>Street_name</th>\n",
       "      <th>Pin_code</th>\n",
       "      <th>State</th>\n",
       "      <th>Dad_name</th>\n",
       "    </tr>\n",
       "  </thead>\n",
       "  <tbody>\n",
       "    <tr>\n",
       "      <th>0</th>\n",
       "      <td>Ramesh</td>\n",
       "      <td>NaN</td>\n",
       "      <td>a</td>\n",
       "      <td>5.0</td>\n",
       "      <td>NaN</td>\n",
       "      <td>Bengaluru</td>\n",
       "      <td>Y</td>\n",
       "      <td>NaN</td>\n",
       "      <td>abc</td>\n",
       "      <td>5.0</td>\n",
       "      <td>NaN</td>\n",
       "      <td>xyz</td>\n",
       "    </tr>\n",
       "    <tr>\n",
       "      <th>1</th>\n",
       "      <td>Raghav</td>\n",
       "      <td>M</td>\n",
       "      <td>d</td>\n",
       "      <td>12.0</td>\n",
       "      <td>9886409.0</td>\n",
       "      <td>Noida</td>\n",
       "      <td>N</td>\n",
       "      <td>555.0</td>\n",
       "      <td>def</td>\n",
       "      <td>12.0</td>\n",
       "      <td>UP</td>\n",
       "      <td>def</td>\n",
       "    </tr>\n",
       "    <tr>\n",
       "      <th>2</th>\n",
       "      <td>NaN</td>\n",
       "      <td>M</td>\n",
       "      <td>c</td>\n",
       "      <td>NaN</td>\n",
       "      <td>8561729.0</td>\n",
       "      <td>Hedrabad</td>\n",
       "      <td>NaN</td>\n",
       "      <td>345.0</td>\n",
       "      <td>ghi</td>\n",
       "      <td>NaN</td>\n",
       "      <td>Telangana</td>\n",
       "      <td>ghi</td>\n",
       "    </tr>\n",
       "    <tr>\n",
       "      <th>3</th>\n",
       "      <td>NaN</td>\n",
       "      <td>F</td>\n",
       "      <td>e</td>\n",
       "      <td>NaN</td>\n",
       "      <td>NaN</td>\n",
       "      <td>NaN</td>\n",
       "      <td>NaN</td>\n",
       "      <td>444.0</td>\n",
       "      <td>xyz</td>\n",
       "      <td>NaN</td>\n",
       "      <td>NaN</td>\n",
       "      <td>NaN</td>\n",
       "    </tr>\n",
       "  </tbody>\n",
       "</table>\n",
       "</div>"
      ],
      "text/plain": [
       "     Name Gender Section  Class  Phone_number   Location email_present  \\\n",
       "0  Ramesh    NaN       a    5.0           NaN  Bengaluru             Y   \n",
       "1  Raghav      M       d   12.0     9886409.0      Noida             N   \n",
       "2     NaN      M       c    NaN     8561729.0   Hedrabad           NaN   \n",
       "3     NaN      F       e    NaN           NaN        NaN           NaN   \n",
       "\n",
       "   Door_number Street_name  Pin_code      State Dad_name  \n",
       "0          NaN         abc       5.0        NaN      xyz  \n",
       "1        555.0         def      12.0         UP      def  \n",
       "2        345.0         ghi       NaN  Telangana      ghi  \n",
       "3        444.0         xyz       NaN        NaN      NaN  "
      ]
     },
     "execution_count": 65,
     "metadata": {},
     "output_type": "execute_result"
    }
   ],
   "source": [
    "#finding null values\n",
    "#create dataFrame\n",
    "df2=pd.DataFrame({\n",
    "    'Name':['Ramesh','Raghav',np.nan,np.nan],\n",
    "    'Gender':[np.nan,'M','M','F'],\n",
    "    'Section':['a','d','c','e'],\n",
    "    'Class':[5,12,np.nan,np.nan],\n",
    "    'Phone_number':[np.nan,9886409,8561729,np.nan],\n",
    "    'Location':['Bengaluru','Noida','Hedrabad',np.nan],\n",
    "    'email_present':['Y','N',np.nan,np.nan],\n",
    "    'Door_number':[np.nan,555,345,444],\n",
    "    'Street_name':['abc','def','ghi','xyz'],\n",
    "    'Pin_code':[5,12,np.nan,np.nan],\n",
    "    'State':[np.nan,'UP','Telangana',np.nan],\n",
    "    'Dad_name':['xyz','def','ghi',np.nan]})\n",
    "df2\n"
   ]
  },
  {
   "cell_type": "code",
   "execution_count": 66,
   "id": "30fbb9fd",
   "metadata": {},
   "outputs": [
    {
     "data": {
      "text/plain": [
       "Name             2\n",
       "Gender           1\n",
       "Section          0\n",
       "Class            2\n",
       "Phone_number     2\n",
       "Location         1\n",
       "email_present    2\n",
       "Door_number      1\n",
       "Street_name      0\n",
       "Pin_code         2\n",
       "State            2\n",
       "Dad_name         1\n",
       "dtype: int64"
      ]
     },
     "execution_count": 66,
     "metadata": {},
     "output_type": "execute_result"
    }
   ],
   "source": [
    "df2.isnull().sum()"
   ]
  },
  {
   "cell_type": "markdown",
   "id": "3005482c",
   "metadata": {},
   "source": [
    "# Data manipulation"
   ]
  },
  {
   "cell_type": "code",
   "execution_count": 67,
   "id": "66b69909",
   "metadata": {},
   "outputs": [
    {
     "data": {
      "text/html": [
       "<div>\n",
       "<style scoped>\n",
       "    .dataframe tbody tr th:only-of-type {\n",
       "        vertical-align: middle;\n",
       "    }\n",
       "\n",
       "    .dataframe tbody tr th {\n",
       "        vertical-align: top;\n",
       "    }\n",
       "\n",
       "    .dataframe thead th {\n",
       "        text-align: right;\n",
       "    }\n",
       "</style>\n",
       "<table border=\"1\" class=\"dataframe\">\n",
       "  <thead>\n",
       "    <tr style=\"text-align: right;\">\n",
       "      <th></th>\n",
       "      <th>PassengerId</th>\n",
       "      <th>Survived</th>\n",
       "      <th>Pclass</th>\n",
       "      <th>Name</th>\n",
       "      <th>Sex</th>\n",
       "      <th>Age</th>\n",
       "      <th>SibSp</th>\n",
       "      <th>Parch</th>\n",
       "      <th>Ticket</th>\n",
       "      <th>Fare</th>\n",
       "      <th>Cabin</th>\n",
       "      <th>Embarked</th>\n",
       "    </tr>\n",
       "  </thead>\n",
       "  <tbody>\n",
       "    <tr>\n",
       "      <th>0</th>\n",
       "      <td>1</td>\n",
       "      <td>0</td>\n",
       "      <td>3</td>\n",
       "      <td>Braund, Mr. Owen Harris</td>\n",
       "      <td>male</td>\n",
       "      <td>22.0</td>\n",
       "      <td>1</td>\n",
       "      <td>0</td>\n",
       "      <td>A/5 21171</td>\n",
       "      <td>7.2500</td>\n",
       "      <td>NaN</td>\n",
       "      <td>S</td>\n",
       "    </tr>\n",
       "    <tr>\n",
       "      <th>1</th>\n",
       "      <td>2</td>\n",
       "      <td>1</td>\n",
       "      <td>1</td>\n",
       "      <td>Cumings, Mrs. John Bradley (Florence Briggs Th...</td>\n",
       "      <td>female</td>\n",
       "      <td>38.0</td>\n",
       "      <td>1</td>\n",
       "      <td>0</td>\n",
       "      <td>PC 17599</td>\n",
       "      <td>71.2833</td>\n",
       "      <td>C85</td>\n",
       "      <td>C</td>\n",
       "    </tr>\n",
       "    <tr>\n",
       "      <th>2</th>\n",
       "      <td>3</td>\n",
       "      <td>1</td>\n",
       "      <td>3</td>\n",
       "      <td>Heikkinen, Miss. Laina</td>\n",
       "      <td>female</td>\n",
       "      <td>26.0</td>\n",
       "      <td>0</td>\n",
       "      <td>0</td>\n",
       "      <td>STON/O2. 3101282</td>\n",
       "      <td>7.9250</td>\n",
       "      <td>NaN</td>\n",
       "      <td>S</td>\n",
       "    </tr>\n",
       "    <tr>\n",
       "      <th>3</th>\n",
       "      <td>4</td>\n",
       "      <td>1</td>\n",
       "      <td>1</td>\n",
       "      <td>Futrelle, Mrs. Jacques Heath (Lily May Peel)</td>\n",
       "      <td>female</td>\n",
       "      <td>35.0</td>\n",
       "      <td>1</td>\n",
       "      <td>0</td>\n",
       "      <td>113803</td>\n",
       "      <td>53.1000</td>\n",
       "      <td>C123</td>\n",
       "      <td>S</td>\n",
       "    </tr>\n",
       "    <tr>\n",
       "      <th>4</th>\n",
       "      <td>5</td>\n",
       "      <td>0</td>\n",
       "      <td>3</td>\n",
       "      <td>Allen, Mr. William Henry</td>\n",
       "      <td>male</td>\n",
       "      <td>35.0</td>\n",
       "      <td>0</td>\n",
       "      <td>0</td>\n",
       "      <td>373450</td>\n",
       "      <td>8.0500</td>\n",
       "      <td>NaN</td>\n",
       "      <td>S</td>\n",
       "    </tr>\n",
       "    <tr>\n",
       "      <th>...</th>\n",
       "      <td>...</td>\n",
       "      <td>...</td>\n",
       "      <td>...</td>\n",
       "      <td>...</td>\n",
       "      <td>...</td>\n",
       "      <td>...</td>\n",
       "      <td>...</td>\n",
       "      <td>...</td>\n",
       "      <td>...</td>\n",
       "      <td>...</td>\n",
       "      <td>...</td>\n",
       "      <td>...</td>\n",
       "    </tr>\n",
       "    <tr>\n",
       "      <th>886</th>\n",
       "      <td>887</td>\n",
       "      <td>0</td>\n",
       "      <td>2</td>\n",
       "      <td>Montvila, Rev. Juozas</td>\n",
       "      <td>male</td>\n",
       "      <td>27.0</td>\n",
       "      <td>0</td>\n",
       "      <td>0</td>\n",
       "      <td>211536</td>\n",
       "      <td>13.0000</td>\n",
       "      <td>NaN</td>\n",
       "      <td>S</td>\n",
       "    </tr>\n",
       "    <tr>\n",
       "      <th>887</th>\n",
       "      <td>888</td>\n",
       "      <td>1</td>\n",
       "      <td>1</td>\n",
       "      <td>Graham, Miss. Margaret Edith</td>\n",
       "      <td>female</td>\n",
       "      <td>19.0</td>\n",
       "      <td>0</td>\n",
       "      <td>0</td>\n",
       "      <td>112053</td>\n",
       "      <td>30.0000</td>\n",
       "      <td>B42</td>\n",
       "      <td>S</td>\n",
       "    </tr>\n",
       "    <tr>\n",
       "      <th>888</th>\n",
       "      <td>889</td>\n",
       "      <td>0</td>\n",
       "      <td>3</td>\n",
       "      <td>Johnston, Miss. Catherine Helen \"Carrie\"</td>\n",
       "      <td>female</td>\n",
       "      <td>NaN</td>\n",
       "      <td>1</td>\n",
       "      <td>2</td>\n",
       "      <td>W./C. 6607</td>\n",
       "      <td>23.4500</td>\n",
       "      <td>NaN</td>\n",
       "      <td>S</td>\n",
       "    </tr>\n",
       "    <tr>\n",
       "      <th>889</th>\n",
       "      <td>890</td>\n",
       "      <td>1</td>\n",
       "      <td>1</td>\n",
       "      <td>Behr, Mr. Karl Howell</td>\n",
       "      <td>male</td>\n",
       "      <td>26.0</td>\n",
       "      <td>0</td>\n",
       "      <td>0</td>\n",
       "      <td>111369</td>\n",
       "      <td>30.0000</td>\n",
       "      <td>C148</td>\n",
       "      <td>C</td>\n",
       "    </tr>\n",
       "    <tr>\n",
       "      <th>890</th>\n",
       "      <td>891</td>\n",
       "      <td>0</td>\n",
       "      <td>3</td>\n",
       "      <td>Dooley, Mr. Patrick</td>\n",
       "      <td>male</td>\n",
       "      <td>32.0</td>\n",
       "      <td>0</td>\n",
       "      <td>0</td>\n",
       "      <td>370376</td>\n",
       "      <td>7.7500</td>\n",
       "      <td>NaN</td>\n",
       "      <td>Q</td>\n",
       "    </tr>\n",
       "  </tbody>\n",
       "</table>\n",
       "<p>891 rows × 12 columns</p>\n",
       "</div>"
      ],
      "text/plain": [
       "     PassengerId  Survived  Pclass  \\\n",
       "0              1         0       3   \n",
       "1              2         1       1   \n",
       "2              3         1       3   \n",
       "3              4         1       1   \n",
       "4              5         0       3   \n",
       "..           ...       ...     ...   \n",
       "886          887         0       2   \n",
       "887          888         1       1   \n",
       "888          889         0       3   \n",
       "889          890         1       1   \n",
       "890          891         0       3   \n",
       "\n",
       "                                                  Name     Sex   Age  SibSp  \\\n",
       "0                              Braund, Mr. Owen Harris    male  22.0      1   \n",
       "1    Cumings, Mrs. John Bradley (Florence Briggs Th...  female  38.0      1   \n",
       "2                               Heikkinen, Miss. Laina  female  26.0      0   \n",
       "3         Futrelle, Mrs. Jacques Heath (Lily May Peel)  female  35.0      1   \n",
       "4                             Allen, Mr. William Henry    male  35.0      0   \n",
       "..                                                 ...     ...   ...    ...   \n",
       "886                              Montvila, Rev. Juozas    male  27.0      0   \n",
       "887                       Graham, Miss. Margaret Edith  female  19.0      0   \n",
       "888           Johnston, Miss. Catherine Helen \"Carrie\"  female   NaN      1   \n",
       "889                              Behr, Mr. Karl Howell    male  26.0      0   \n",
       "890                                Dooley, Mr. Patrick    male  32.0      0   \n",
       "\n",
       "     Parch            Ticket     Fare Cabin Embarked  \n",
       "0        0         A/5 21171   7.2500   NaN        S  \n",
       "1        0          PC 17599  71.2833   C85        C  \n",
       "2        0  STON/O2. 3101282   7.9250   NaN        S  \n",
       "3        0            113803  53.1000  C123        S  \n",
       "4        0            373450   8.0500   NaN        S  \n",
       "..     ...               ...      ...   ...      ...  \n",
       "886      0            211536  13.0000   NaN        S  \n",
       "887      0            112053  30.0000   B42        S  \n",
       "888      2        W./C. 6607  23.4500   NaN        S  \n",
       "889      0            111369  30.0000  C148        C  \n",
       "890      0            370376   7.7500   NaN        Q  \n",
       "\n",
       "[891 rows x 12 columns]"
      ]
     },
     "execution_count": 67,
     "metadata": {},
     "output_type": "execute_result"
    }
   ],
   "source": [
    "titanic_train = pd.read_csv(\"C:\\\\Users\\\\ww\\\\Data Sets\\\\titanic_train.csv\")\n",
    "titanic_train\n"
   ]
  },
  {
   "cell_type": "code",
   "execution_count": 68,
   "id": "f188693d",
   "metadata": {},
   "outputs": [
    {
     "data": {
      "text/plain": [
       "array([0, 1], dtype=int64)"
      ]
     },
     "execution_count": 68,
     "metadata": {},
     "output_type": "execute_result"
    }
   ],
   "source": [
    "#HOW TO CHECK UNIQUE VALUES OF ANY COLUMNS\n",
    "titanic_train[\"Survived\"].unique()"
   ]
  },
  {
   "cell_type": "code",
   "execution_count": 69,
   "id": "cfb77a71",
   "metadata": {},
   "outputs": [
    {
     "data": {
      "text/html": [
       "<div>\n",
       "<style scoped>\n",
       "    .dataframe tbody tr th:only-of-type {\n",
       "        vertical-align: middle;\n",
       "    }\n",
       "\n",
       "    .dataframe tbody tr th {\n",
       "        vertical-align: top;\n",
       "    }\n",
       "\n",
       "    .dataframe thead th {\n",
       "        text-align: right;\n",
       "    }\n",
       "</style>\n",
       "<table border=\"1\" class=\"dataframe\">\n",
       "  <thead>\n",
       "    <tr style=\"text-align: right;\">\n",
       "      <th></th>\n",
       "      <th>counts</th>\n",
       "      <th>freqs</th>\n",
       "    </tr>\n",
       "    <tr>\n",
       "      <th>categories</th>\n",
       "      <th></th>\n",
       "      <th></th>\n",
       "    </tr>\n",
       "  </thead>\n",
       "  <tbody>\n",
       "    <tr>\n",
       "      <th>Died</th>\n",
       "      <td>549</td>\n",
       "      <td>0.616162</td>\n",
       "    </tr>\n",
       "    <tr>\n",
       "      <th>Servived</th>\n",
       "      <td>342</td>\n",
       "      <td>0.383838</td>\n",
       "    </tr>\n",
       "  </tbody>\n",
       "</table>\n",
       "</div>"
      ],
      "text/plain": [
       "            counts     freqs\n",
       "categories                  \n",
       "Died           549  0.616162\n",
       "Servived       342  0.383838"
      ]
     },
     "execution_count": 69,
     "metadata": {},
     "output_type": "execute_result"
    }
   ],
   "source": [
    "# HOW TO RENAME CATEGORIES USING PANDAS\n",
    "new_survived=pd.Categorical(titanic_train[\"Survived\"])\n",
    "new_servived=new_survived.rename_categories([\"Died\",\"Servived\"])\n",
    "new_servived.describe()"
   ]
  },
  {
   "cell_type": "code",
   "execution_count": 70,
   "id": "9931f838",
   "metadata": {},
   "outputs": [
    {
     "data": {
      "text/plain": [
       "array([3, 1, 2], dtype=int64)"
      ]
     },
     "execution_count": 70,
     "metadata": {},
     "output_type": "execute_result"
    }
   ],
   "source": [
    "titanic_train[\"Pclass\"].unique()\n",
    "# here 3 uniq values in this columns but vales is not in ordered formate"
   ]
  },
  {
   "cell_type": "code",
   "execution_count": 71,
   "id": "797349d7",
   "metadata": {},
   "outputs": [
    {
     "data": {
      "text/html": [
       "<div>\n",
       "<style scoped>\n",
       "    .dataframe tbody tr th:only-of-type {\n",
       "        vertical-align: middle;\n",
       "    }\n",
       "\n",
       "    .dataframe tbody tr th {\n",
       "        vertical-align: top;\n",
       "    }\n",
       "\n",
       "    .dataframe thead th {\n",
       "        text-align: right;\n",
       "    }\n",
       "</style>\n",
       "<table border=\"1\" class=\"dataframe\">\n",
       "  <thead>\n",
       "    <tr style=\"text-align: right;\">\n",
       "      <th></th>\n",
       "      <th>counts</th>\n",
       "      <th>freqs</th>\n",
       "    </tr>\n",
       "    <tr>\n",
       "      <th>categories</th>\n",
       "      <th></th>\n",
       "      <th></th>\n",
       "    </tr>\n",
       "  </thead>\n",
       "  <tbody>\n",
       "    <tr>\n",
       "      <th>class1</th>\n",
       "      <td>216</td>\n",
       "      <td>0.242424</td>\n",
       "    </tr>\n",
       "    <tr>\n",
       "      <th>class2</th>\n",
       "      <td>184</td>\n",
       "      <td>0.206510</td>\n",
       "    </tr>\n",
       "    <tr>\n",
       "      <th>class3</th>\n",
       "      <td>491</td>\n",
       "      <td>0.551066</td>\n",
       "    </tr>\n",
       "  </tbody>\n",
       "</table>\n",
       "</div>"
      ],
      "text/plain": [
       "            counts     freqs\n",
       "categories                  \n",
       "class1         216  0.242424\n",
       "class2         184  0.206510\n",
       "class3         491  0.551066"
      ]
     },
     "execution_count": 71,
     "metadata": {},
     "output_type": "execute_result"
    }
   ],
   "source": [
    "new_pclass=pd.Categorical(titanic_train[\"Pclass\"],ordered=True)\n",
    "new_pclass=new_pclass.rename_categories([\"class1\",\"class2\",\"class3\"])\n",
    "new_pclass.describe()"
   ]
  },
  {
   "cell_type": "code",
   "execution_count": 72,
   "id": "0ac5d98c",
   "metadata": {},
   "outputs": [],
   "source": [
    "# REASSIGN NEW NAME TO PCLASS\n",
    "titanic_train[\"Pclass\"]=new_pclass"
   ]
  },
  {
   "cell_type": "code",
   "execution_count": 73,
   "id": "ec61d5bb",
   "metadata": {},
   "outputs": [
    {
     "data": {
      "text/html": [
       "<div>\n",
       "<style scoped>\n",
       "    .dataframe tbody tr th:only-of-type {\n",
       "        vertical-align: middle;\n",
       "    }\n",
       "\n",
       "    .dataframe tbody tr th {\n",
       "        vertical-align: top;\n",
       "    }\n",
       "\n",
       "    .dataframe thead th {\n",
       "        text-align: right;\n",
       "    }\n",
       "</style>\n",
       "<table border=\"1\" class=\"dataframe\">\n",
       "  <thead>\n",
       "    <tr style=\"text-align: right;\">\n",
       "      <th></th>\n",
       "      <th>PassengerId</th>\n",
       "      <th>Survived</th>\n",
       "      <th>Pclass</th>\n",
       "      <th>Name</th>\n",
       "      <th>Sex</th>\n",
       "      <th>Age</th>\n",
       "      <th>SibSp</th>\n",
       "      <th>Parch</th>\n",
       "      <th>Ticket</th>\n",
       "      <th>Fare</th>\n",
       "      <th>Cabin</th>\n",
       "      <th>Embarked</th>\n",
       "    </tr>\n",
       "  </thead>\n",
       "  <tbody>\n",
       "    <tr>\n",
       "      <th>0</th>\n",
       "      <td>1</td>\n",
       "      <td>0</td>\n",
       "      <td>class3</td>\n",
       "      <td>Braund, Mr. Owen Harris</td>\n",
       "      <td>male</td>\n",
       "      <td>22.0</td>\n",
       "      <td>1</td>\n",
       "      <td>0</td>\n",
       "      <td>A/5 21171</td>\n",
       "      <td>7.2500</td>\n",
       "      <td>NaN</td>\n",
       "      <td>S</td>\n",
       "    </tr>\n",
       "    <tr>\n",
       "      <th>1</th>\n",
       "      <td>2</td>\n",
       "      <td>1</td>\n",
       "      <td>class1</td>\n",
       "      <td>Cumings, Mrs. John Bradley (Florence Briggs Th...</td>\n",
       "      <td>female</td>\n",
       "      <td>38.0</td>\n",
       "      <td>1</td>\n",
       "      <td>0</td>\n",
       "      <td>PC 17599</td>\n",
       "      <td>71.2833</td>\n",
       "      <td>C85</td>\n",
       "      <td>C</td>\n",
       "    </tr>\n",
       "    <tr>\n",
       "      <th>2</th>\n",
       "      <td>3</td>\n",
       "      <td>1</td>\n",
       "      <td>class3</td>\n",
       "      <td>Heikkinen, Miss. Laina</td>\n",
       "      <td>female</td>\n",
       "      <td>26.0</td>\n",
       "      <td>0</td>\n",
       "      <td>0</td>\n",
       "      <td>STON/O2. 3101282</td>\n",
       "      <td>7.9250</td>\n",
       "      <td>NaN</td>\n",
       "      <td>S</td>\n",
       "    </tr>\n",
       "    <tr>\n",
       "      <th>3</th>\n",
       "      <td>4</td>\n",
       "      <td>1</td>\n",
       "      <td>class1</td>\n",
       "      <td>Futrelle, Mrs. Jacques Heath (Lily May Peel)</td>\n",
       "      <td>female</td>\n",
       "      <td>35.0</td>\n",
       "      <td>1</td>\n",
       "      <td>0</td>\n",
       "      <td>113803</td>\n",
       "      <td>53.1000</td>\n",
       "      <td>C123</td>\n",
       "      <td>S</td>\n",
       "    </tr>\n",
       "    <tr>\n",
       "      <th>4</th>\n",
       "      <td>5</td>\n",
       "      <td>0</td>\n",
       "      <td>class3</td>\n",
       "      <td>Allen, Mr. William Henry</td>\n",
       "      <td>male</td>\n",
       "      <td>35.0</td>\n",
       "      <td>0</td>\n",
       "      <td>0</td>\n",
       "      <td>373450</td>\n",
       "      <td>8.0500</td>\n",
       "      <td>NaN</td>\n",
       "      <td>S</td>\n",
       "    </tr>\n",
       "    <tr>\n",
       "      <th>...</th>\n",
       "      <td>...</td>\n",
       "      <td>...</td>\n",
       "      <td>...</td>\n",
       "      <td>...</td>\n",
       "      <td>...</td>\n",
       "      <td>...</td>\n",
       "      <td>...</td>\n",
       "      <td>...</td>\n",
       "      <td>...</td>\n",
       "      <td>...</td>\n",
       "      <td>...</td>\n",
       "      <td>...</td>\n",
       "    </tr>\n",
       "    <tr>\n",
       "      <th>886</th>\n",
       "      <td>887</td>\n",
       "      <td>0</td>\n",
       "      <td>class2</td>\n",
       "      <td>Montvila, Rev. Juozas</td>\n",
       "      <td>male</td>\n",
       "      <td>27.0</td>\n",
       "      <td>0</td>\n",
       "      <td>0</td>\n",
       "      <td>211536</td>\n",
       "      <td>13.0000</td>\n",
       "      <td>NaN</td>\n",
       "      <td>S</td>\n",
       "    </tr>\n",
       "    <tr>\n",
       "      <th>887</th>\n",
       "      <td>888</td>\n",
       "      <td>1</td>\n",
       "      <td>class1</td>\n",
       "      <td>Graham, Miss. Margaret Edith</td>\n",
       "      <td>female</td>\n",
       "      <td>19.0</td>\n",
       "      <td>0</td>\n",
       "      <td>0</td>\n",
       "      <td>112053</td>\n",
       "      <td>30.0000</td>\n",
       "      <td>B42</td>\n",
       "      <td>S</td>\n",
       "    </tr>\n",
       "    <tr>\n",
       "      <th>888</th>\n",
       "      <td>889</td>\n",
       "      <td>0</td>\n",
       "      <td>class3</td>\n",
       "      <td>Johnston, Miss. Catherine Helen \"Carrie\"</td>\n",
       "      <td>female</td>\n",
       "      <td>NaN</td>\n",
       "      <td>1</td>\n",
       "      <td>2</td>\n",
       "      <td>W./C. 6607</td>\n",
       "      <td>23.4500</td>\n",
       "      <td>NaN</td>\n",
       "      <td>S</td>\n",
       "    </tr>\n",
       "    <tr>\n",
       "      <th>889</th>\n",
       "      <td>890</td>\n",
       "      <td>1</td>\n",
       "      <td>class1</td>\n",
       "      <td>Behr, Mr. Karl Howell</td>\n",
       "      <td>male</td>\n",
       "      <td>26.0</td>\n",
       "      <td>0</td>\n",
       "      <td>0</td>\n",
       "      <td>111369</td>\n",
       "      <td>30.0000</td>\n",
       "      <td>C148</td>\n",
       "      <td>C</td>\n",
       "    </tr>\n",
       "    <tr>\n",
       "      <th>890</th>\n",
       "      <td>891</td>\n",
       "      <td>0</td>\n",
       "      <td>class3</td>\n",
       "      <td>Dooley, Mr. Patrick</td>\n",
       "      <td>male</td>\n",
       "      <td>32.0</td>\n",
       "      <td>0</td>\n",
       "      <td>0</td>\n",
       "      <td>370376</td>\n",
       "      <td>7.7500</td>\n",
       "      <td>NaN</td>\n",
       "      <td>Q</td>\n",
       "    </tr>\n",
       "  </tbody>\n",
       "</table>\n",
       "<p>891 rows × 12 columns</p>\n",
       "</div>"
      ],
      "text/plain": [
       "     PassengerId  Survived  Pclass  \\\n",
       "0              1         0  class3   \n",
       "1              2         1  class1   \n",
       "2              3         1  class3   \n",
       "3              4         1  class1   \n",
       "4              5         0  class3   \n",
       "..           ...       ...     ...   \n",
       "886          887         0  class2   \n",
       "887          888         1  class1   \n",
       "888          889         0  class3   \n",
       "889          890         1  class1   \n",
       "890          891         0  class3   \n",
       "\n",
       "                                                  Name     Sex   Age  SibSp  \\\n",
       "0                              Braund, Mr. Owen Harris    male  22.0      1   \n",
       "1    Cumings, Mrs. John Bradley (Florence Briggs Th...  female  38.0      1   \n",
       "2                               Heikkinen, Miss. Laina  female  26.0      0   \n",
       "3         Futrelle, Mrs. Jacques Heath (Lily May Peel)  female  35.0      1   \n",
       "4                             Allen, Mr. William Henry    male  35.0      0   \n",
       "..                                                 ...     ...   ...    ...   \n",
       "886                              Montvila, Rev. Juozas    male  27.0      0   \n",
       "887                       Graham, Miss. Margaret Edith  female  19.0      0   \n",
       "888           Johnston, Miss. Catherine Helen \"Carrie\"  female   NaN      1   \n",
       "889                              Behr, Mr. Karl Howell    male  26.0      0   \n",
       "890                                Dooley, Mr. Patrick    male  32.0      0   \n",
       "\n",
       "     Parch            Ticket     Fare Cabin Embarked  \n",
       "0        0         A/5 21171   7.2500   NaN        S  \n",
       "1        0          PC 17599  71.2833   C85        C  \n",
       "2        0  STON/O2. 3101282   7.9250   NaN        S  \n",
       "3        0            113803  53.1000  C123        S  \n",
       "4        0            373450   8.0500   NaN        S  \n",
       "..     ...               ...      ...   ...      ...  \n",
       "886      0            211536  13.0000   NaN        S  \n",
       "887      0            112053  30.0000   B42        S  \n",
       "888      2        W./C. 6607  23.4500   NaN        S  \n",
       "889      0            111369  30.0000  C148        C  \n",
       "890      0            370376   7.7500   NaN        Q  \n",
       "\n",
       "[891 rows x 12 columns]"
      ]
     },
     "execution_count": 73,
     "metadata": {},
     "output_type": "execute_result"
    }
   ],
   "source": [
    "titanic_train"
   ]
  },
  {
   "cell_type": "code",
   "execution_count": 74,
   "id": "1041554b",
   "metadata": {},
   "outputs": [
    {
     "data": {
      "text/html": [
       "<div>\n",
       "<style scoped>\n",
       "    .dataframe tbody tr th:only-of-type {\n",
       "        vertical-align: middle;\n",
       "    }\n",
       "\n",
       "    .dataframe tbody tr th {\n",
       "        vertical-align: top;\n",
       "    }\n",
       "\n",
       "    .dataframe thead th {\n",
       "        text-align: right;\n",
       "    }\n",
       "</style>\n",
       "<table border=\"1\" class=\"dataframe\">\n",
       "  <thead>\n",
       "    <tr style=\"text-align: right;\">\n",
       "      <th></th>\n",
       "      <th>counts</th>\n",
       "      <th>freqs</th>\n",
       "    </tr>\n",
       "    <tr>\n",
       "      <th>categories</th>\n",
       "      <th></th>\n",
       "      <th></th>\n",
       "    </tr>\n",
       "  </thead>\n",
       "  <tbody>\n",
       "    <tr>\n",
       "      <th>A</th>\n",
       "      <td>15</td>\n",
       "      <td>0.016835</td>\n",
       "    </tr>\n",
       "    <tr>\n",
       "      <th>B</th>\n",
       "      <td>47</td>\n",
       "      <td>0.052750</td>\n",
       "    </tr>\n",
       "    <tr>\n",
       "      <th>C</th>\n",
       "      <td>59</td>\n",
       "      <td>0.066218</td>\n",
       "    </tr>\n",
       "    <tr>\n",
       "      <th>D</th>\n",
       "      <td>33</td>\n",
       "      <td>0.037037</td>\n",
       "    </tr>\n",
       "    <tr>\n",
       "      <th>E</th>\n",
       "      <td>32</td>\n",
       "      <td>0.035915</td>\n",
       "    </tr>\n",
       "    <tr>\n",
       "      <th>F</th>\n",
       "      <td>13</td>\n",
       "      <td>0.014590</td>\n",
       "    </tr>\n",
       "    <tr>\n",
       "      <th>G</th>\n",
       "      <td>4</td>\n",
       "      <td>0.004489</td>\n",
       "    </tr>\n",
       "    <tr>\n",
       "      <th>T</th>\n",
       "      <td>1</td>\n",
       "      <td>0.001122</td>\n",
       "    </tr>\n",
       "    <tr>\n",
       "      <th>n</th>\n",
       "      <td>687</td>\n",
       "      <td>0.771044</td>\n",
       "    </tr>\n",
       "  </tbody>\n",
       "</table>\n",
       "</div>"
      ],
      "text/plain": [
       "            counts     freqs\n",
       "categories                  \n",
       "A               15  0.016835\n",
       "B               47  0.052750\n",
       "C               59  0.066218\n",
       "D               33  0.037037\n",
       "E               32  0.035915\n",
       "F               13  0.014590\n",
       "G                4  0.004489\n",
       "T                1  0.001122\n",
       "n              687  0.771044"
      ]
     },
     "execution_count": 74,
     "metadata": {},
     "output_type": "execute_result"
    }
   ],
   "source": [
    "#convert Data to string\n",
    "char_cabin=titanic_train[\"Cabin\"].astype(str)\n",
    "#list comprehensiion  creating list using another set of string, list etc\n",
    "new_cabin=np.array([cabin[0] for cabin in char_cabin]) #it will take 1st later only # cabin[0] index\n",
    "new_cabin=pd.Categorical(new_cabin)\n",
    "new_cabin.describe()"
   ]
  },
  {
   "cell_type": "code",
   "execution_count": 75,
   "id": "21b291d7",
   "metadata": {},
   "outputs": [],
   "source": [
    "# reassign name to cabin\n",
    "titanic_train[\"Cabin\"]=new_cabin"
   ]
  },
  {
   "cell_type": "code",
   "execution_count": 76,
   "id": "837385f3",
   "metadata": {},
   "outputs": [
    {
     "data": {
      "text/html": [
       "<div>\n",
       "<style scoped>\n",
       "    .dataframe tbody tr th:only-of-type {\n",
       "        vertical-align: middle;\n",
       "    }\n",
       "\n",
       "    .dataframe tbody tr th {\n",
       "        vertical-align: top;\n",
       "    }\n",
       "\n",
       "    .dataframe thead th {\n",
       "        text-align: right;\n",
       "    }\n",
       "</style>\n",
       "<table border=\"1\" class=\"dataframe\">\n",
       "  <thead>\n",
       "    <tr style=\"text-align: right;\">\n",
       "      <th></th>\n",
       "      <th>PassengerId</th>\n",
       "      <th>Survived</th>\n",
       "      <th>Pclass</th>\n",
       "      <th>Name</th>\n",
       "      <th>Sex</th>\n",
       "      <th>Age</th>\n",
       "      <th>SibSp</th>\n",
       "      <th>Parch</th>\n",
       "      <th>Ticket</th>\n",
       "      <th>Fare</th>\n",
       "      <th>Cabin</th>\n",
       "      <th>Embarked</th>\n",
       "    </tr>\n",
       "  </thead>\n",
       "  <tbody>\n",
       "    <tr>\n",
       "      <th>0</th>\n",
       "      <td>1</td>\n",
       "      <td>0</td>\n",
       "      <td>class3</td>\n",
       "      <td>Braund, Mr. Owen Harris</td>\n",
       "      <td>male</td>\n",
       "      <td>22.0</td>\n",
       "      <td>1</td>\n",
       "      <td>0</td>\n",
       "      <td>A/5 21171</td>\n",
       "      <td>7.2500</td>\n",
       "      <td>n</td>\n",
       "      <td>S</td>\n",
       "    </tr>\n",
       "    <tr>\n",
       "      <th>1</th>\n",
       "      <td>2</td>\n",
       "      <td>1</td>\n",
       "      <td>class1</td>\n",
       "      <td>Cumings, Mrs. John Bradley (Florence Briggs Th...</td>\n",
       "      <td>female</td>\n",
       "      <td>38.0</td>\n",
       "      <td>1</td>\n",
       "      <td>0</td>\n",
       "      <td>PC 17599</td>\n",
       "      <td>71.2833</td>\n",
       "      <td>C</td>\n",
       "      <td>C</td>\n",
       "    </tr>\n",
       "    <tr>\n",
       "      <th>2</th>\n",
       "      <td>3</td>\n",
       "      <td>1</td>\n",
       "      <td>class3</td>\n",
       "      <td>Heikkinen, Miss. Laina</td>\n",
       "      <td>female</td>\n",
       "      <td>26.0</td>\n",
       "      <td>0</td>\n",
       "      <td>0</td>\n",
       "      <td>STON/O2. 3101282</td>\n",
       "      <td>7.9250</td>\n",
       "      <td>n</td>\n",
       "      <td>S</td>\n",
       "    </tr>\n",
       "    <tr>\n",
       "      <th>3</th>\n",
       "      <td>4</td>\n",
       "      <td>1</td>\n",
       "      <td>class1</td>\n",
       "      <td>Futrelle, Mrs. Jacques Heath (Lily May Peel)</td>\n",
       "      <td>female</td>\n",
       "      <td>35.0</td>\n",
       "      <td>1</td>\n",
       "      <td>0</td>\n",
       "      <td>113803</td>\n",
       "      <td>53.1000</td>\n",
       "      <td>C</td>\n",
       "      <td>S</td>\n",
       "    </tr>\n",
       "    <tr>\n",
       "      <th>4</th>\n",
       "      <td>5</td>\n",
       "      <td>0</td>\n",
       "      <td>class3</td>\n",
       "      <td>Allen, Mr. William Henry</td>\n",
       "      <td>male</td>\n",
       "      <td>35.0</td>\n",
       "      <td>0</td>\n",
       "      <td>0</td>\n",
       "      <td>373450</td>\n",
       "      <td>8.0500</td>\n",
       "      <td>n</td>\n",
       "      <td>S</td>\n",
       "    </tr>\n",
       "  </tbody>\n",
       "</table>\n",
       "</div>"
      ],
      "text/plain": [
       "   PassengerId  Survived  Pclass  \\\n",
       "0            1         0  class3   \n",
       "1            2         1  class1   \n",
       "2            3         1  class3   \n",
       "3            4         1  class1   \n",
       "4            5         0  class3   \n",
       "\n",
       "                                                Name     Sex   Age  SibSp  \\\n",
       "0                            Braund, Mr. Owen Harris    male  22.0      1   \n",
       "1  Cumings, Mrs. John Bradley (Florence Briggs Th...  female  38.0      1   \n",
       "2                             Heikkinen, Miss. Laina  female  26.0      0   \n",
       "3       Futrelle, Mrs. Jacques Heath (Lily May Peel)  female  35.0      1   \n",
       "4                           Allen, Mr. William Henry    male  35.0      0   \n",
       "\n",
       "   Parch            Ticket     Fare Cabin Embarked  \n",
       "0      0         A/5 21171   7.2500     n        S  \n",
       "1      0          PC 17599  71.2833     C        C  \n",
       "2      0  STON/O2. 3101282   7.9250     n        S  \n",
       "3      0            113803  53.1000     C        S  \n",
       "4      0            373450   8.0500     n        S  "
      ]
     },
     "execution_count": 76,
     "metadata": {},
     "output_type": "execute_result"
    }
   ],
   "source": [
    "titanic_train.head()"
   ]
  },
  {
   "cell_type": "markdown",
   "id": "ff4a980a",
   "metadata": {},
   "source": [
    "#find the all pasnger whos age is missing"
   ]
  },
  {
   "cell_type": "code",
   "execution_count": 77,
   "id": "0a50bfb4",
   "metadata": {},
   "outputs": [
    {
     "data": {
      "text/plain": [
       "(array([  5,  17,  19,  26,  28,  29,  31,  32,  36,  42,  45,  46,  47,\n",
       "         48,  55,  64,  65,  76,  77,  82,  87,  95, 101, 107, 109, 121,\n",
       "        126, 128, 140, 154, 158, 159, 166, 168, 176, 180, 181, 185, 186,\n",
       "        196, 198, 201, 214, 223, 229, 235, 240, 241, 250, 256, 260, 264,\n",
       "        270, 274, 277, 284, 295, 298, 300, 301, 303, 304, 306, 324, 330,\n",
       "        334, 335, 347, 351, 354, 358, 359, 364, 367, 368, 375, 384, 388,\n",
       "        409, 410, 411, 413, 415, 420, 425, 428, 431, 444, 451, 454, 457,\n",
       "        459, 464, 466, 468, 470, 475, 481, 485, 490, 495, 497, 502, 507,\n",
       "        511, 517, 522, 524, 527, 531, 533, 538, 547, 552, 557, 560, 563,\n",
       "        564, 568, 573, 578, 584, 589, 593, 596, 598, 601, 602, 611, 612,\n",
       "        613, 629, 633, 639, 643, 648, 650, 653, 656, 667, 669, 674, 680,\n",
       "        692, 697, 709, 711, 718, 727, 732, 738, 739, 740, 760, 766, 768,\n",
       "        773, 776, 778, 783, 790, 792, 793, 815, 825, 826, 828, 832, 837,\n",
       "        839, 846, 849, 859, 863, 868, 878, 888], dtype=int64),)"
      ]
     },
     "execution_count": 77,
     "metadata": {},
     "output_type": "execute_result"
    }
   ],
   "source": [
    "#np.where gives the index  of those missing data\n",
    "missing=np.where(titanic_train[\"Age\"].isnull()==True)\n",
    "#find all the null column age missing \n",
    "missing\n",
    "# it will shows the index where missing values is present"
   ]
  },
  {
   "cell_type": "code",
   "execution_count": 78,
   "id": "4ef14304",
   "metadata": {},
   "outputs": [
    {
     "data": {
      "text/html": [
       "<div>\n",
       "<style scoped>\n",
       "    .dataframe tbody tr th:only-of-type {\n",
       "        vertical-align: middle;\n",
       "    }\n",
       "\n",
       "    .dataframe tbody tr th {\n",
       "        vertical-align: top;\n",
       "    }\n",
       "\n",
       "    .dataframe thead th {\n",
       "        text-align: right;\n",
       "    }\n",
       "</style>\n",
       "<table border=\"1\" class=\"dataframe\">\n",
       "  <thead>\n",
       "    <tr style=\"text-align: right;\">\n",
       "      <th></th>\n",
       "      <th>PassengerId</th>\n",
       "      <th>Survived</th>\n",
       "      <th>Pclass</th>\n",
       "      <th>Name</th>\n",
       "      <th>Sex</th>\n",
       "      <th>Age</th>\n",
       "      <th>SibSp</th>\n",
       "      <th>Parch</th>\n",
       "      <th>Ticket</th>\n",
       "      <th>Fare</th>\n",
       "      <th>Cabin</th>\n",
       "      <th>Embarked</th>\n",
       "    </tr>\n",
       "  </thead>\n",
       "  <tbody>\n",
       "    <tr>\n",
       "      <th>5</th>\n",
       "      <td>6</td>\n",
       "      <td>0</td>\n",
       "      <td>class3</td>\n",
       "      <td>Moran, Mr. James</td>\n",
       "      <td>male</td>\n",
       "      <td>NaN</td>\n",
       "      <td>0</td>\n",
       "      <td>0</td>\n",
       "      <td>330877</td>\n",
       "      <td>8.4583</td>\n",
       "      <td>n</td>\n",
       "      <td>Q</td>\n",
       "    </tr>\n",
       "    <tr>\n",
       "      <th>17</th>\n",
       "      <td>18</td>\n",
       "      <td>1</td>\n",
       "      <td>class2</td>\n",
       "      <td>Williams, Mr. Charles Eugene</td>\n",
       "      <td>male</td>\n",
       "      <td>NaN</td>\n",
       "      <td>0</td>\n",
       "      <td>0</td>\n",
       "      <td>244373</td>\n",
       "      <td>13.0000</td>\n",
       "      <td>n</td>\n",
       "      <td>S</td>\n",
       "    </tr>\n",
       "    <tr>\n",
       "      <th>19</th>\n",
       "      <td>20</td>\n",
       "      <td>1</td>\n",
       "      <td>class3</td>\n",
       "      <td>Masselmani, Mrs. Fatima</td>\n",
       "      <td>female</td>\n",
       "      <td>NaN</td>\n",
       "      <td>0</td>\n",
       "      <td>0</td>\n",
       "      <td>2649</td>\n",
       "      <td>7.2250</td>\n",
       "      <td>n</td>\n",
       "      <td>C</td>\n",
       "    </tr>\n",
       "    <tr>\n",
       "      <th>26</th>\n",
       "      <td>27</td>\n",
       "      <td>0</td>\n",
       "      <td>class3</td>\n",
       "      <td>Emir, Mr. Farred Chehab</td>\n",
       "      <td>male</td>\n",
       "      <td>NaN</td>\n",
       "      <td>0</td>\n",
       "      <td>0</td>\n",
       "      <td>2631</td>\n",
       "      <td>7.2250</td>\n",
       "      <td>n</td>\n",
       "      <td>C</td>\n",
       "    </tr>\n",
       "    <tr>\n",
       "      <th>28</th>\n",
       "      <td>29</td>\n",
       "      <td>1</td>\n",
       "      <td>class3</td>\n",
       "      <td>O'Dwyer, Miss. Ellen \"Nellie\"</td>\n",
       "      <td>female</td>\n",
       "      <td>NaN</td>\n",
       "      <td>0</td>\n",
       "      <td>0</td>\n",
       "      <td>330959</td>\n",
       "      <td>7.8792</td>\n",
       "      <td>n</td>\n",
       "      <td>Q</td>\n",
       "    </tr>\n",
       "    <tr>\n",
       "      <th>...</th>\n",
       "      <td>...</td>\n",
       "      <td>...</td>\n",
       "      <td>...</td>\n",
       "      <td>...</td>\n",
       "      <td>...</td>\n",
       "      <td>...</td>\n",
       "      <td>...</td>\n",
       "      <td>...</td>\n",
       "      <td>...</td>\n",
       "      <td>...</td>\n",
       "      <td>...</td>\n",
       "      <td>...</td>\n",
       "    </tr>\n",
       "    <tr>\n",
       "      <th>859</th>\n",
       "      <td>860</td>\n",
       "      <td>0</td>\n",
       "      <td>class3</td>\n",
       "      <td>Razi, Mr. Raihed</td>\n",
       "      <td>male</td>\n",
       "      <td>NaN</td>\n",
       "      <td>0</td>\n",
       "      <td>0</td>\n",
       "      <td>2629</td>\n",
       "      <td>7.2292</td>\n",
       "      <td>n</td>\n",
       "      <td>C</td>\n",
       "    </tr>\n",
       "    <tr>\n",
       "      <th>863</th>\n",
       "      <td>864</td>\n",
       "      <td>0</td>\n",
       "      <td>class3</td>\n",
       "      <td>Sage, Miss. Dorothy Edith \"Dolly\"</td>\n",
       "      <td>female</td>\n",
       "      <td>NaN</td>\n",
       "      <td>8</td>\n",
       "      <td>2</td>\n",
       "      <td>CA. 2343</td>\n",
       "      <td>69.5500</td>\n",
       "      <td>n</td>\n",
       "      <td>S</td>\n",
       "    </tr>\n",
       "    <tr>\n",
       "      <th>868</th>\n",
       "      <td>869</td>\n",
       "      <td>0</td>\n",
       "      <td>class3</td>\n",
       "      <td>van Melkebeke, Mr. Philemon</td>\n",
       "      <td>male</td>\n",
       "      <td>NaN</td>\n",
       "      <td>0</td>\n",
       "      <td>0</td>\n",
       "      <td>345777</td>\n",
       "      <td>9.5000</td>\n",
       "      <td>n</td>\n",
       "      <td>S</td>\n",
       "    </tr>\n",
       "    <tr>\n",
       "      <th>878</th>\n",
       "      <td>879</td>\n",
       "      <td>0</td>\n",
       "      <td>class3</td>\n",
       "      <td>Laleff, Mr. Kristo</td>\n",
       "      <td>male</td>\n",
       "      <td>NaN</td>\n",
       "      <td>0</td>\n",
       "      <td>0</td>\n",
       "      <td>349217</td>\n",
       "      <td>7.8958</td>\n",
       "      <td>n</td>\n",
       "      <td>S</td>\n",
       "    </tr>\n",
       "    <tr>\n",
       "      <th>888</th>\n",
       "      <td>889</td>\n",
       "      <td>0</td>\n",
       "      <td>class3</td>\n",
       "      <td>Johnston, Miss. Catherine Helen \"Carrie\"</td>\n",
       "      <td>female</td>\n",
       "      <td>NaN</td>\n",
       "      <td>1</td>\n",
       "      <td>2</td>\n",
       "      <td>W./C. 6607</td>\n",
       "      <td>23.4500</td>\n",
       "      <td>n</td>\n",
       "      <td>S</td>\n",
       "    </tr>\n",
       "  </tbody>\n",
       "</table>\n",
       "<p>177 rows × 12 columns</p>\n",
       "</div>"
      ],
      "text/plain": [
       "     PassengerId  Survived  Pclass                                      Name  \\\n",
       "5              6         0  class3                          Moran, Mr. James   \n",
       "17            18         1  class2              Williams, Mr. Charles Eugene   \n",
       "19            20         1  class3                   Masselmani, Mrs. Fatima   \n",
       "26            27         0  class3                   Emir, Mr. Farred Chehab   \n",
       "28            29         1  class3             O'Dwyer, Miss. Ellen \"Nellie\"   \n",
       "..           ...       ...     ...                                       ...   \n",
       "859          860         0  class3                          Razi, Mr. Raihed   \n",
       "863          864         0  class3         Sage, Miss. Dorothy Edith \"Dolly\"   \n",
       "868          869         0  class3               van Melkebeke, Mr. Philemon   \n",
       "878          879         0  class3                        Laleff, Mr. Kristo   \n",
       "888          889         0  class3  Johnston, Miss. Catherine Helen \"Carrie\"   \n",
       "\n",
       "        Sex  Age  SibSp  Parch      Ticket     Fare Cabin Embarked  \n",
       "5      male  NaN      0      0      330877   8.4583     n        Q  \n",
       "17     male  NaN      0      0      244373  13.0000     n        S  \n",
       "19   female  NaN      0      0        2649   7.2250     n        C  \n",
       "26     male  NaN      0      0        2631   7.2250     n        C  \n",
       "28   female  NaN      0      0      330959   7.8792     n        Q  \n",
       "..      ...  ...    ...    ...         ...      ...   ...      ...  \n",
       "859    male  NaN      0      0        2629   7.2292     n        C  \n",
       "863  female  NaN      8      2    CA. 2343  69.5500     n        S  \n",
       "868    male  NaN      0      0      345777   9.5000     n        S  \n",
       "878    male  NaN      0      0      349217   7.8958     n        S  \n",
       "888  female  NaN      1      2  W./C. 6607  23.4500     n        S  \n",
       "\n",
       "[177 rows x 12 columns]"
      ]
     },
     "execution_count": 78,
     "metadata": {},
     "output_type": "execute_result"
    }
   ],
   "source": [
    "# using the index locate missing passangers age\n",
    "titanic_train.loc[missing] # it will show only missing values\n",
    "# now we can remove or we can fill null values"
   ]
  },
  {
   "cell_type": "markdown",
   "id": "8699df75",
   "metadata": {},
   "source": [
    "# find the maximum fare"
   ]
  },
  {
   "cell_type": "code",
   "execution_count": 79,
   "id": "3ac0baac",
   "metadata": {},
   "outputs": [
    {
     "data": {
      "text/plain": [
       "(array([258, 679, 737], dtype=int64),)"
      ]
     },
     "execution_count": 79,
     "metadata": {},
     "output_type": "execute_result"
    }
   ],
   "source": [
    "index=np.where(titanic_train[\"Fare\"]==max(titanic_train[\"Fare\"]))\n",
    "index\n",
    "# here in these index present maximus fare"
   ]
  },
  {
   "cell_type": "code",
   "execution_count": 80,
   "id": "c9c82084",
   "metadata": {},
   "outputs": [
    {
     "data": {
      "text/html": [
       "<div>\n",
       "<style scoped>\n",
       "    .dataframe tbody tr th:only-of-type {\n",
       "        vertical-align: middle;\n",
       "    }\n",
       "\n",
       "    .dataframe tbody tr th {\n",
       "        vertical-align: top;\n",
       "    }\n",
       "\n",
       "    .dataframe thead th {\n",
       "        text-align: right;\n",
       "    }\n",
       "</style>\n",
       "<table border=\"1\" class=\"dataframe\">\n",
       "  <thead>\n",
       "    <tr style=\"text-align: right;\">\n",
       "      <th></th>\n",
       "      <th>PassengerId</th>\n",
       "      <th>Survived</th>\n",
       "      <th>Pclass</th>\n",
       "      <th>Name</th>\n",
       "      <th>Sex</th>\n",
       "      <th>Age</th>\n",
       "      <th>SibSp</th>\n",
       "      <th>Parch</th>\n",
       "      <th>Ticket</th>\n",
       "      <th>Fare</th>\n",
       "      <th>Cabin</th>\n",
       "      <th>Embarked</th>\n",
       "    </tr>\n",
       "  </thead>\n",
       "  <tbody>\n",
       "    <tr>\n",
       "      <th>258</th>\n",
       "      <td>259</td>\n",
       "      <td>1</td>\n",
       "      <td>class1</td>\n",
       "      <td>Ward, Miss. Anna</td>\n",
       "      <td>female</td>\n",
       "      <td>35.0</td>\n",
       "      <td>0</td>\n",
       "      <td>0</td>\n",
       "      <td>PC 17755</td>\n",
       "      <td>512.3292</td>\n",
       "      <td>n</td>\n",
       "      <td>C</td>\n",
       "    </tr>\n",
       "    <tr>\n",
       "      <th>679</th>\n",
       "      <td>680</td>\n",
       "      <td>1</td>\n",
       "      <td>class1</td>\n",
       "      <td>Cardeza, Mr. Thomas Drake Martinez</td>\n",
       "      <td>male</td>\n",
       "      <td>36.0</td>\n",
       "      <td>0</td>\n",
       "      <td>1</td>\n",
       "      <td>PC 17755</td>\n",
       "      <td>512.3292</td>\n",
       "      <td>B</td>\n",
       "      <td>C</td>\n",
       "    </tr>\n",
       "    <tr>\n",
       "      <th>737</th>\n",
       "      <td>738</td>\n",
       "      <td>1</td>\n",
       "      <td>class1</td>\n",
       "      <td>Lesurer, Mr. Gustave J</td>\n",
       "      <td>male</td>\n",
       "      <td>35.0</td>\n",
       "      <td>0</td>\n",
       "      <td>0</td>\n",
       "      <td>PC 17755</td>\n",
       "      <td>512.3292</td>\n",
       "      <td>B</td>\n",
       "      <td>C</td>\n",
       "    </tr>\n",
       "  </tbody>\n",
       "</table>\n",
       "</div>"
      ],
      "text/plain": [
       "     PassengerId  Survived  Pclass                                Name  \\\n",
       "258          259         1  class1                    Ward, Miss. Anna   \n",
       "679          680         1  class1  Cardeza, Mr. Thomas Drake Martinez   \n",
       "737          738         1  class1              Lesurer, Mr. Gustave J   \n",
       "\n",
       "        Sex   Age  SibSp  Parch    Ticket      Fare Cabin Embarked  \n",
       "258  female  35.0      0      0  PC 17755  512.3292     n        C  \n",
       "679    male  36.0      0      1  PC 17755  512.3292     B        C  \n",
       "737    male  35.0      0      0  PC 17755  512.3292     B        C  "
      ]
     },
     "execution_count": 80,
     "metadata": {},
     "output_type": "execute_result"
    }
   ],
   "source": [
    "titanic_train.loc[index]"
   ]
  },
  {
   "cell_type": "code",
   "execution_count": 81,
   "id": "1c334c96",
   "metadata": {},
   "outputs": [
    {
     "data": {
      "text/html": [
       "<div>\n",
       "<style scoped>\n",
       "    .dataframe tbody tr th:only-of-type {\n",
       "        vertical-align: middle;\n",
       "    }\n",
       "\n",
       "    .dataframe tbody tr th {\n",
       "        vertical-align: top;\n",
       "    }\n",
       "\n",
       "    .dataframe thead th {\n",
       "        text-align: right;\n",
       "    }\n",
       "</style>\n",
       "<table border=\"1\" class=\"dataframe\">\n",
       "  <thead>\n",
       "    <tr style=\"text-align: right;\">\n",
       "      <th></th>\n",
       "      <th>PassengerId</th>\n",
       "      <th>Survived</th>\n",
       "      <th>Pclass</th>\n",
       "      <th>Name</th>\n",
       "      <th>Sex</th>\n",
       "      <th>Age</th>\n",
       "      <th>SibSp</th>\n",
       "      <th>Parch</th>\n",
       "      <th>Ticket</th>\n",
       "      <th>Fare</th>\n",
       "      <th>Cabin</th>\n",
       "      <th>Embarked</th>\n",
       "      <th>Family</th>\n",
       "    </tr>\n",
       "  </thead>\n",
       "  <tbody>\n",
       "    <tr>\n",
       "      <th>159</th>\n",
       "      <td>160</td>\n",
       "      <td>0</td>\n",
       "      <td>class3</td>\n",
       "      <td>Sage, Master. Thomas Henry</td>\n",
       "      <td>male</td>\n",
       "      <td>NaN</td>\n",
       "      <td>8</td>\n",
       "      <td>2</td>\n",
       "      <td>CA. 2343</td>\n",
       "      <td>69.55</td>\n",
       "      <td>n</td>\n",
       "      <td>S</td>\n",
       "      <td>10</td>\n",
       "    </tr>\n",
       "    <tr>\n",
       "      <th>180</th>\n",
       "      <td>181</td>\n",
       "      <td>0</td>\n",
       "      <td>class3</td>\n",
       "      <td>Sage, Miss. Constance Gladys</td>\n",
       "      <td>female</td>\n",
       "      <td>NaN</td>\n",
       "      <td>8</td>\n",
       "      <td>2</td>\n",
       "      <td>CA. 2343</td>\n",
       "      <td>69.55</td>\n",
       "      <td>n</td>\n",
       "      <td>S</td>\n",
       "      <td>10</td>\n",
       "    </tr>\n",
       "    <tr>\n",
       "      <th>201</th>\n",
       "      <td>202</td>\n",
       "      <td>0</td>\n",
       "      <td>class3</td>\n",
       "      <td>Sage, Mr. Frederick</td>\n",
       "      <td>male</td>\n",
       "      <td>NaN</td>\n",
       "      <td>8</td>\n",
       "      <td>2</td>\n",
       "      <td>CA. 2343</td>\n",
       "      <td>69.55</td>\n",
       "      <td>n</td>\n",
       "      <td>S</td>\n",
       "      <td>10</td>\n",
       "    </tr>\n",
       "    <tr>\n",
       "      <th>324</th>\n",
       "      <td>325</td>\n",
       "      <td>0</td>\n",
       "      <td>class3</td>\n",
       "      <td>Sage, Mr. George John Jr</td>\n",
       "      <td>male</td>\n",
       "      <td>NaN</td>\n",
       "      <td>8</td>\n",
       "      <td>2</td>\n",
       "      <td>CA. 2343</td>\n",
       "      <td>69.55</td>\n",
       "      <td>n</td>\n",
       "      <td>S</td>\n",
       "      <td>10</td>\n",
       "    </tr>\n",
       "    <tr>\n",
       "      <th>792</th>\n",
       "      <td>793</td>\n",
       "      <td>0</td>\n",
       "      <td>class3</td>\n",
       "      <td>Sage, Miss. Stella Anna</td>\n",
       "      <td>female</td>\n",
       "      <td>NaN</td>\n",
       "      <td>8</td>\n",
       "      <td>2</td>\n",
       "      <td>CA. 2343</td>\n",
       "      <td>69.55</td>\n",
       "      <td>n</td>\n",
       "      <td>S</td>\n",
       "      <td>10</td>\n",
       "    </tr>\n",
       "    <tr>\n",
       "      <th>846</th>\n",
       "      <td>847</td>\n",
       "      <td>0</td>\n",
       "      <td>class3</td>\n",
       "      <td>Sage, Mr. Douglas Bullen</td>\n",
       "      <td>male</td>\n",
       "      <td>NaN</td>\n",
       "      <td>8</td>\n",
       "      <td>2</td>\n",
       "      <td>CA. 2343</td>\n",
       "      <td>69.55</td>\n",
       "      <td>n</td>\n",
       "      <td>S</td>\n",
       "      <td>10</td>\n",
       "    </tr>\n",
       "    <tr>\n",
       "      <th>863</th>\n",
       "      <td>864</td>\n",
       "      <td>0</td>\n",
       "      <td>class3</td>\n",
       "      <td>Sage, Miss. Dorothy Edith \"Dolly\"</td>\n",
       "      <td>female</td>\n",
       "      <td>NaN</td>\n",
       "      <td>8</td>\n",
       "      <td>2</td>\n",
       "      <td>CA. 2343</td>\n",
       "      <td>69.55</td>\n",
       "      <td>n</td>\n",
       "      <td>S</td>\n",
       "      <td>10</td>\n",
       "    </tr>\n",
       "  </tbody>\n",
       "</table>\n",
       "</div>"
      ],
      "text/plain": [
       "     PassengerId  Survived  Pclass                               Name     Sex  \\\n",
       "159          160         0  class3         Sage, Master. Thomas Henry    male   \n",
       "180          181         0  class3       Sage, Miss. Constance Gladys  female   \n",
       "201          202         0  class3                Sage, Mr. Frederick    male   \n",
       "324          325         0  class3           Sage, Mr. George John Jr    male   \n",
       "792          793         0  class3            Sage, Miss. Stella Anna  female   \n",
       "846          847         0  class3           Sage, Mr. Douglas Bullen    male   \n",
       "863          864         0  class3  Sage, Miss. Dorothy Edith \"Dolly\"  female   \n",
       "\n",
       "     Age  SibSp  Parch    Ticket   Fare Cabin Embarked  Family  \n",
       "159  NaN      8      2  CA. 2343  69.55     n        S      10  \n",
       "180  NaN      8      2  CA. 2343  69.55     n        S      10  \n",
       "201  NaN      8      2  CA. 2343  69.55     n        S      10  \n",
       "324  NaN      8      2  CA. 2343  69.55     n        S      10  \n",
       "792  NaN      8      2  CA. 2343  69.55     n        S      10  \n",
       "846  NaN      8      2  CA. 2343  69.55     n        S      10  \n",
       "863  NaN      8      2  CA. 2343  69.55     n        S      10  "
      ]
     },
     "execution_count": 81,
     "metadata": {},
     "output_type": "execute_result"
    }
   ],
   "source": [
    "# finding the faming who has highest member\n",
    "# siblings and parch are siblings and parents \\guardeans  respectively add both of them create columns\n",
    "titanic_train[\"Family\"]=titanic_train[\"SibSp\"]+titanic_train[\"Parch\"]\n",
    "#print(titanic_train[\"Family\"])\n",
    "most_family=np.where(titanic_train[\"Family\"]==max(titanic_train[\"Family\"])) # it will return the index \n",
    "titanic_train.loc[most_family]"
   ]
  },
  {
   "cell_type": "markdown",
   "id": "bb23996e",
   "metadata": {},
   "source": [
    "# Seres manipulation"
   ]
  },
  {
   "cell_type": "code",
   "execution_count": 82,
   "id": "aa885f42",
   "metadata": {},
   "outputs": [],
   "source": [
    "# you can give your own index names\n",
    "ser1=pd.Series(data=[1,2,3,4],index=['CA','OR','CO','AZ'])"
   ]
  },
  {
   "cell_type": "code",
   "execution_count": 83,
   "id": "09319f7b",
   "metadata": {},
   "outputs": [
    {
     "data": {
      "text/plain": [
       "CA    1\n",
       "OR    2\n",
       "CO    3\n",
       "AZ    4\n",
       "dtype: int64"
      ]
     },
     "execution_count": 83,
     "metadata": {},
     "output_type": "execute_result"
    }
   ],
   "source": [
    "ser1"
   ]
  },
  {
   "cell_type": "code",
   "execution_count": 84,
   "id": "00366296",
   "metadata": {},
   "outputs": [],
   "source": [
    "# you can ignore writing data and index parameter pandas will understand accordingly\n",
    "ser2=pd.Series([1,2,3,5],['CA','OR','NV','AZ'])"
   ]
  },
  {
   "cell_type": "code",
   "execution_count": 85,
   "id": "1852afdf",
   "metadata": {},
   "outputs": [
    {
     "data": {
      "text/plain": [
       "CA    1\n",
       "OR    2\n",
       "NV    3\n",
       "AZ    5\n",
       "dtype: int64"
      ]
     },
     "execution_count": 85,
     "metadata": {},
     "output_type": "execute_result"
    }
   ],
   "source": [
    "ser2"
   ]
  },
  {
   "cell_type": "code",
   "execution_count": 86,
   "id": "8551855d",
   "metadata": {},
   "outputs": [
    {
     "name": "stdout",
     "output_type": "stream",
     "text": [
      "\n",
      " indexing by name of the iteam / object (string identifier)\n",
      "--------------------------------------------------\n",
      "value for CA in ser1: 1\n",
      "value for AZ in ser1: 4\n",
      "value for NV in ser2: 3\n"
     ]
    }
   ],
   "source": [
    "print(\"\\n indexing by name of the iteam / object (string identifier)\\n\",'-'*50,sep='')\n",
    "print(\"value for CA in ser1:\",ser1['CA'])\n",
    "print(\"value for AZ in ser1:\",ser1['AZ'])\n",
    "print(\"value for NV in ser2:\",ser2['NV'])"
   ]
  },
  {
   "cell_type": "code",
   "execution_count": 87,
   "id": "27d2e3e7",
   "metadata": {},
   "outputs": [
    {
     "name": "stdout",
     "output_type": "stream",
     "text": [
      "\n",
      " indexing by no. (Positional value in the Series)\n",
      "--------------------------------------------------\n",
      "Value for CA in ser1: 1\n",
      "Value for CA in ser1: 4\n",
      "Value for CA in ser1: 3\n"
     ]
    }
   ],
   "source": [
    "#you can also fetch elements by its positional index\n",
    "print(\"\\n indexing by no. (Positional value in the Series)\\n\",'-'*50,sep='')\n",
    "print(\"Value for CA in ser1:\",ser1[0])\n",
    "print(\"Value for CA in ser1:\",ser1[3])\n",
    "print(\"Value for CA in ser1:\",ser2[2])"
   ]
  },
  {
   "cell_type": "code",
   "execution_count": 88,
   "id": "efcc3725",
   "metadata": {},
   "outputs": [
    {
     "name": "stdout",
     "output_type": "stream",
     "text": [
      "\n",
      " indexing by range \n",
      "-------------------------\n",
      "value for OR,CO,and AZ in ser1:\n",
      "OR    2\n",
      "CO    3\n",
      "AZ    4\n",
      "dtype: int64\n"
     ]
    }
   ],
   "source": [
    "print(\"\\n indexing by range \\n\",'-'*25,sep='')\n",
    "print(\"value for OR,CO,and AZ in ser1:\\n\",ser1[1:4],sep='')"
   ]
  },
  {
   "cell_type": "code",
   "execution_count": 89,
   "id": "06dd5a70",
   "metadata": {},
   "outputs": [
    {
     "data": {
      "text/plain": [
       "CA     1\n",
       "OR     2\n",
       "CO     3\n",
       "AZ     4\n",
       "NV    10\n",
       "dtype: int64"
      ]
     },
     "execution_count": 89,
     "metadata": {},
     "output_type": "execute_result"
    }
   ],
   "source": [
    "ser1=pd.Series([1,2,3,4,10],['CA','OR','CO','AZ','NV'])\n",
    "ser1"
   ]
  },
  {
   "cell_type": "code",
   "execution_count": 90,
   "id": "8c8fd240",
   "metadata": {},
   "outputs": [
    {
     "data": {
      "text/plain": [
       "CA     1\n",
       "OR     2\n",
       "NV     5\n",
       "PA     4\n",
       "CO    30\n",
       "dtype: int64"
      ]
     },
     "execution_count": 90,
     "metadata": {},
     "output_type": "execute_result"
    }
   ],
   "source": [
    "ser2=pd.Series([1,2,5,4,30],['CA','OR','NV','PA','CO'])\n",
    "ser2"
   ]
  },
  {
   "cell_type": "code",
   "execution_count": 91,
   "id": "d2480319",
   "metadata": {},
   "outputs": [],
   "source": [
    "ser3=ser1+ser2"
   ]
  },
  {
   "cell_type": "code",
   "execution_count": 92,
   "id": "30cd03f6",
   "metadata": {},
   "outputs": [
    {
     "name": "stdout",
     "output_type": "stream",
     "text": [
      "\n",
      " After adding the two series the result will look like this...\n",
      "--------------------------------------------------\n",
      "AZ     NaN\n",
      "CA     2.0\n",
      "CO    33.0\n",
      "NV    15.0\n",
      "OR     4.0\n",
      "PA     NaN\n",
      "dtype: float64\n"
     ]
    }
   ],
   "source": [
    "print(\"\\n After adding the two series the result will look like this...\\n\",'-'*50,sep='')\n",
    "print(ser3)"
   ]
  },
  {
   "cell_type": "code",
   "execution_count": 93,
   "id": "b5501453",
   "metadata": {},
   "outputs": [
    {
     "name": "stdout",
     "output_type": "stream",
     "text": [
      "\n",
      " python tries to add values where it find common index name and keep Nan where index are missing \n"
     ]
    }
   ],
   "source": [
    "print(\"\\n python tries to add values where it find common index name and keep Nan where index are missing \")"
   ]
  },
  {
   "cell_type": "markdown",
   "id": "b40a2486",
   "metadata": {},
   "source": [
    "# DataFrame Manipulation"
   ]
  },
  {
   "cell_type": "code",
   "execution_count": 94,
   "id": "e43e5d8a",
   "metadata": {},
   "outputs": [
    {
     "data": {
      "text/plain": [
       "matrix([[ 22,  66, 140],\n",
       "        [ 42,  70, 148],\n",
       "        [ 30,  62, 125],\n",
       "        [ 35,  68, 160],\n",
       "        [ 25,  62, 152]])"
      ]
     },
     "execution_count": 94,
     "metadata": {},
     "output_type": "execute_result"
    }
   ],
   "source": [
    "matrix_data=np.matrix('22,66,140;42,70,148;30,62,125;35,68,160;25,62,152')\n",
    "matrix_data"
   ]
  },
  {
   "cell_type": "code",
   "execution_count": 95,
   "id": "ba227d61",
   "metadata": {},
   "outputs": [
    {
     "data": {
      "text/plain": [
       "dtype('int32')"
      ]
     },
     "execution_count": 95,
     "metadata": {},
     "output_type": "execute_result"
    }
   ],
   "source": [
    "matrix_data.dtype"
   ]
  },
  {
   "cell_type": "code",
   "execution_count": 96,
   "id": "d5159d74",
   "metadata": {},
   "outputs": [],
   "source": [
    "row_label=['Raju','pandey','Srini','Sunil','Ashok']\n",
    "columns_heading=['Age','Height','Weight']"
   ]
  },
  {
   "cell_type": "code",
   "execution_count": 97,
   "id": "f52ea058",
   "metadata": {},
   "outputs": [
    {
     "data": {
      "text/html": [
       "<div>\n",
       "<style scoped>\n",
       "    .dataframe tbody tr th:only-of-type {\n",
       "        vertical-align: middle;\n",
       "    }\n",
       "\n",
       "    .dataframe tbody tr th {\n",
       "        vertical-align: top;\n",
       "    }\n",
       "\n",
       "    .dataframe thead th {\n",
       "        text-align: right;\n",
       "    }\n",
       "</style>\n",
       "<table border=\"1\" class=\"dataframe\">\n",
       "  <thead>\n",
       "    <tr style=\"text-align: right;\">\n",
       "      <th></th>\n",
       "      <th>Age</th>\n",
       "      <th>Height</th>\n",
       "      <th>Weight</th>\n",
       "    </tr>\n",
       "  </thead>\n",
       "  <tbody>\n",
       "    <tr>\n",
       "      <th>Raju</th>\n",
       "      <td>22</td>\n",
       "      <td>66</td>\n",
       "      <td>140</td>\n",
       "    </tr>\n",
       "    <tr>\n",
       "      <th>pandey</th>\n",
       "      <td>42</td>\n",
       "      <td>70</td>\n",
       "      <td>148</td>\n",
       "    </tr>\n",
       "    <tr>\n",
       "      <th>Srini</th>\n",
       "      <td>30</td>\n",
       "      <td>62</td>\n",
       "      <td>125</td>\n",
       "    </tr>\n",
       "    <tr>\n",
       "      <th>Sunil</th>\n",
       "      <td>35</td>\n",
       "      <td>68</td>\n",
       "      <td>160</td>\n",
       "    </tr>\n",
       "    <tr>\n",
       "      <th>Ashok</th>\n",
       "      <td>25</td>\n",
       "      <td>62</td>\n",
       "      <td>152</td>\n",
       "    </tr>\n",
       "  </tbody>\n",
       "</table>\n",
       "</div>"
      ],
      "text/plain": [
       "        Age  Height  Weight\n",
       "Raju     22      66     140\n",
       "pandey   42      70     148\n",
       "Srini    30      62     125\n",
       "Sunil    35      68     160\n",
       "Ashok    25      62     152"
      ]
     },
     "execution_count": 97,
     "metadata": {},
     "output_type": "execute_result"
    }
   ],
   "source": [
    "df3=pd.DataFrame(data=matrix_data,index=row_label,columns=columns_heading)\n",
    "df3"
   ]
  },
  {
   "cell_type": "code",
   "execution_count": 98,
   "id": "815ce8cd",
   "metadata": {},
   "outputs": [
    {
     "name": "stdout",
     "output_type": "stream",
     "text": [
      "\n",
      " The 'Height'column \n",
      "-------------------------\n",
      "Raju      66\n",
      "pandey    70\n",
      "Srini     62\n",
      "Sunil     68\n",
      "Ashok     62\n",
      "Name: Height, dtype: int32\n"
     ]
    }
   ],
   "source": [
    "print(\"\\n The 'Height'column \\n\",'-'*25,sep='')\n",
    "print(df3['Height'])"
   ]
  },
  {
   "cell_type": "code",
   "execution_count": 99,
   "id": "45b77fa1",
   "metadata": {},
   "outputs": [
    {
     "name": "stdout",
     "output_type": "stream",
     "text": [
      "\n",
      " type of the column index by passing a list \n",
      "-------------------------------------------------------\n",
      "        Height  Weight\n",
      "Raju        66     140\n",
      "pandey      70     148\n",
      "Srini       62     125\n",
      "Sunil       68     160\n",
      "Ashok       62     152\n"
     ]
    }
   ],
   "source": [
    "print(\"\\n type of the column index by passing a list \\n\",'-'*55,sep='')\n",
    "print(df3[['Height','Weight']])"
   ]
  },
  {
   "cell_type": "code",
   "execution_count": 100,
   "id": "c0abed11",
   "metadata": {},
   "outputs": [
    {
     "name": "stdout",
     "output_type": "stream",
     "text": [
      "\n",
      " the age column access by dot method (Not recommendation)\n",
      "-------------------------------------------------------\n",
      "Raju      22\n",
      "pandey    42\n",
      "Srini     30\n",
      "Sunil     35\n",
      "Ashok     25\n",
      "Name: Age, dtype: int32\n"
     ]
    }
   ],
   "source": [
    "print(\"\\n the age column access by dot method (Not recommendation)\\n\",'-'*55,sep='')\n",
    "print(df3.Age) # by this we can access only one column at 1 time"
   ]
  },
  {
   "cell_type": "markdown",
   "id": "01334451",
   "metadata": {},
   "source": [
    "Lets understand skicing perticular elements"
   ]
  },
  {
   "cell_type": "code",
   "execution_count": 101,
   "id": "b1bcebd0",
   "metadata": {},
   "outputs": [
    {
     "data": {
      "text/plain": [
       "Age        22\n",
       "Height     66\n",
       "Weight    140\n",
       "Name: Raju, dtype: int32"
      ]
     },
     "execution_count": 101,
     "metadata": {},
     "output_type": "execute_result"
    }
   ],
   "source": [
    "# select perticular index data using loc(index name)\n",
    "df3.loc['Raju']"
   ]
  },
  {
   "cell_type": "code",
   "execution_count": 102,
   "id": "0dd80975",
   "metadata": {},
   "outputs": [
    {
     "data": {
      "text/plain": [
       "Age        22\n",
       "Height     66\n",
       "Weight    140\n",
       "Name: Raju, dtype: int32"
      ]
     },
     "execution_count": 102,
     "metadata": {},
     "output_type": "execute_result"
    }
   ],
   "source": [
    "# select perticular index data using iloc (index possition)\n",
    "df3.iloc[0]"
   ]
  },
  {
   "cell_type": "code",
   "execution_count": 103,
   "id": "078d2b0d",
   "metadata": {},
   "outputs": [
    {
     "name": "stdout",
     "output_type": "stream",
     "text": [
      "        Age  Height  Weight\n",
      "Raju     22      66     140\n",
      "pandey   42      70     148\n",
      "Srini    30      62     125\n",
      "Sunil    35      68     160\n",
      "Ashok    25      62     152\n"
     ]
    }
   ],
   "source": [
    "print(df3)"
   ]
  },
  {
   "cell_type": "code",
   "execution_count": 104,
   "id": "36ea8b6e",
   "metadata": {},
   "outputs": [
    {
     "name": "stdout",
     "output_type": "stream",
     "text": [
      "\n",
      " select index column for a perticular data \n",
      "\n",
      "70\n"
     ]
    }
   ],
   "source": [
    "print(\"\\n select index column for a perticular data \\n\")\n",
    "print(df3.loc['pandey','Height'])"
   ]
  },
  {
   "cell_type": "code",
   "execution_count": 105,
   "id": "f951ef0f",
   "metadata": {},
   "outputs": [
    {
     "name": "stdout",
     "output_type": "stream",
     "text": [
      "\n",
      " select index and list of the column data \n",
      "\n",
      "Height     62\n",
      "Weight    152\n",
      "Name: Ashok, dtype: int32\n"
     ]
    }
   ],
   "source": [
    "print(\"\\n select index and list of the column data \\n\")\n",
    "print(df3.loc['Ashok',['Height','Weight']])"
   ]
  },
  {
   "cell_type": "code",
   "execution_count": 106,
   "id": "b5a0c531",
   "metadata": {},
   "outputs": [
    {
     "name": "stdout",
     "output_type": "stream",
     "text": [
      "\n",
      " select index the column data \n",
      "\n",
      "       Height  Weight\n",
      "Srini      62     125\n",
      "Sunil      68     160\n"
     ]
    }
   ],
   "source": [
    "print(\"\\n select index the column data \\n\")\n",
    "print(df3.loc[['Srini','Sunil'],['Height','Weight']])"
   ]
  },
  {
   "cell_type": "markdown",
   "id": "11d31ba3",
   "metadata": {},
   "source": [
    "# Select data on Condition"
   ]
  },
  {
   "cell_type": "code",
   "execution_count": 107,
   "id": "d545d55e",
   "metadata": {},
   "outputs": [
    {
     "name": "stdout",
     "output_type": "stream",
     "text": [
      "\n",
      " Rows with Height > 65 inch \n",
      "-----------------------------------\n",
      "        Age  Height  Weight\n",
      "Raju     22      66     140\n",
      "pandey   42      70     148\n",
      "Sunil    35      68     160\n"
     ]
    }
   ],
   "source": [
    "print(\"\\n Rows with Height > 65 inch \\n\",'-'*35,sep='')\n",
    "print(df3[df3['Height']>65])"
   ]
  },
  {
   "cell_type": "code",
   "execution_count": 108,
   "id": "967f9311",
   "metadata": {},
   "outputs": [],
   "source": [
    "booldf1=df3['Height']>65\n",
    "booldf2=df3['Weight']>145"
   ]
  },
  {
   "cell_type": "code",
   "execution_count": 109,
   "id": "a3bb0818",
   "metadata": {},
   "outputs": [
    {
     "name": "stdout",
     "output_type": "stream",
     "text": [
      "\n",
      " Rows with Height > 65 inch & weight >145 lbs  \n",
      "-----------------------------------\n",
      "        Age  Height  Weight\n",
      "pandey   42      70     148\n",
      "Sunil    35      68     160\n"
     ]
    }
   ],
   "source": [
    "print(\"\\n Rows with Height > 65 inch & weight >145 lbs  \\n\",'-'*35,sep='')\n",
    "print(df3[(booldf1)&(booldf2)])"
   ]
  },
  {
   "cell_type": "code",
   "execution_count": 110,
   "id": "a8e831c4",
   "metadata": {},
   "outputs": [
    {
     "name": "stdout",
     "output_type": "stream",
     "text": [
      "\n",
      " after resetting index \n",
      "-----------------------------------\n",
      "    index  Age  Height  Weight\n",
      "0    Raju   22      66     140\n",
      "1  pandey   42      70     148\n",
      "2   Srini   30      62     125\n",
      "3   Sunil   35      68     160\n",
      "4   Ashok   25      62     152\n"
     ]
    }
   ],
   "source": [
    "print(\"\\n after resetting index \\n\",'-'*35,sep='')\n",
    "print(df3.reset_index()) # now remove index name"
   ]
  },
  {
   "cell_type": "code",
   "execution_count": 111,
   "id": "99410510",
   "metadata": {},
   "outputs": [
    {
     "name": "stdout",
     "output_type": "stream",
     "text": [
      "\n",
      " rows with age <35 years \n",
      "-----------------------------------\n",
      "       Age  Height  Weight\n",
      "Raju    22      66     140\n",
      "Srini   30      62     125\n",
      "Ashok   25      62     152\n"
     ]
    }
   ],
   "source": [
    "print(\"\\n rows with age <35 years \\n\",'-'*35,sep='')\n",
    "df4=df3[df3['Age']<35]\n",
    "print(df4)"
   ]
  },
  {
   "cell_type": "code",
   "execution_count": 112,
   "id": "49841f89",
   "metadata": {},
   "outputs": [
    {
     "name": "stdout",
     "output_type": "stream",
     "text": [
      "\n",
      " after resetting index with drop option True \n",
      "-----------------------------------\n",
      "   Age  Height  Weight\n",
      "0   22      66     140\n",
      "1   42      70     148\n",
      "2   30      62     125\n",
      "3   35      68     160\n",
      "4   25      62     152\n"
     ]
    }
   ],
   "source": [
    "print(\"\\n after resetting index with drop option True \\n\",'-'*35,sep='')\n",
    "print(df3.reset_index(drop=True))"
   ]
  },
  {
   "cell_type": "code",
   "execution_count": 113,
   "id": "669fa12c",
   "metadata": {},
   "outputs": [
    {
     "name": "stdout",
     "output_type": "stream",
     "text": [
      "\n",
      " adding a new column 'Profession' \n",
      "-----------------------------------\n",
      "        Age  Height  Weight  Profession\n",
      "Raju     22      66     140     Student\n",
      "pandey   42      70     148     Teacher\n",
      "Srini    30      62     125    Engineer\n",
      "Sunil    35      68     160     Manager\n",
      "Ashok    25      62     152  Accountant\n"
     ]
    }
   ],
   "source": [
    "print(\"\\n adding a new column 'Profession' \\n\",'-'*35,sep='')\n",
    "df3['Profession']=\"Student Teacher Engineer Manager Accountant\".split()\n",
    "print(df3)"
   ]
  },
  {
   "cell_type": "code",
   "execution_count": 114,
   "id": "eeaeeccb",
   "metadata": {},
   "outputs": [
    {
     "name": "stdout",
     "output_type": "stream",
     "text": [
      "\n",
      " settig 'Profession' columns index \n",
      "-----------------------------------\n",
      "            Age  Height  Weight\n",
      "Profession                     \n",
      "Student      22      66     140\n",
      "Teacher      42      70     148\n",
      "Engineer     30      62     125\n",
      "Manager      35      68     160\n",
      "Accountant   25      62     152\n"
     ]
    }
   ],
   "source": [
    "print(\"\\n settig 'Profession' columns index \\n\",'-'*35,sep='')\n",
    "print(df3.set_index('Profession'))"
   ]
  },
  {
   "cell_type": "code",
   "execution_count": 136,
   "id": "0342f866",
   "metadata": {},
   "outputs": [],
   "source": [
    "# finding null values"
   ]
  },
  {
   "cell_type": "code",
   "execution_count": 137,
   "id": "dd3377fb",
   "metadata": {},
   "outputs": [
    {
     "data": {
      "text/html": [
       "<div>\n",
       "<style scoped>\n",
       "    .dataframe tbody tr th:only-of-type {\n",
       "        vertical-align: middle;\n",
       "    }\n",
       "\n",
       "    .dataframe tbody tr th {\n",
       "        vertical-align: top;\n",
       "    }\n",
       "\n",
       "    .dataframe thead th {\n",
       "        text-align: right;\n",
       "    }\n",
       "</style>\n",
       "<table border=\"1\" class=\"dataframe\">\n",
       "  <thead>\n",
       "    <tr style=\"text-align: right;\">\n",
       "      <th></th>\n",
       "      <th>Name</th>\n",
       "      <th>Gender</th>\n",
       "      <th>Section</th>\n",
       "      <th>Class</th>\n",
       "      <th>Phone_number</th>\n",
       "      <th>Location</th>\n",
       "      <th>email_present</th>\n",
       "      <th>Door_number</th>\n",
       "      <th>Street_name</th>\n",
       "      <th>Pin_code</th>\n",
       "      <th>State</th>\n",
       "      <th>Dad_name</th>\n",
       "    </tr>\n",
       "  </thead>\n",
       "  <tbody>\n",
       "    <tr>\n",
       "      <th>0</th>\n",
       "      <td>Ramesh</td>\n",
       "      <td>NaN</td>\n",
       "      <td>a</td>\n",
       "      <td>5.0</td>\n",
       "      <td>NaN</td>\n",
       "      <td>Bengaluru</td>\n",
       "      <td>Y</td>\n",
       "      <td>NaN</td>\n",
       "      <td>abc</td>\n",
       "      <td>5.0</td>\n",
       "      <td>NaN</td>\n",
       "      <td>xyz</td>\n",
       "    </tr>\n",
       "    <tr>\n",
       "      <th>1</th>\n",
       "      <td>Raghav</td>\n",
       "      <td>M</td>\n",
       "      <td>d</td>\n",
       "      <td>12.0</td>\n",
       "      <td>9886409.0</td>\n",
       "      <td>Noida</td>\n",
       "      <td>N</td>\n",
       "      <td>555.0</td>\n",
       "      <td>def</td>\n",
       "      <td>12.0</td>\n",
       "      <td>UP</td>\n",
       "      <td>def</td>\n",
       "    </tr>\n",
       "    <tr>\n",
       "      <th>2</th>\n",
       "      <td>NaN</td>\n",
       "      <td>M</td>\n",
       "      <td>c</td>\n",
       "      <td>NaN</td>\n",
       "      <td>8561729.0</td>\n",
       "      <td>Hedrabad</td>\n",
       "      <td>NaN</td>\n",
       "      <td>345.0</td>\n",
       "      <td>ghi</td>\n",
       "      <td>NaN</td>\n",
       "      <td>Telangana</td>\n",
       "      <td>ghi</td>\n",
       "    </tr>\n",
       "    <tr>\n",
       "      <th>3</th>\n",
       "      <td>NaN</td>\n",
       "      <td>F</td>\n",
       "      <td>e</td>\n",
       "      <td>NaN</td>\n",
       "      <td>NaN</td>\n",
       "      <td>NaN</td>\n",
       "      <td>NaN</td>\n",
       "      <td>444.0</td>\n",
       "      <td>xyz</td>\n",
       "      <td>NaN</td>\n",
       "      <td>NaN</td>\n",
       "      <td>NaN</td>\n",
       "    </tr>\n",
       "  </tbody>\n",
       "</table>\n",
       "</div>"
      ],
      "text/plain": [
       "     Name Gender Section  Class  Phone_number   Location email_present  \\\n",
       "0  Ramesh    NaN       a    5.0           NaN  Bengaluru             Y   \n",
       "1  Raghav      M       d   12.0     9886409.0      Noida             N   \n",
       "2     NaN      M       c    NaN     8561729.0   Hedrabad           NaN   \n",
       "3     NaN      F       e    NaN           NaN        NaN           NaN   \n",
       "\n",
       "   Door_number Street_name  Pin_code      State Dad_name  \n",
       "0          NaN         abc       5.0        NaN      xyz  \n",
       "1        555.0         def      12.0         UP      def  \n",
       "2        345.0         ghi       NaN  Telangana      ghi  \n",
       "3        444.0         xyz       NaN        NaN      NaN  "
      ]
     },
     "execution_count": 137,
     "metadata": {},
     "output_type": "execute_result"
    }
   ],
   "source": [
    "#create dataFrame\n",
    "df2=pd.DataFrame({\n",
    "    'Name':['Ramesh','Raghav',np.nan,np.nan],\n",
    "    'Gender':[np.nan,'M','M','F'],\n",
    "    'Section':['a','d','c','e'],\n",
    "    'Class':[5,12,np.nan,np.nan],\n",
    "    'Phone_number':[np.nan,9886409,8561729,np.nan],\n",
    "    'Location':['Bengaluru','Noida','Hedrabad',np.nan],\n",
    "    'email_present':['Y','N',np.nan,np.nan],\n",
    "    'Door_number':[np.nan,555,345,444],\n",
    "    'Street_name':['abc','def','ghi','xyz'],\n",
    "    'Pin_code':[5,12,np.nan,np.nan],\n",
    "    'State':[np.nan,'UP','Telangana',np.nan],\n",
    "    'Dad_name':['xyz','def','ghi',np.nan]})\n",
    "df2"
   ]
  },
  {
   "cell_type": "code",
   "execution_count": 138,
   "id": "29c17660",
   "metadata": {},
   "outputs": [
    {
     "data": {
      "text/plain": [
       "Name             2\n",
       "Gender           1\n",
       "Section          0\n",
       "Class            2\n",
       "Phone_number     2\n",
       "Location         1\n",
       "email_present    2\n",
       "Door_number      1\n",
       "Street_name      0\n",
       "Pin_code         2\n",
       "State            2\n",
       "Dad_name         1\n",
       "dtype: int64"
      ]
     },
     "execution_count": 138,
     "metadata": {},
     "output_type": "execute_result"
    }
   ],
   "source": [
    "df2.isnull().sum()"
   ]
  },
  {
   "cell_type": "code",
   "execution_count": null,
   "id": "b68f49dc",
   "metadata": {},
   "outputs": [],
   "source": []
  }
 ],
 "metadata": {
  "kernelspec": {
   "display_name": "Python 3 (ipykernel)",
   "language": "python",
   "name": "python3"
  },
  "language_info": {
   "codemirror_mode": {
    "name": "ipython",
    "version": 3
   },
   "file_extension": ".py",
   "mimetype": "text/x-python",
   "name": "python",
   "nbconvert_exporter": "python",
   "pygments_lexer": "ipython3",
   "version": "3.11.5"
  }
 },
 "nbformat": 4,
 "nbformat_minor": 5
}
